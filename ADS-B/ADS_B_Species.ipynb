{
  "nbformat": 4,
  "nbformat_minor": 0,
  "metadata": {
    "colab": {
      "name": "ADS-B-Species.ipynb",
      "provenance": []
    },
    "kernelspec": {
      "name": "python3",
      "display_name": "Python 3"
    },
    "language_info": {
      "name": "python"
    }
  },
  "cells": [
    {
      "cell_type": "markdown",
      "metadata": {
        "id": "Ox64VPifHR5p"
      },
      "source": [
        "# Setup"
      ]
    },
    {
      "cell_type": "markdown",
      "metadata": {
        "id": "5UXW_rVLyuDU"
      },
      "source": [
        "Allows for Google Colab to access Drive Files"
      ]
    },
    {
      "cell_type": "code",
      "metadata": {
        "colab": {
          "base_uri": "https://localhost:8080/"
        },
        "id": "rTTEfIKk0gtm",
        "outputId": "becfde9c-a377-4766-84e5-227ff115e01b"
      },
      "source": [
        "from google.colab import drive\n",
        "drive.mount('/content/drive')\n",
        "\n",
        "!pip install dask[dataframe]"
      ],
      "execution_count": null,
      "outputs": [
        {
          "output_type": "stream",
          "text": [
            "Mounted at /content/drive\n",
            "Requirement already satisfied: dask[dataframe] in /usr/local/lib/python3.7/dist-packages (2.12.0)\n",
            "Requirement already satisfied: toolz>=0.7.3; extra == \"dataframe\" in /usr/local/lib/python3.7/dist-packages (from dask[dataframe]) (0.11.1)\n",
            "Collecting partd>=0.3.10; extra == \"dataframe\"\n",
            "  Downloading https://files.pythonhosted.org/packages/41/94/360258a68b55f47859d72b2d0b2b3cfe0ca4fbbcb81b78812bd00ae86b7c/partd-1.2.0-py3-none-any.whl\n",
            "Collecting fsspec>=0.6.0; extra == \"dataframe\"\n",
            "\u001b[?25l  Downloading https://files.pythonhosted.org/packages/e9/91/2ef649137816850fa4f4c97c6f2eabb1a79bf0aa2c8ed198e387e373455e/fsspec-2021.4.0-py3-none-any.whl (108kB)\n",
            "\u001b[K     |████████████████████████████████| 112kB 6.5MB/s \n",
            "\u001b[?25hRequirement already satisfied: pandas>=0.23.0; extra == \"dataframe\" in /usr/local/lib/python3.7/dist-packages (from dask[dataframe]) (1.1.5)\n",
            "Requirement already satisfied: numpy>=1.13.0; extra == \"dataframe\" in /usr/local/lib/python3.7/dist-packages (from dask[dataframe]) (1.19.5)\n",
            "Collecting locket\n",
            "  Downloading https://files.pythonhosted.org/packages/50/b8/e789e45b9b9c2db75e9d9e6ceb022c8d1d7e49b2c085ce8c05600f90a96b/locket-0.2.1-py2.py3-none-any.whl\n",
            "Requirement already satisfied: python-dateutil>=2.7.3 in /usr/local/lib/python3.7/dist-packages (from pandas>=0.23.0; extra == \"dataframe\"->dask[dataframe]) (2.8.1)\n",
            "Requirement already satisfied: pytz>=2017.2 in /usr/local/lib/python3.7/dist-packages (from pandas>=0.23.0; extra == \"dataframe\"->dask[dataframe]) (2018.9)\n",
            "Requirement already satisfied: six>=1.5 in /usr/local/lib/python3.7/dist-packages (from python-dateutil>=2.7.3->pandas>=0.23.0; extra == \"dataframe\"->dask[dataframe]) (1.15.0)\n",
            "Installing collected packages: locket, partd, fsspec\n",
            "Successfully installed fsspec-2021.4.0 locket-0.2.1 partd-1.2.0\n"
          ],
          "name": "stdout"
        }
      ]
    },
    {
      "cell_type": "markdown",
      "metadata": {
        "id": "aWZA2pXazDjZ"
      },
      "source": [
        "Loads in all data as 1 pandas dataframe (usually take a bit to execute)"
      ]
    },
    {
      "cell_type": "code",
      "metadata": {
        "colab": {
          "base_uri": "https://localhost:8080/"
        },
        "id": "zbgeFIVk04Mu",
        "outputId": "975e763a-a7d5-497a-9437-7a0a4a14278c"
      },
      "source": [
        "import dask.dataframe as dd\n",
        "import numpy as np\n",
        "import pandas as pd\n",
        "import time\n",
        "\n",
        "file = '/content/drive/MyDrive/parsed_adsb_csvs/*.csv'\n",
        "cols = ['Icao','Alt', 'Lat','Long', 'PosTime', 'Species']\n",
        "# read data frame from csv files\n",
        "train_df = dd.read_csv(file, dtype = {'Alt': 'uint16', 'Lat': 'float32', 'Long': 'float32', 'PosTime': 'int64', 'Species': 'uint8'}, usecols = cols) \n",
        "\n",
        "train_df = train_df.compute()\n",
        "print(train_df)\n"
      ],
      "execution_count": null,
      "outputs": [
        {
          "output_type": "stream",
          "text": [
            "         Icao    Alt        Lat        Long        PosTime  Species\n",
            "0      A82B72   3500  39.717903  -84.619019  1596672029381        1\n",
            "1      A80E46  31000  61.336498 -140.995438  1596672028022        1\n",
            "2      A4E2E5    700  42.145557  -72.719398  1596672029830        1\n",
            "3      A4BDB9  15600  33.516727  -79.442421  1596672029378        1\n",
            "4      A4C3CE    650  32.965118  -96.833878  1596672030885        1\n",
            "...       ...    ...        ...         ...            ...      ...\n",
            "21479  C821F8  17975 -41.125225  175.051468  1596758412576        1\n",
            "21480  C8234A  18500 -37.852840  174.806625  1596758411374        1\n",
            "21481  ACC040  28000  42.272324  -87.846115  1596758411880        1\n",
            "21482  A7D222   6900  29.646700  -98.126343  1596757702853        1\n",
            "21483  345292  32000  51.857941    5.114062  1596758411877        1\n",
            "\n",
            "[29374631 rows x 6 columns]\n"
          ],
          "name": "stdout"
        }
      ]
    },
    {
      "cell_type": "markdown",
      "metadata": {
        "id": "Duv2nVMWzRk9"
      },
      "source": [
        "Arrange in order of the Icao number"
      ]
    },
    {
      "cell_type": "code",
      "metadata": {
        "colab": {
          "base_uri": "https://localhost:8080/"
        },
        "id": "Xftglcmg2Q1Y",
        "outputId": "c6145ee6-0b70-42b6-9ea0-36dee2b43d59"
      },
      "source": [
        "\n",
        "train_df = train_df.sort_values(by=['Icao', 'PosTime'])\n",
        "train_df = train_df.reset_index(drop = True)\n",
        "print(train_df)"
      ],
      "execution_count": null,
      "outputs": [
        {
          "output_type": "stream",
          "text": [
            "            Icao   Alt        Lat       Long        PosTime  Species\n",
            "0         001000  2175  48.106934  11.258926  1596721377840        1\n",
            "1         001000  2175  48.106934  11.258926  1596721392353        1\n",
            "2         001000  2175  48.106934  11.258926  1596721394847        1\n",
            "3         001000  2175  48.109818  11.264557  1596721444191        1\n",
            "4         001000  2175  48.105652  11.257416  1596721470866        1\n",
            "...          ...   ...        ...        ...            ...      ...\n",
            "29374626  F00000   450  49.149822   2.394817  1596742711592        1\n",
            "29374627  F00000   300  49.149822   2.394817  1596742711592        1\n",
            "29374628  F00000   200  49.149822   2.394817  1596742711592        1\n",
            "29374629  F00000   175  49.149822   2.394817  1596742711592        1\n",
            "29374630  F00000   175  49.149822   2.394817  1596742711592        1\n",
            "\n",
            "[29374631 rows x 6 columns]\n"
          ],
          "name": "stdout"
        }
      ]
    },
    {
      "cell_type": "markdown",
      "metadata": {
        "id": "3I1wWRBgzXm6"
      },
      "source": [
        "Perform min- max normalization"
      ]
    },
    {
      "cell_type": "code",
      "metadata": {
        "colab": {
          "base_uri": "https://localhost:8080/"
        },
        "id": "ZVApr6Rv2gKG",
        "outputId": "52102d25-b3e0-4948-a7a2-f6992dbf83c9"
      },
      "source": [
        "max_lat = train_df['Lat'].max()\n",
        "min_lat = train_df['Lat'].min()\n",
        "max_lon = train_df['Long'].max()\n",
        "min_lon = train_df['Long'].min()\n",
        "max_alt = train_df['Alt'].max()\n",
        "min_alt = train_df['Alt'].min()\n",
        "\n",
        "\n",
        "train_df['Lat'] = (train_df['Lat']- min_lat) / (max_lat - min_lat)\n",
        "train_df['Long'] = (train_df['Long']- min_lon) / (max_lon - min_lon)\n",
        "train_df['Alt'] = (train_df['Alt']- min_alt) / (max_alt - min_alt)\n",
        "print(train_df)"
      ],
      "execution_count": null,
      "outputs": [
        {
          "output_type": "stream",
          "text": [
            "            Icao       Alt       Lat      Long        PosTime  Species\n",
            "0         001000  0.033188  0.844904  0.531295  1596721377840        1\n",
            "1         001000  0.033188  0.844904  0.531295  1596721392353        1\n",
            "2         001000  0.033188  0.844904  0.531295  1596721394847        1\n",
            "3         001000  0.033188  0.844915  0.531311  1596721444191        1\n",
            "4         001000  0.033188  0.844899  0.531291  1596721470866        1\n",
            "...          ...       ...       ...       ...            ...      ...\n",
            "29374626  F00000  0.006867  0.848767  0.506672  1596742711592        1\n",
            "29374627  F00000  0.004578  0.848767  0.506672  1596742711592        1\n",
            "29374628  F00000  0.003052  0.848767  0.506672  1596742711592        1\n",
            "29374629  F00000  0.002670  0.848767  0.506672  1596742711592        1\n",
            "29374630  F00000  0.002670  0.848767  0.506672  1596742711592        1\n",
            "\n",
            "[29374631 rows x 6 columns]\n"
          ],
          "name": "stdout"
        }
      ]
    },
    {
      "cell_type": "markdown",
      "metadata": {
        "id": "g5fvdXnszkTz"
      },
      "source": [
        "Get percentage of Vessel Types in data frame"
      ]
    },
    {
      "cell_type": "code",
      "metadata": {
        "colab": {
          "base_uri": "https://localhost:8080/"
        },
        "id": "VsT6jkqZ2kHQ",
        "outputId": "2d612518-89a1-4111-e3a8-9011e2c51fcc"
      },
      "source": [
        "\n",
        "print(train_df['Species'].value_counts(normalize=True) * 100)\n",
        "\n",
        "Percentages = train_df['Species'].value_counts(normalize=True) * 100\n",
        "print(Percentages)"
      ],
      "execution_count": null,
      "outputs": [
        {
          "output_type": "stream",
          "text": [
            "1    96.127958\n",
            "4     3.742764\n",
            "3     0.068059\n",
            "5     0.051207\n",
            "6     0.010012\n",
            "Name: Species, dtype: float64\n",
            "1    96.127958\n",
            "4     3.742764\n",
            "3     0.068059\n",
            "5     0.051207\n",
            "6     0.010012\n",
            "Name: Species, dtype: float64\n"
          ],
          "name": "stdout"
        }
      ]
    },
    {
      "cell_type": "markdown",
      "metadata": {
        "id": "fkBxelStTcgB"
      },
      "source": [
        "\n",
        "# Model"
      ]
    },
    {
      "cell_type": "code",
      "metadata": {
        "colab": {
          "base_uri": "https://localhost:8080/"
        },
        "id": "99-KAQJlRLSP",
        "outputId": "e150549b-65d5-4f30-ed37-5a9e1c08f7d8"
      },
      "source": [
        "Species_List = [1,3,4]\n",
        "#remove rows from species 5&6\n",
        "train_df = train_df[train_df['Species'].isin(Species_List)]\n",
        "type_dict = {1:0, 4:1, 3:2}\n",
        "train_df['Species'].replace(type_dict, inplace = True)\n",
        "train_df = train_df.reset_index(drop = True)\n",
        "print(train_df['Species'].value_counts(normalize=True) * 100)\n",
        "print(train_df)"
      ],
      "execution_count": null,
      "outputs": [
        {
          "output_type": "stream",
          "text": [
            "0    96.186843\n",
            "1     3.745056\n",
            "2     0.068100\n",
            "Name: Species, dtype: float64\n",
            "            Icao       Alt       Lat      Long        PosTime  Species\n",
            "0         001000  0.033188  0.844904  0.531295  1596721377840        0\n",
            "1         001000  0.033188  0.844904  0.531295  1596721392353        0\n",
            "2         001000  0.033188  0.844904  0.531295  1596721394847        0\n",
            "3         001000  0.033188  0.844915  0.531311  1596721444191        0\n",
            "4         001000  0.033188  0.844899  0.531291  1596721470866        0\n",
            "...          ...       ...       ...       ...            ...      ...\n",
            "29356643  F00000  0.006867  0.848767  0.506672  1596742711592        0\n",
            "29356644  F00000  0.004578  0.848767  0.506672  1596742711592        0\n",
            "29356645  F00000  0.003052  0.848767  0.506672  1596742711592        0\n",
            "29356646  F00000  0.002670  0.848767  0.506672  1596742711592        0\n",
            "29356647  F00000  0.002670  0.848767  0.506672  1596742711592        0\n",
            "\n",
            "[29356648 rows x 6 columns]\n"
          ],
          "name": "stdout"
        }
      ]
    },
    {
      "cell_type": "code",
      "metadata": {
        "colab": {
          "base_uri": "https://localhost:8080/"
        },
        "id": "JCkEsX7CTcgj",
        "outputId": "c79d40d4-be2d-4eca-9a93-ea94d8f03097"
      },
      "source": [
        "#turn train dataframe into a multi-dimensional numpy array\n",
        "train_df = np.array(list(train_df.groupby('Icao').apply(pd.DataFrame.to_numpy)))\n",
        "\n",
        "print(train_df.shape)\n",
        "train_count = train_df.shape[0]\n",
        "print(train_count)"
      ],
      "execution_count": null,
      "outputs": [
        {
          "output_type": "stream",
          "text": [
            "/usr/local/lib/python3.7/dist-packages/ipykernel_launcher.py:2: VisibleDeprecationWarning: Creating an ndarray from ragged nested sequences (which is a list-or-tuple of lists-or-tuples-or ndarrays with different lengths or shapes) is deprecated. If you meant to do this, you must specify 'dtype=object' when creating the ndarray\n",
            "  \n"
          ],
          "name": "stderr"
        },
        {
          "output_type": "stream",
          "text": [
            "(50071,)\n",
            "50071\n"
          ],
          "name": "stdout"
        }
      ]
    },
    {
      "cell_type": "code",
      "metadata": {
        "colab": {
          "base_uri": "https://localhost:8080/"
        },
        "id": "0ejVWHAoTcgk",
        "outputId": "612740f7-cd91-4d17-df56-d5173e9e1860"
      },
      "source": [
        "#load in first dataframe\n",
        "train_input = pd.DataFrame(data = train_df[4], columns = [\"Icao\", \"Alt\",\"Lat\", \"Long\",\"PosTime\", \"Species\"], index = None)\n",
        "train_input['Time'] = pd.to_datetime(train_input['PosTime'],unit='ms')\n",
        "train_input = train_input.set_index('Time')\n",
        "train_input = train_input.drop('PosTime', axis = 1)\n",
        "train_input = train_input.drop('Icao', axis = 1)\n",
        "print(train_input)\n",
        "#Get Species Type\n",
        "unique_species = train_input.Species[0]\n",
        "print(unique_species)"
      ],
      "execution_count": null,
      "outputs": [
        {
          "output_type": "stream",
          "text": [
            "                               Alt       Lat      Long Species\n",
            "Time                                                          \n",
            "2020-08-06 07:34:55.274   0.077821  0.570471  0.577568       0\n",
            "2020-08-06 07:35:07.326  0.0789654  0.570457  0.577557       0\n",
            "2020-08-06 07:35:31.462  0.0789654  0.570446  0.577549       0\n",
            "2020-08-06 07:35:36.293  0.0789654  0.570446  0.577549       0\n",
            "2020-08-06 07:35:36.293  0.0789654  0.570446  0.577549       0\n",
            "...                            ...       ...       ...     ...\n",
            "2020-08-06 15:41:24.882  0.0804913  0.571008  0.577433       0\n",
            "2020-08-06 15:41:24.882  0.0804913  0.571008  0.577433       0\n",
            "2020-08-06 15:48:30.146  0.0793469  0.570518  0.577572       0\n",
            "2020-08-06 15:48:39.992  0.0804913   0.57053  0.577587       0\n",
            "2020-08-06 15:48:39.992  0.0804913   0.57053  0.577587       0\n",
            "\n",
            "[201 rows x 4 columns]\n",
            "0\n"
          ],
          "name": "stdout"
        }
      ]
    },
    {
      "cell_type": "code",
      "metadata": {
        "colab": {
          "base_uri": "https://localhost:8080/"
        },
        "id": "2eq80h-_Tcgk",
        "outputId": "2473476f-08ac-4ef9-d0ce-be54c0c45bfd"
      },
      "source": [
        "#Resampling/Interpolating\n",
        "norm_train_df = pd.DataFrame()\n",
        "norm_train_df['Lat'] = train_input.Lat.resample('5T').last()\n",
        "norm_train_df['Long'] = train_input.Long.resample('5T').last()\n",
        "norm_train_df['Alt'] = train_input.Alt.resample('5T').last()\n",
        "norm_train_df['Lat'] = pd.to_numeric(norm_train_df['Lat'], errors='coerce')\n",
        "norm_train_df['Long'] = pd.to_numeric(norm_train_df['Long'], errors='coerce')\n",
        "norm_train_df['Alt'] = pd.to_numeric(norm_train_df['Alt'], errors='coerce')\n",
        "norm_train_df = norm_train_df.interpolate(method='spline', order=3, s=0.)\n",
        "norm_train_df.reset_index(inplace = True)\n",
        "#norm_train_df['Alt'] = norm_train_df['Alt'].clip(0)\n",
        "norm_train_df = norm_train_df.iloc[0:73]\n",
        "print(norm_train_df)"
      ],
      "execution_count": null,
      "outputs": [
        {
          "output_type": "stream",
          "text": [
            "                  Time       Lat      Long       Alt\n",
            "0  2020-08-06 07:30:00  0.570471  0.577568  0.077821\n",
            "1  2020-08-06 07:35:00  0.570446  0.577549  0.078965\n",
            "2  2020-08-06 07:40:00  0.570541  0.577507  0.078202\n",
            "3  2020-08-06 07:45:00  0.570466  0.577541  0.078584\n",
            "4  2020-08-06 07:50:00  0.570452  0.577545  0.078965\n",
            "..                 ...       ...       ...       ...\n",
            "68 2020-08-06 13:10:00  0.572265  0.580598  0.066191\n",
            "69 2020-08-06 13:15:00  0.572310  0.580571  0.065826\n",
            "70 2020-08-06 13:20:00  0.572348  0.580534  0.065575\n",
            "71 2020-08-06 13:25:00  0.572381  0.580485  0.065450\n",
            "72 2020-08-06 13:30:00  0.572406  0.580425  0.065460\n",
            "\n",
            "[73 rows x 4 columns]\n"
          ],
          "name": "stdout"
        }
      ]
    },
    {
      "cell_type": "code",
      "metadata": {
        "colab": {
          "base_uri": "https://localhost:8080/"
        },
        "id": "wIemSNkgTcgl",
        "outputId": "679a1280-56a2-4ec8-a889-f00572794e9f"
      },
      "source": [
        "#add species to label list\n",
        "train_labels = []\n",
        "train_labels.append(unique_species)\n",
        "print(train_labels)\n",
        "#convert dataframe to numpy\n",
        "norm_train_df = norm_train_df.drop('Time', axis = 1)\n",
        "norm_train_df = norm_train_df.to_numpy()\n",
        "print(norm_train_df)\n",
        "final_input_train = norm_train_df\n",
        "print(final_input_train.shape)\n",
        "final_input_train = np.reshape(final_input_train, (1,73,3))\n",
        "print(final_input_train.shape)"
      ],
      "execution_count": null,
      "outputs": [
        {
          "output_type": "stream",
          "text": [
            "[0]\n",
            "[[0.57047081 0.57756847 0.07782101]\n",
            " [0.57044649 0.5775491  0.07896544]\n",
            " [0.57054144 0.57750708 0.07820249]\n",
            " [0.5704658  0.57754093 0.07858396]\n",
            " [0.57045233 0.5775454  0.07896544]\n",
            " [0.57048124 0.57752782 0.07858396]\n",
            " [0.57042021 0.57742244 0.07972839]\n",
            " [0.57044011 0.57752955 0.07896544]\n",
            " [0.5704692  0.57754183 0.07934691]\n",
            " [0.57046342 0.57752645 0.07934691]\n",
            " [0.57046199 0.57755584 0.07934691]\n",
            " [0.57044059 0.57754016 0.08010986]\n",
            " [0.57043159 0.57753521 0.08010986]\n",
            " [0.57049078 0.57750815 0.07858396]\n",
            " [0.57055104 0.57747464 0.07706896]\n",
            " [0.57059288 0.57744333 0.07596602]\n",
            " [0.57061848 0.57741485 0.07523251]\n",
            " [0.57062998 0.57738987 0.0748258 ]\n",
            " [0.57062955 0.57736903 0.07470325]\n",
            " [0.57061935 0.57735299 0.07482225]\n",
            " [0.57060153 0.57734239 0.07514015]\n",
            " [0.57057825 0.57733788 0.07561433]\n",
            " [0.57055167 0.57734012 0.07620215]\n",
            " [0.57052396 0.57734976 0.07686099]\n",
            " [0.57049726 0.57736744 0.07754822]\n",
            " [0.57047375 0.57739382 0.0782212 ]\n",
            " [0.57045557 0.57742954 0.07883731]\n",
            " [0.57044489 0.57747527 0.07935392]\n",
            " [0.57044387 0.57753164 0.07972839]\n",
            " [0.57043171 0.57757884 0.08049134]\n",
            " [0.57039893 0.57754618 0.08163577]\n",
            " [0.57051682 0.57751048 0.07820249]\n",
            " [0.57045531 0.57760358 0.07972839]\n",
            " [0.57042158 0.57753563 0.08087282]\n",
            " [0.57032907 0.57741809 0.08087282]\n",
            " [0.57041842 0.57739824 0.08010986]\n",
            " [0.5704363  0.57753056 0.08087282]\n",
            " [0.57042771 0.57769556 0.08192844]\n",
            " [0.57042804 0.5778589  0.08278947]\n",
            " [0.57043681 0.57802031 0.08346561]\n",
            " [0.57045355 0.5781795  0.08396653]\n",
            " [0.57047781 0.57833619 0.08430193]\n",
            " [0.5705091  0.57849011 0.0844815 ]\n",
            " [0.57054698 0.57864097 0.08451493]\n",
            " [0.57059096 0.57878849 0.08441189]\n",
            " [0.57064058 0.57893239 0.08418209]\n",
            " [0.57069538 0.57907239 0.0838352 ]\n",
            " [0.57075488 0.57920821 0.08338093]\n",
            " [0.57081862 0.57933957 0.08282895]\n",
            " [0.57088614 0.57946619 0.08218895]\n",
            " [0.57095697 0.5795878  0.08147063]\n",
            " [0.57103063 0.5797041  0.08068366]\n",
            " [0.57110666 0.57981481 0.07983775]\n",
            " [0.5711846  0.57991967 0.07894258]\n",
            " [0.57126398 0.58001839 0.07800783]\n",
            " [0.57134433 0.58011068 0.07704319]\n",
            " [0.57142518 0.58019627 0.07605836]\n",
            " [0.57150607 0.58027487 0.07506301]\n",
            " [0.57158653 0.58034621 0.07406685]\n",
            " [0.57166609 0.58041001 0.07307955]\n",
            " [0.57174429 0.58046598 0.07211081]\n",
            " [0.57182065 0.58051385 0.07117031]\n",
            " [0.57189472 0.58055333 0.07026775]\n",
            " [0.57196602 0.58058414 0.0694128 ]\n",
            " [0.57203409 0.58060601 0.06861517]\n",
            " [0.57209847 0.58061865 0.06788453]\n",
            " [0.57215867 0.58062179 0.06723058]\n",
            " [0.57221424 0.58061513 0.066663  ]\n",
            " [0.57226471 0.58059841 0.06619148]\n",
            " [0.57230961 0.58057134 0.06582571]\n",
            " [0.57234848 0.58053364 0.06557539]\n",
            " [0.57238085 0.58048504 0.06545018]\n",
            " [0.57240625 0.58042524 0.0654598 ]]\n",
            "(73, 3)\n",
            "(1, 73, 3)\n"
          ],
          "name": "stdout"
        }
      ]
    },
    {
      "cell_type": "code",
      "metadata": {
        "colab": {
          "base_uri": "https://localhost:8080/"
        },
        "id": "-ji19cJbTcgm",
        "outputId": "b3a5e1d7-4cd9-4a8c-ed8a-0d7340a8bae7"
      },
      "source": [
        "for j in range(5,50071):\n",
        "    try:\n",
        "        train_input = pd.DataFrame(data = train_df[j], columns = [\"Icao\",\"Alt\",\"Lat\", \"Long\",\"PosTime\", \"Species\"], index = None)\n",
        "        train_input['Time'] = pd.to_datetime(train_input['PosTime'],unit='ms')\n",
        "        train_input = train_input.set_index('Time')\n",
        "        train_input = train_input.drop('PosTime', axis = 1)\n",
        "        unique_species = train_input.Species[0]\n",
        "        norm_train_df = pd.DataFrame()\n",
        "        norm_train_df['Lat'] = train_input.Lat.resample('5T').last()\n",
        "        norm_train_df['Long'] = train_input.Long.resample('5T').last()\n",
        "        norm_train_df['Alt'] = train_input.Alt.resample('5T').last()\n",
        "        norm_train_df['Lat'] = pd.to_numeric(norm_train_df['Lat'], errors='coerce')\n",
        "        norm_train_df['Long'] = pd.to_numeric(norm_train_df['Long'], errors='coerce')\n",
        "        norm_train_df['Alt'] = pd.to_numeric(norm_train_df['Alt'], errors='coerce')\n",
        "        norm_train_df = norm_train_df.interpolate(method='spline', order=3, s=0.)\n",
        "        norm_train_df.reset_index(inplace = True)\n",
        "        #norm_train_df['Alt'] = norm_train_df['Alt'].clip(0)\n",
        "        norm_train_df = norm_train_df.iloc[0:73]\n",
        "        norm_train_df = norm_train_df.drop('Time', axis = 1)\n",
        "        norm_train_df = norm_train_df.to_numpy()\n",
        "        norm_train_df = np.reshape(norm_train_df, (1,73,3))\n",
        "        final_input_train = np.append(final_input_train, norm_train_df, axis = 0)\n",
        "        train_labels.append(unique_species)\n",
        "    except:\n",
        "        pass\n",
        "        \n",
        "print(final_input_train.shape)\n",
        "print(len(train_labels))"
      ],
      "execution_count": null,
      "outputs": [
        {
          "output_type": "stream",
          "text": [
            "(23362, 73, 3)\n",
            "23362\n"
          ],
          "name": "stdout"
        }
      ]
    },
    {
      "cell_type": "code",
      "metadata": {
        "colab": {
          "base_uri": "https://localhost:8080/"
        },
        "id": "AHN4cFuYNKBv",
        "outputId": "a189eacc-210b-4be8-ab2e-fb45aac6e7e6"
      },
      "source": [
        "unique = list(dict.fromkeys(train_labels))\n",
        "print(unique)"
      ],
      "execution_count": null,
      "outputs": [
        {
          "output_type": "stream",
          "text": [
            "[0, 1, 2]\n"
          ],
          "name": "stdout"
        }
      ]
    },
    {
      "cell_type": "code",
      "metadata": {
        "colab": {
          "base_uri": "https://localhost:8080/"
        },
        "id": "bLTTCL3OMJ8I",
        "outputId": "ad7ac51c-2801-403a-bf5c-7becfc53ff99"
      },
      "source": [
        "final_input_test = final_input_train[16353:]\n",
        "arr = list(range(16353,final_input_train.shape[0] ))\n",
        "print(final_input_test.shape)\n",
        "\n",
        "final_input_train = np.delete(final_input_train, arr, 0)\n",
        "print(final_input_train.shape)\n",
        "\n",
        "test_labels = train_labels[16353:]\n",
        "print(len(test_labels))\n",
        "\n",
        "train_labels_final = train_labels[:16353]\n",
        "print(len(train_labels_final))\n",
        "\n",
        "unique = list(dict.fromkeys(test_labels))\n",
        "unique2 = list(dict.fromkeys(train_labels_final))\n",
        "print(unique)\n",
        "print(unique2)"
      ],
      "execution_count": null,
      "outputs": [
        {
          "output_type": "stream",
          "text": [
            "(7009, 73, 3)\n",
            "(16353, 73, 3)\n",
            "7009\n",
            "16353\n",
            "[0, 1, 2]\n",
            "[0, 1, 2]\n"
          ],
          "name": "stdout"
        }
      ]
    },
    {
      "cell_type": "code",
      "metadata": {
        "colab": {
          "base_uri": "https://localhost:8080/"
        },
        "id": "y9Rgj4SmTcgn",
        "outputId": "852ab898-3330-4141-85ed-fe59c14273fb"
      },
      "source": [
        "\n",
        "\n",
        "from keras.utils.np_utils import to_categorical\n",
        "test_labels = to_categorical(test_labels,num_classes = 3)\n",
        "train_labels_final = to_categorical(train_labels_final,num_classes = 3)\n",
        "print(len(test_labels))\n",
        "print(len(train_labels_final))\n",
        "\n",
        "train_labels_final = np.array(train_labels_final)\n",
        "test_labels = np.array(test_labels)\n",
        "print(train_labels_final)"
      ],
      "execution_count": null,
      "outputs": [
        {
          "output_type": "stream",
          "text": [
            "7009\n",
            "16353\n",
            "[[1. 0. 0.]\n",
            " [1. 0. 0.]\n",
            " [1. 0. 0.]\n",
            " ...\n",
            " [1. 0. 0.]\n",
            " [1. 0. 0.]\n",
            " [1. 0. 0.]]\n"
          ],
          "name": "stdout"
        }
      ]
    },
    {
      "cell_type": "code",
      "metadata": {
        "colab": {
          "base_uri": "https://localhost:8080/"
        },
        "id": "A7F-NyiBTcgo",
        "outputId": "a3852517-1f9c-4f96-fe6e-a879717f7257"
      },
      "source": [
        "from keras.models import Sequential\n",
        "from keras.layers import Dense\n",
        "from keras.layers import Flatten\n",
        "from keras.layers import Dropout\n",
        "from keras.layers.convolutional import Conv1D\n",
        "from keras.layers.convolutional import MaxPooling1D\n",
        "import keras\n",
        "# fit and evaluate a model\n",
        "verbose, epochs, batch_size = 2, 200, 32\n",
        "n_timesteps, n_features, n_outputs = final_input_train.shape[1], final_input_train.shape[2], 3\n",
        "model = Sequential()\n",
        "model.add(Conv1D(filters=64, kernel_size=3, activation='relu', input_shape=(n_timesteps,n_features)))\n",
        "model.add(Conv1D(filters=64, kernel_size=3, activation='relu'))\n",
        "model.add(Conv1D(filters=64, kernel_size=3, activation='relu'))\n",
        "model.add(Dropout(0.5))\n",
        "model.add(MaxPooling1D(pool_size=2))\n",
        "model.add(Flatten())\n",
        "model.add(Dense(100, activation='relu'))\n",
        "model.add(Dense(n_outputs, activation='softmax'))\n",
        "opt = keras.optimizers.Adam(learning_rate=0.0005)\n",
        "model.compile(loss='categorical_crossentropy', optimizer=opt, metrics=['accuracy'])\n",
        "# fit network\n",
        "history =  model.fit(final_input_train, train_labels_final, epochs=epochs, batch_size=batch_size, verbose=verbose, shuffle = True)\n",
        "# evaluate model\n",
        "_, accuracy = model.evaluate(final_input_test, test_labels, batch_size=batch_size, verbose=0)\n",
        "print(accuracy *100)\n"
      ],
      "execution_count": null,
      "outputs": [
        {
          "output_type": "stream",
          "text": [
            "Epoch 1/200\n",
            "512/512 - 9s - loss: 0.2087 - accuracy: 0.9385\n",
            "Epoch 2/200\n",
            "512/512 - 9s - loss: 0.1641 - accuracy: 0.9412\n",
            "Epoch 3/200\n",
            "512/512 - 9s - loss: 0.1616 - accuracy: 0.9412\n",
            "Epoch 4/200\n",
            "512/512 - 9s - loss: 0.1575 - accuracy: 0.9406\n",
            "Epoch 5/200\n",
            "512/512 - 9s - loss: 0.1568 - accuracy: 0.9413\n",
            "Epoch 6/200\n",
            "512/512 - 9s - loss: 0.1572 - accuracy: 0.9413\n",
            "Epoch 7/200\n",
            "512/512 - 9s - loss: 0.1510 - accuracy: 0.9413\n",
            "Epoch 8/200\n",
            "512/512 - 9s - loss: 0.1490 - accuracy: 0.9415\n",
            "Epoch 9/200\n",
            "512/512 - 9s - loss: 0.1470 - accuracy: 0.9414\n",
            "Epoch 10/200\n",
            "512/512 - 9s - loss: 0.1483 - accuracy: 0.9419\n",
            "Epoch 11/200\n",
            "512/512 - 9s - loss: 0.1428 - accuracy: 0.9420\n",
            "Epoch 12/200\n",
            "512/512 - 9s - loss: 0.1423 - accuracy: 0.9420\n",
            "Epoch 13/200\n",
            "512/512 - 9s - loss: 0.1419 - accuracy: 0.9431\n",
            "Epoch 14/200\n",
            "512/512 - 9s - loss: 0.1402 - accuracy: 0.9428\n",
            "Epoch 15/200\n",
            "512/512 - 9s - loss: 0.1379 - accuracy: 0.9436\n",
            "Epoch 16/200\n",
            "512/512 - 9s - loss: 0.1374 - accuracy: 0.9434\n",
            "Epoch 17/200\n",
            "512/512 - 9s - loss: 0.1383 - accuracy: 0.9441\n",
            "Epoch 18/200\n",
            "512/512 - 9s - loss: 0.1345 - accuracy: 0.9457\n",
            "Epoch 19/200\n",
            "512/512 - 9s - loss: 0.1312 - accuracy: 0.9454\n",
            "Epoch 20/200\n",
            "512/512 - 9s - loss: 0.1298 - accuracy: 0.9455\n",
            "Epoch 21/200\n",
            "512/512 - 9s - loss: 0.1297 - accuracy: 0.9465\n",
            "Epoch 22/200\n",
            "512/512 - 9s - loss: 0.1292 - accuracy: 0.9467\n",
            "Epoch 23/200\n",
            "512/512 - 9s - loss: 0.1265 - accuracy: 0.9483\n",
            "Epoch 24/200\n",
            "512/512 - 9s - loss: 0.1258 - accuracy: 0.9472\n",
            "Epoch 25/200\n",
            "512/512 - 9s - loss: 0.1213 - accuracy: 0.9496\n",
            "Epoch 26/200\n",
            "512/512 - 9s - loss: 0.1223 - accuracy: 0.9496\n",
            "Epoch 27/200\n",
            "512/512 - 9s - loss: 0.1186 - accuracy: 0.9510\n",
            "Epoch 28/200\n",
            "512/512 - 9s - loss: 0.1165 - accuracy: 0.9515\n",
            "Epoch 29/200\n",
            "512/512 - 9s - loss: 0.1140 - accuracy: 0.9532\n",
            "Epoch 30/200\n",
            "512/512 - 9s - loss: 0.1115 - accuracy: 0.9536\n",
            "Epoch 31/200\n",
            "512/512 - 9s - loss: 0.1106 - accuracy: 0.9545\n",
            "Epoch 32/200\n",
            "512/512 - 9s - loss: 0.1082 - accuracy: 0.9562\n",
            "Epoch 33/200\n",
            "512/512 - 9s - loss: 0.1075 - accuracy: 0.9548\n",
            "Epoch 34/200\n",
            "512/512 - 9s - loss: 0.1046 - accuracy: 0.9563\n",
            "Epoch 35/200\n",
            "512/512 - 9s - loss: 0.1051 - accuracy: 0.9554\n",
            "Epoch 36/200\n",
            "512/512 - 9s - loss: 0.1091 - accuracy: 0.9549\n",
            "Epoch 37/200\n",
            "512/512 - 9s - loss: 0.1013 - accuracy: 0.9574\n",
            "Epoch 38/200\n",
            "512/512 - 9s - loss: 0.1008 - accuracy: 0.9571\n",
            "Epoch 39/200\n",
            "512/512 - 9s - loss: 0.0974 - accuracy: 0.9582\n",
            "Epoch 40/200\n",
            "512/512 - 9s - loss: 0.0975 - accuracy: 0.9589\n",
            "Epoch 41/200\n",
            "512/512 - 9s - loss: 0.0988 - accuracy: 0.9582\n",
            "Epoch 42/200\n",
            "512/512 - 9s - loss: 0.0950 - accuracy: 0.9590\n",
            "Epoch 43/200\n",
            "512/512 - 9s - loss: 0.0969 - accuracy: 0.9592\n",
            "Epoch 44/200\n",
            "512/512 - 9s - loss: 0.1051 - accuracy: 0.9587\n",
            "Epoch 45/200\n",
            "512/512 - 9s - loss: 0.0935 - accuracy: 0.9607\n",
            "Epoch 46/200\n",
            "512/512 - 9s - loss: 0.0917 - accuracy: 0.9614\n",
            "Epoch 47/200\n",
            "512/512 - 9s - loss: 0.0921 - accuracy: 0.9596\n",
            "Epoch 48/200\n",
            "512/512 - 9s - loss: 0.0895 - accuracy: 0.9620\n",
            "Epoch 49/200\n",
            "512/512 - 9s - loss: 0.0885 - accuracy: 0.9614\n",
            "Epoch 50/200\n",
            "512/512 - 9s - loss: 0.0868 - accuracy: 0.9620\n",
            "Epoch 51/200\n",
            "512/512 - 9s - loss: 0.0856 - accuracy: 0.9634\n",
            "Epoch 52/200\n",
            "512/512 - 9s - loss: 0.0853 - accuracy: 0.9636\n",
            "Epoch 53/200\n",
            "512/512 - 9s - loss: 0.0840 - accuracy: 0.9642\n",
            "Epoch 54/200\n",
            "512/512 - 9s - loss: 0.0842 - accuracy: 0.9651\n",
            "Epoch 55/200\n",
            "512/512 - 9s - loss: 0.0846 - accuracy: 0.9640\n",
            "Epoch 56/200\n",
            "512/512 - 9s - loss: 0.0873 - accuracy: 0.9630\n",
            "Epoch 57/200\n",
            "512/512 - 9s - loss: 0.0829 - accuracy: 0.9667\n",
            "Epoch 58/200\n",
            "512/512 - 9s - loss: 0.0809 - accuracy: 0.9671\n",
            "Epoch 59/200\n",
            "512/512 - 9s - loss: 0.0787 - accuracy: 0.9686\n",
            "Epoch 60/200\n",
            "512/512 - 9s - loss: 0.0778 - accuracy: 0.9679\n",
            "Epoch 61/200\n",
            "512/512 - 9s - loss: 0.0832 - accuracy: 0.9657\n",
            "Epoch 62/200\n",
            "512/512 - 9s - loss: 0.0774 - accuracy: 0.9673\n",
            "Epoch 63/200\n",
            "512/512 - 9s - loss: 0.0931 - accuracy: 0.9666\n",
            "Epoch 64/200\n",
            "512/512 - 9s - loss: 0.1436 - accuracy: 0.9667\n",
            "Epoch 65/200\n",
            "512/512 - 9s - loss: 0.0787 - accuracy: 0.9664\n",
            "Epoch 66/200\n",
            "512/512 - 9s - loss: 0.0724 - accuracy: 0.9716\n",
            "Epoch 67/200\n",
            "512/512 - 9s - loss: 0.0727 - accuracy: 0.9698\n",
            "Epoch 68/200\n",
            "512/512 - 9s - loss: 0.0719 - accuracy: 0.9689\n",
            "Epoch 69/200\n",
            "512/512 - 9s - loss: 0.0695 - accuracy: 0.9707\n",
            "Epoch 70/200\n",
            "512/512 - 9s - loss: 0.0701 - accuracy: 0.9709\n",
            "Epoch 71/200\n",
            "512/512 - 9s - loss: 0.0683 - accuracy: 0.9710\n",
            "Epoch 72/200\n",
            "512/512 - 9s - loss: 0.0704 - accuracy: 0.9703\n",
            "Epoch 73/200\n",
            "512/512 - 9s - loss: 0.0663 - accuracy: 0.9730\n",
            "Epoch 74/200\n",
            "512/512 - 9s - loss: 0.0695 - accuracy: 0.9714\n",
            "Epoch 75/200\n",
            "512/512 - 9s - loss: 0.0674 - accuracy: 0.9717\n",
            "Epoch 76/200\n",
            "512/512 - 9s - loss: 0.0661 - accuracy: 0.9728\n",
            "Epoch 77/200\n",
            "512/512 - 9s - loss: 0.0644 - accuracy: 0.9733\n",
            "Epoch 78/200\n",
            "512/512 - 9s - loss: 0.0686 - accuracy: 0.9733\n",
            "Epoch 79/200\n",
            "512/512 - 9s - loss: 0.0658 - accuracy: 0.9731\n",
            "Epoch 80/200\n",
            "512/512 - 9s - loss: 0.0610 - accuracy: 0.9738\n",
            "Epoch 81/200\n",
            "512/512 - 9s - loss: 0.0629 - accuracy: 0.9752\n",
            "Epoch 82/200\n",
            "512/512 - 9s - loss: 0.0594 - accuracy: 0.9752\n",
            "Epoch 83/200\n",
            "512/512 - 9s - loss: 0.0618 - accuracy: 0.9748\n",
            "Epoch 84/200\n",
            "512/512 - 9s - loss: 0.0603 - accuracy: 0.9749\n",
            "Epoch 85/200\n",
            "512/512 - 9s - loss: 0.0571 - accuracy: 0.9768\n",
            "Epoch 86/200\n",
            "512/512 - 9s - loss: 0.0587 - accuracy: 0.9760\n",
            "Epoch 87/200\n",
            "512/512 - 9s - loss: 0.0590 - accuracy: 0.9759\n",
            "Epoch 88/200\n",
            "512/512 - 9s - loss: 0.0543 - accuracy: 0.9776\n",
            "Epoch 89/200\n",
            "512/512 - 9s - loss: 0.0618 - accuracy: 0.9758\n",
            "Epoch 90/200\n",
            "512/512 - 9s - loss: 0.0578 - accuracy: 0.9780\n",
            "Epoch 91/200\n",
            "512/512 - 9s - loss: 0.0552 - accuracy: 0.9770\n",
            "Epoch 92/200\n",
            "512/512 - 9s - loss: 0.0550 - accuracy: 0.9778\n",
            "Epoch 93/200\n",
            "512/512 - 9s - loss: 0.0540 - accuracy: 0.9776\n",
            "Epoch 94/200\n",
            "512/512 - 9s - loss: 0.0545 - accuracy: 0.9781\n",
            "Epoch 95/200\n",
            "512/512 - 9s - loss: 0.0541 - accuracy: 0.9790\n",
            "Epoch 96/200\n",
            "512/512 - 9s - loss: 0.0558 - accuracy: 0.9782\n",
            "Epoch 97/200\n",
            "512/512 - 9s - loss: 0.0570 - accuracy: 0.9775\n",
            "Epoch 98/200\n",
            "512/512 - 9s - loss: 0.0512 - accuracy: 0.9795\n",
            "Epoch 99/200\n",
            "512/512 - 9s - loss: 0.0537 - accuracy: 0.9793\n",
            "Epoch 100/200\n",
            "512/512 - 9s - loss: 0.0512 - accuracy: 0.9791\n",
            "Epoch 101/200\n",
            "512/512 - 9s - loss: 0.0546 - accuracy: 0.9788\n",
            "Epoch 102/200\n",
            "512/512 - 9s - loss: 0.0477 - accuracy: 0.9807\n",
            "Epoch 103/200\n",
            "512/512 - 9s - loss: 0.0493 - accuracy: 0.9809\n",
            "Epoch 104/200\n",
            "512/512 - 9s - loss: 0.0584 - accuracy: 0.9802\n",
            "Epoch 105/200\n",
            "512/512 - 9s - loss: 0.0524 - accuracy: 0.9793\n",
            "Epoch 106/200\n",
            "512/512 - 9s - loss: 0.0468 - accuracy: 0.9818\n",
            "Epoch 107/200\n",
            "512/512 - 9s - loss: 0.2183 - accuracy: 0.9809\n",
            "Epoch 108/200\n",
            "512/512 - 9s - loss: 0.0471 - accuracy: 0.9818\n",
            "Epoch 109/200\n",
            "512/512 - 9s - loss: 0.0476 - accuracy: 0.9810\n",
            "Epoch 110/200\n",
            "512/512 - 9s - loss: 0.0474 - accuracy: 0.9821\n",
            "Epoch 111/200\n",
            "512/512 - 9s - loss: 0.0439 - accuracy: 0.9824\n",
            "Epoch 112/200\n",
            "512/512 - 9s - loss: 0.0448 - accuracy: 0.9820\n",
            "Epoch 113/200\n",
            "512/512 - 9s - loss: 0.0414 - accuracy: 0.9831\n",
            "Epoch 114/200\n",
            "512/512 - 9s - loss: 0.0432 - accuracy: 0.9840\n",
            "Epoch 115/200\n",
            "512/512 - 9s - loss: 0.0433 - accuracy: 0.9825\n",
            "Epoch 116/200\n",
            "512/512 - 9s - loss: 0.0428 - accuracy: 0.9840\n",
            "Epoch 117/200\n",
            "512/512 - 8s - loss: 0.0390 - accuracy: 0.9852\n",
            "Epoch 118/200\n",
            "512/512 - 9s - loss: 0.0467 - accuracy: 0.9814\n",
            "Epoch 119/200\n",
            "512/512 - 9s - loss: 0.0409 - accuracy: 0.9842\n",
            "Epoch 120/200\n",
            "512/512 - 9s - loss: 0.0468 - accuracy: 0.9828\n",
            "Epoch 121/200\n",
            "512/512 - 9s - loss: 0.0395 - accuracy: 0.9848\n",
            "Epoch 122/200\n",
            "512/512 - 9s - loss: 0.0393 - accuracy: 0.9845\n",
            "Epoch 123/200\n",
            "512/512 - 9s - loss: 0.0420 - accuracy: 0.9830\n",
            "Epoch 124/200\n",
            "512/512 - 9s - loss: 0.0708 - accuracy: 0.9829\n",
            "Epoch 125/200\n",
            "512/512 - 8s - loss: 0.0479 - accuracy: 0.9834\n",
            "Epoch 126/200\n",
            "512/512 - 9s - loss: 0.0374 - accuracy: 0.9848\n",
            "Epoch 127/200\n",
            "512/512 - 9s - loss: 0.0389 - accuracy: 0.9858\n",
            "Epoch 128/200\n",
            "512/512 - 9s - loss: 0.0373 - accuracy: 0.9858\n",
            "Epoch 129/200\n",
            "512/512 - 9s - loss: 0.0383 - accuracy: 0.9863\n",
            "Epoch 130/200\n",
            "512/512 - 9s - loss: 0.0427 - accuracy: 0.9830\n",
            "Epoch 131/200\n",
            "512/512 - 9s - loss: 0.0412 - accuracy: 0.9844\n",
            "Epoch 132/200\n",
            "512/512 - 9s - loss: 0.0389 - accuracy: 0.9842\n",
            "Epoch 133/200\n",
            "512/512 - 9s - loss: 0.0345 - accuracy: 0.9873\n",
            "Epoch 134/200\n",
            "512/512 - 9s - loss: 0.0396 - accuracy: 0.9848\n",
            "Epoch 135/200\n",
            "512/512 - 9s - loss: 0.0378 - accuracy: 0.9845\n",
            "Epoch 136/200\n",
            "512/512 - 9s - loss: 0.0382 - accuracy: 0.9853\n",
            "Epoch 137/200\n",
            "512/512 - 9s - loss: 0.0697 - accuracy: 0.9824\n",
            "Epoch 138/200\n",
            "512/512 - 9s - loss: 0.0388 - accuracy: 0.9850\n",
            "Epoch 139/200\n",
            "512/512 - 9s - loss: 0.0328 - accuracy: 0.9867\n",
            "Epoch 140/200\n",
            "512/512 - 9s - loss: 0.0330 - accuracy: 0.9861\n",
            "Epoch 141/200\n",
            "512/512 - 8s - loss: 0.0346 - accuracy: 0.9871\n",
            "Epoch 142/200\n",
            "512/512 - 9s - loss: 0.0352 - accuracy: 0.9858\n",
            "Epoch 143/200\n",
            "512/512 - 8s - loss: 0.0356 - accuracy: 0.9865\n",
            "Epoch 144/200\n",
            "512/512 - 9s - loss: 0.0311 - accuracy: 0.9879\n",
            "Epoch 145/200\n",
            "512/512 - 9s - loss: 0.0345 - accuracy: 0.9866\n",
            "Epoch 146/200\n",
            "512/512 - 9s - loss: 0.0343 - accuracy: 0.9863\n",
            "Epoch 147/200\n",
            "512/512 - 8s - loss: 0.0417 - accuracy: 0.9867\n",
            "Epoch 148/200\n",
            "512/512 - 9s - loss: 0.0345 - accuracy: 0.9855\n",
            "Epoch 149/200\n",
            "512/512 - 9s - loss: 0.0339 - accuracy: 0.9870\n",
            "Epoch 150/200\n",
            "512/512 - 9s - loss: 0.0352 - accuracy: 0.9862\n",
            "Epoch 151/200\n",
            "512/512 - 9s - loss: 0.0348 - accuracy: 0.9861\n",
            "Epoch 152/200\n",
            "512/512 - 9s - loss: 0.0315 - accuracy: 0.9881\n",
            "Epoch 153/200\n",
            "512/512 - 9s - loss: 0.0319 - accuracy: 0.9880\n",
            "Epoch 154/200\n",
            "512/512 - 9s - loss: 0.0336 - accuracy: 0.9870\n",
            "Epoch 155/200\n",
            "512/512 - 8s - loss: 0.0314 - accuracy: 0.9873\n",
            "Epoch 156/200\n",
            "512/512 - 9s - loss: 0.0336 - accuracy: 0.9870\n",
            "Epoch 157/200\n",
            "512/512 - 9s - loss: 0.0302 - accuracy: 0.9881\n",
            "Epoch 158/200\n",
            "512/512 - 9s - loss: 0.0296 - accuracy: 0.9888\n",
            "Epoch 159/200\n",
            "512/512 - 9s - loss: 0.0339 - accuracy: 0.9881\n",
            "Epoch 160/200\n",
            "512/512 - 9s - loss: 0.0302 - accuracy: 0.9895\n",
            "Epoch 161/200\n",
            "512/512 - 9s - loss: 0.0292 - accuracy: 0.9890\n",
            "Epoch 162/200\n",
            "512/512 - 8s - loss: 0.0368 - accuracy: 0.9872\n",
            "Epoch 163/200\n",
            "512/512 - 9s - loss: 0.0287 - accuracy: 0.9886\n",
            "Epoch 164/200\n",
            "512/512 - 8s - loss: 0.0304 - accuracy: 0.9890\n",
            "Epoch 165/200\n",
            "512/512 - 9s - loss: 0.0298 - accuracy: 0.9885\n",
            "Epoch 166/200\n",
            "512/512 - 8s - loss: 0.0316 - accuracy: 0.9882\n",
            "Epoch 167/200\n",
            "512/512 - 8s - loss: 0.0333 - accuracy: 0.9877\n",
            "Epoch 168/200\n",
            "512/512 - 9s - loss: 0.0292 - accuracy: 0.9889\n",
            "Epoch 169/200\n",
            "512/512 - 9s - loss: 0.0340 - accuracy: 0.9890\n",
            "Epoch 170/200\n",
            "512/512 - 9s - loss: 0.0269 - accuracy: 0.9902\n",
            "Epoch 171/200\n",
            "512/512 - 8s - loss: 0.0319 - accuracy: 0.9880\n",
            "Epoch 172/200\n",
            "512/512 - 8s - loss: 0.0299 - accuracy: 0.9889\n",
            "Epoch 173/200\n",
            "512/512 - 9s - loss: 0.0298 - accuracy: 0.9887\n",
            "Epoch 174/200\n",
            "512/512 - 9s - loss: 0.0278 - accuracy: 0.9896\n",
            "Epoch 175/200\n",
            "512/512 - 9s - loss: 0.0263 - accuracy: 0.9904\n",
            "Epoch 176/200\n",
            "512/512 - 9s - loss: 0.0276 - accuracy: 0.9892\n",
            "Epoch 177/200\n",
            "512/512 - 9s - loss: 0.0258 - accuracy: 0.9898\n",
            "Epoch 178/200\n",
            "512/512 - 9s - loss: 0.0260 - accuracy: 0.9901\n",
            "Epoch 179/200\n",
            "512/512 - 9s - loss: 0.0293 - accuracy: 0.9890\n",
            "Epoch 180/200\n",
            "512/512 - 9s - loss: 0.0275 - accuracy: 0.9895\n",
            "Epoch 181/200\n",
            "512/512 - 9s - loss: 0.0289 - accuracy: 0.9891\n",
            "Epoch 182/200\n",
            "512/512 - 9s - loss: 0.0304 - accuracy: 0.9893\n",
            "Epoch 183/200\n",
            "512/512 - 9s - loss: 0.0273 - accuracy: 0.9896\n",
            "Epoch 184/200\n",
            "512/512 - 9s - loss: 0.0271 - accuracy: 0.9905\n",
            "Epoch 185/200\n",
            "512/512 - 9s - loss: 0.0305 - accuracy: 0.9894\n",
            "Epoch 186/200\n",
            "512/512 - 9s - loss: 0.0252 - accuracy: 0.9913\n",
            "Epoch 187/200\n",
            "512/512 - 9s - loss: 0.0308 - accuracy: 0.9891\n",
            "Epoch 188/200\n",
            "512/512 - 9s - loss: 0.0283 - accuracy: 0.9899\n",
            "Epoch 189/200\n",
            "512/512 - 9s - loss: 0.0251 - accuracy: 0.9907\n",
            "Epoch 190/200\n",
            "512/512 - 9s - loss: 0.0233 - accuracy: 0.9918\n",
            "Epoch 191/200\n",
            "512/512 - 9s - loss: 0.0224 - accuracy: 0.9911\n",
            "Epoch 192/200\n",
            "512/512 - 9s - loss: 0.0251 - accuracy: 0.9915\n",
            "Epoch 193/200\n",
            "512/512 - 9s - loss: 0.0279 - accuracy: 0.9893\n",
            "Epoch 194/200\n",
            "512/512 - 9s - loss: 0.0252 - accuracy: 0.9911\n",
            "Epoch 195/200\n",
            "512/512 - 9s - loss: 0.0273 - accuracy: 0.9895\n",
            "Epoch 196/200\n",
            "512/512 - 9s - loss: 0.0225 - accuracy: 0.9921\n",
            "Epoch 197/200\n",
            "512/512 - 9s - loss: 0.0220 - accuracy: 0.9922\n",
            "Epoch 198/200\n",
            "512/512 - 9s - loss: 0.0376 - accuracy: 0.9889\n",
            "Epoch 199/200\n",
            "512/512 - 9s - loss: 0.0299 - accuracy: 0.9903\n",
            "Epoch 200/200\n",
            "512/512 - 9s - loss: 0.0231 - accuracy: 0.9916\n",
            "91.68212413787842\n"
          ],
          "name": "stdout"
        }
      ]
    },
    {
      "cell_type": "code",
      "metadata": {
        "colab": {
          "base_uri": "https://localhost:8080/",
          "height": 295
        },
        "id": "aE1oSpU6M07Q",
        "outputId": "b97f2d96-78c0-4ef0-e53f-3e9c29849ff8"
      },
      "source": [
        "import matplotlib.pyplot as plt\n",
        "\n",
        "plt.plot(history.history['accuracy'])\n",
        "plt.title('model accuracy')\n",
        "plt.ylabel('accuracy')\n",
        "plt.xlabel('epoch')\n",
        "plt.legend(['train'], loc='upper left')\n",
        "plt.show()"
      ],
      "execution_count": null,
      "outputs": [
        {
          "output_type": "display_data",
          "data": {
            "image/png": "[encoded data removed]",
            "text/plain": [
              "<Figure size 432x288 with 1 Axes>"
            ]
          },
          "metadata": {
            "tags": [],
            "needs_background": "light"
          }
        }
      ]
    },
    {
      "cell_type": "code",
      "metadata": {
        "colab": {
          "base_uri": "https://localhost:8080/",
          "height": 295
        },
        "id": "Aqw-bWhfcBKL",
        "outputId": "fd412e3c-3303-48a0-c21b-db223036ebb4"
      },
      "source": [
        "plt.plot(history.history['loss'])\n",
        "plt.title('model loss')\n",
        "plt.ylabel('loss')\n",
        "plt.xlabel('epoch')\n",
        "plt.legend(['train'], loc='upper left')\n",
        "plt.show()"
      ],
      "execution_count": null,
      "outputs": [
        {
          "output_type": "display_data",
          "data": {
            "image/png": "[encoded data removed]",
            "text/plain": [
              "<Figure size 432x288 with 1 Axes>"
            ]
          },
          "metadata": {
            "tags": [],
            "needs_background": "light"
          }
        }
      ]
    },
    {
      "cell_type": "code",
      "metadata": {
        "colab": {
          "base_uri": "https://localhost:8080/"
        },
        "id": "5xfDcD7vZyyH",
        "outputId": "4fbf6688-6ed5-42d7-b859-4042dba0766a"
      },
      "source": [
        "#from scikitplot.metrics import plot_confusion_matrix\n",
        "prediction = model.predict(final_input_test)\n",
        "print(prediction)"
      ],
      "execution_count": null,
      "outputs": [
        {
          "output_type": "stream",
          "text": [
            "[[9.9561489e-01 4.3851277e-03 3.5408578e-09]\n",
            " [1.0000000e+00 2.9874200e-11 0.0000000e+00]\n",
            " [9.2877990e-01 7.1220152e-02 1.0877896e-08]\n",
            " ...\n",
            " [9.9999988e-01 1.2644033e-07 1.2420842e-12]\n",
            " [9.9999952e-01 4.1833329e-07 6.4697638e-26]\n",
            " [9.9145472e-01 8.5453494e-03 8.2418783e-13]]\n"
          ],
          "name": "stdout"
        }
      ]
    },
    {
      "cell_type": "code",
      "metadata": {
        "colab": {
          "base_uri": "https://localhost:8080/"
        },
        "id": "9P4q1vJxePBD",
        "outputId": "9547ae73-ffdc-4a0a-df28-3953907085df"
      },
      "source": [
        "max_given_input = np.argmax(test_labels, axis=1)\n",
        "max_predicted_output = np.argmax(prediction, axis=1)\n",
        "print(max_given_input)\n",
        "print(max_predicted_output)"
      ],
      "execution_count": null,
      "outputs": [
        {
          "output_type": "stream",
          "text": [
            "[0 0 0 ... 0 0 0]\n",
            "[0 0 0 ... 0 0 0]\n"
          ],
          "name": "stdout"
        }
      ]
    },
    {
      "cell_type": "code",
      "metadata": {
        "colab": {
          "base_uri": "https://localhost:8080/"
        },
        "id": "1xrGHvH_QUmB",
        "outputId": "7dc9402d-ba72-4949-a283-e8e2164fd3e2"
      },
      "source": [
        "s = pd.Series(max_given_input)\n",
        "s.value_counts()"
      ],
      "execution_count": null,
      "outputs": [
        {
          "output_type": "execute_result",
          "data": {
            "text/plain": [
              "0    6533\n",
              "1     469\n",
              "2       7\n",
              "dtype: int64"
            ]
          },
          "metadata": {
            "tags": []
          },
          "execution_count": 39
        }
      ]
    },
    {
      "cell_type": "code",
      "metadata": {
        "colab": {
          "base_uri": "https://localhost:8080/"
        },
        "id": "t7_1j9amQe8o",
        "outputId": "7131b61f-cece-4021-b921-b26a420889c7"
      },
      "source": [
        "s.value_counts(normalize=True) * 100"
      ],
      "execution_count": null,
      "outputs": [
        {
          "output_type": "execute_result",
          "data": {
            "text/plain": [
              "0    93.208732\n",
              "1     6.691397\n",
              "2     0.099872\n",
              "dtype: float64"
            ]
          },
          "metadata": {
            "tags": []
          },
          "execution_count": 40
        }
      ]
    },
    {
      "cell_type": "code",
      "metadata": {
        "colab": {
          "base_uri": "https://localhost:8080/"
        },
        "id": "sMgfuKZ9g0Cz",
        "outputId": "048113f4-318f-4618-ebb8-99f4b051d606"
      },
      "source": [
        "!pip install scikit-plot"
      ],
      "execution_count": null,
      "outputs": [
        {
          "output_type": "stream",
          "text": [
            "Collecting scikit-plot\n",
            "  Downloading https://files.pythonhosted.org/packages/7c/47/32520e259340c140a4ad27c1b97050dd3254fdc517b1d59974d47037510e/scikit_plot-0.3.7-py3-none-any.whl\n",
            "Requirement already satisfied: joblib>=0.10 in /usr/local/lib/python3.7/dist-packages (from scikit-plot) (1.0.1)\n",
            "Requirement already satisfied: scikit-learn>=0.18 in /usr/local/lib/python3.7/dist-packages (from scikit-plot) (0.22.2.post1)\n",
            "Requirement already satisfied: matplotlib>=1.4.0 in /usr/local/lib/python3.7/dist-packages (from scikit-plot) (3.2.2)\n",
            "Requirement already satisfied: scipy>=0.9 in /usr/local/lib/python3.7/dist-packages (from scikit-plot) (1.4.1)\n",
            "Requirement already satisfied: numpy>=1.11.0 in /usr/local/lib/python3.7/dist-packages (from scikit-learn>=0.18->scikit-plot) (1.19.5)\n",
            "Requirement already satisfied: python-dateutil>=2.1 in /usr/local/lib/python3.7/dist-packages (from matplotlib>=1.4.0->scikit-plot) (2.8.1)\n",
            "Requirement already satisfied: pyparsing!=2.0.4,!=2.1.2,!=2.1.6,>=2.0.1 in /usr/local/lib/python3.7/dist-packages (from matplotlib>=1.4.0->scikit-plot) (2.4.7)\n",
            "Requirement already satisfied: cycler>=0.10 in /usr/local/lib/python3.7/dist-packages (from matplotlib>=1.4.0->scikit-plot) (0.10.0)\n",
            "Requirement already satisfied: kiwisolver>=1.0.1 in /usr/local/lib/python3.7/dist-packages (from matplotlib>=1.4.0->scikit-plot) (1.3.1)\n",
            "Requirement already satisfied: six>=1.5 in /usr/local/lib/python3.7/dist-packages (from python-dateutil>=2.1->matplotlib>=1.4.0->scikit-plot) (1.15.0)\n",
            "Installing collected packages: scikit-plot\n",
            "Successfully installed scikit-plot-0.3.7\n"
          ],
          "name": "stdout"
        }
      ]
    },
    {
      "cell_type": "markdown",
      "metadata": {
        "id": "9ScTSuMChF2I"
      },
      "source": [
        "0 = Land Plane, 1 = helicopter, 2 = Amphibian"
      ]
    },
    {
      "cell_type": "code",
      "metadata": {
        "colab": {
          "base_uri": "https://localhost:8080/",
          "height": 747
        },
        "id": "5Fh_mTY9gKqQ",
        "outputId": "948beea0-bbf2-4a34-ab97-fb7f86822ab0"
      },
      "source": [
        "from scikitplot.metrics import plot_confusion_matrix\n",
        "\n",
        "fig, ax = plt.subplots(figsize=(16,12))\n",
        "plot_confusion_matrix(max_given_input, max_predicted_output, ax=ax)\n"
      ],
      "execution_count": null,
      "outputs": [
        {
          "output_type": "execute_result",
          "data": {
            "text/plain": [
              "<matplotlib.axes._subplots.AxesSubplot at 0x7fc9026ac950>"
            ]
          },
          "metadata": {
            "tags": []
          },
          "execution_count": 41
        },
        {
          "output_type": "display_data",
          "data": {
            "image/png": "[encoded data removed]",
            "text/plain": [
              "<Figure size 1152x864 with 2 Axes>"
            ]
          },
          "metadata": {
            "tags": [],
            "needs_background": "light"
          }
        }
      ]
    },
    {
      "cell_type": "code",
      "metadata": {
        "colab": {
          "base_uri": "https://localhost:8080/",
          "height": 747
        },
        "id": "MGJxxoGtiKlq",
        "outputId": "a09ba934-1dc4-4156-f85e-8851937ec28a"
      },
      "source": [
        "from scikitplot.metrics import plot_confusion_matrix\n",
        "\n",
        "fig, ax = plt.subplots(figsize=(16,12))\n",
        "plot_confusion_matrix(max_given_input, max_predicted_output, ax=ax, normalize = 'true')\n"
      ],
      "execution_count": null,
      "outputs": [
        {
          "output_type": "execute_result",
          "data": {
            "text/plain": [
              "<matplotlib.axes._subplots.AxesSubplot at 0x7fc8f5181490>"
            ]
          },
          "metadata": {
            "tags": []
          },
          "execution_count": 25
        },
        {
          "output_type": "display_data",
          "data": {
            "image/png": "[encoded data removed]",
            "text/plain": [
              "<Figure size 1152x864 with 2 Axes>"
            ]
          },
          "metadata": {
            "tags": [],
            "needs_background": "light"
          }
        }
      ]
    }
  ]
}