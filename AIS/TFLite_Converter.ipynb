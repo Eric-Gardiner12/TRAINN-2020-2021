{
 "cells": [
  {
   "cell_type": "code",
   "execution_count": 1,
   "id": "crude-sandwich",
   "metadata": {},
   "outputs": [],
   "source": [
    "import tensorflow as tf\n",
    "\n",
    "# Convert the model\n",
    "#converter = tf.lite.TFLiteConverter.from_saved_model(r\"C:\\Users\\egard\\Downloads\\AIS-CNN.model-20210319T170625Z-001\\AIS-CNN.model\") # path to the SavedModel directory\n",
    "converter = tf.lite.TFLiteConverter.from_saved_model(r\"C:\\Users\\egard\\Downloads\\AIS-CNN-Zone19.model-20210425T160539Z-001\\AIS-CNN-Zone19.model\") # path to the SavedModel directory\n",
    "\n",
    "tflite_model = converter.convert()\n",
    "\n",
    "# Save the model.\n",
    "with open(r'C:\\Users\\egard\\Downloads\\Zone19_model.tflite', 'wb') as f:\n",
    "  f.write(tflite_model)"
   ]
  },
  {
   "cell_type": "code",
   "execution_count": null,
   "id": "large-booking",
   "metadata": {},
   "outputs": [],
   "source": []
  }
 ],
 "metadata": {
  "kernelspec": {
   "display_name": "Python 3",
   "language": "python",
   "name": "python3"
  },
  "language_info": {
   "codemirror_mode": {
    "name": "ipython",
    "version": 3
   },
   "file_extension": ".py",
   "mimetype": "text/x-python",
   "name": "python",
   "nbconvert_exporter": "python",
   "pygments_lexer": "ipython3",
   "version": "3.8.3"
  }
 },
 "nbformat": 4,
 "nbformat_minor": 5
}
