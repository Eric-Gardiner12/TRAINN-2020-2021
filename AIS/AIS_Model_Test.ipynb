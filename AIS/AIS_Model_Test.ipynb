{
  "nbformat": 4,
  "nbformat_minor": 0,
  "metadata": {
    "colab": {
      "name": "AIS_Model_Test.ipynb",
      "provenance": [],
      "toc_visible": true
    },
    "kernelspec": {
      "name": "python3",
      "display_name": "Python 3"
    },
    "language_info": {
      "name": "python"
    }
  },
  "cells": [
    {
      "cell_type": "markdown",
      "metadata": {
        "id": "7gIpd7elbAK6"
      },
      "source": [
        "#Zone 19"
      ]
    },
    {
      "cell_type": "code",
      "metadata": {
        "colab": {
          "base_uri": "https://localhost:8080/"
        },
        "id": "hvrjr8j7dwEK",
        "outputId": "4b3e4333-67ac-4e76-97e9-4f46cd342af2"
      },
      "source": [
        "from google.colab import drive\n",
        "drive.mount('/content/drive/')\n",
        "\n",
        "import numpy as np\n",
        "import pandas as pd"
      ],
      "execution_count": null,
      "outputs": [
        {
          "output_type": "stream",
          "text": [
            "Mounted at /content/drive/\n"
          ],
          "name": "stdout"
        }
      ]
    },
    {
      "cell_type": "code",
      "metadata": {
        "colab": {
          "base_uri": "https://localhost:8080/"
        },
        "id": "Sz2ZKpp_e69l",
        "outputId": "fb12a53f-33ef-4d9f-b2c5-8a24fa2256bd"
      },
      "source": [
        "train_labels = np.load('/content/drive/MyDrive/train_labels.npy')\n",
        "final_input_train = np.load('/content/drive/MyDrive/final_input_train.npy')\n",
        "print(final_input_train)\n",
        "print(train_labels)"
      ],
      "execution_count": null,
      "outputs": [
        {
          "output_type": "stream",
          "text": [
            "[[[ 3.17625612e-01  9.98625457e-01  5.43307066e-01  4.54212613e-02]\n",
            "  [ 3.17421317e-01  9.96892273e-01  5.57086587e-01  2.97924224e-02]\n",
            "  [ 3.17225933e-01  9.95225251e-01  5.50196826e-01  4.95726578e-02]\n",
            "  ...\n",
            "  [ 3.25626695e-01  9.43756769e-01  3.98432101e-01  5.88605083e+00]\n",
            "  [ 3.25709121e-01  9.43386649e-01  3.91688745e-01  6.17228202e+00]\n",
            "  [ 3.25788947e-01  9.43030371e-01  3.85209240e-01  6.45007926e+00]]\n",
            "\n",
            " [[ 7.25498736e-01  2.61942536e-04  5.87598383e-01  5.36263764e-01]\n",
            "  [ 7.26356314e-01  3.52670557e-03  5.86807685e-01  5.60623746e-01]\n",
            "  [ 7.26785670e-01  5.17973496e-03  5.84282539e-01  5.58527328e-01]\n",
            "  ...\n",
            "  [ 7.51370651e-01  1.12126136e-01  4.87343076e-01  4.48863551e-01]\n",
            "  [ 7.51363653e-01  1.12079785e-01  4.90528129e-01  5.19722140e-01]\n",
            "  [ 7.51351559e-01  1.11995593e-01  4.95743161e-01  6.11091269e-01]]\n",
            "\n",
            " [[ 7.45045125e-01  5.18671656e-03  7.84448743e-01  9.03296769e-01]\n",
            "  [ 7.43687272e-01  1.06671648e-02  5.12795269e-01  3.76312584e-01]\n",
            "  [ 7.43989289e-01  1.45200090e-02  8.34645629e-01  6.60073221e-01]\n",
            "  ...\n",
            "  [ 7.76215336e-01 -1.45020964e-01 -3.49179988e+00 -1.92808329e+00]\n",
            "  [ 7.77569669e-01 -1.51517202e-01 -3.67541664e+00 -2.02492696e+00]\n",
            "  [ 7.78923936e-01 -1.58013147e-01 -3.85902301e+00 -2.12176684e+00]]\n",
            "\n",
            " ...\n",
            "\n",
            " [[ 7.51257062e-01  1.13042198e-01  4.99015719e-01  5.00122130e-01]\n",
            "  [ 7.51257162e-01  1.13039981e-01  4.99015719e-01  5.01344698e-01]\n",
            "  [ 7.51257261e-01  1.13037785e-01  4.99015719e-01  5.02540165e-01]\n",
            "  ...\n",
            "  [ 7.51261766e-01  1.12937257e-01  4.99015719e-01  5.24401609e-01]\n",
            "  [ 7.51261802e-01  1.12936452e-01  4.99015719e-01  5.23910162e-01]\n",
            "  [ 7.51261836e-01  1.12935665e-01  4.99015719e-01  5.23396921e-01]]\n",
            "\n",
            " [[ 7.40164995e-01  2.79271454e-01  5.84645629e-01  2.00732619e-01]\n",
            "  [ 7.40158335e-01  2.77981204e-01  5.84729519e-01  2.20414328e-01]\n",
            "  [ 7.40345657e-01  2.73223877e-01  5.85629880e-01  2.22466439e-01]\n",
            "  ...\n",
            "  [ 7.51102251e-01  1.13838020e-01  4.99360714e-01  7.97748432e-01]\n",
            "  [ 7.51102322e-01  1.13839572e-01  4.99539241e-01  8.24760081e-01]\n",
            "  [ 7.51102173e-01  1.13841000e-01  4.99738497e-01  8.53802402e-01]]\n",
            "\n",
            " [[ 7.94110477e-01  3.78222138e-01  5.49212575e-01  6.89377248e-01]\n",
            "  [ 7.94049323e-01  3.84468079e-01  5.98425210e-01  9.42857146e-01]\n",
            "  [ 7.93848001e-01  3.86438468e-01  6.12523023e-01  1.09296848e+00]\n",
            "  ...\n",
            "  [ 7.96674391e-01  3.19730246e-01 -1.00814408e+00  1.79968937e+01]\n",
            "  [ 7.96794751e-01  3.18602380e-01 -1.03294531e+00  1.82407980e+01]\n",
            "  [ 7.96917109e-01  3.17488645e-01 -1.05721814e+00  1.84773278e+01]]]\n",
            "[1 5 3 ... 1 1 4]\n"
          ],
          "name": "stdout"
        }
      ]
    },
    {
      "cell_type": "code",
      "metadata": {
        "colab": {
          "base_uri": "https://localhost:8080/"
        },
        "id": "9LozOfuyiKMX",
        "outputId": "616c5a82-592f-4d03-c279-523e6cd4ace6"
      },
      "source": [
        "#shuffle arrays\n",
        "shuffler = np.random.permutation(len(final_input_train))\n",
        "final_input_train = final_input_train[shuffler]\n",
        "train_labels = train_labels[shuffler]\n",
        "\n",
        "#split into train and test\n",
        "final_input_test = final_input_train[8869:]\n",
        "arr = list(range(8869,final_input_train.shape[0] ))\n",
        "print(final_input_test.shape)\n",
        "\n",
        "final_input_train = np.delete(final_input_train, arr, 0)\n",
        "print(final_input_train.shape)\n",
        "\n",
        "test_labels = train_labels[8869:]\n",
        "print(len(test_labels))\n",
        "\n",
        "train_labels_final = train_labels[:8869]\n",
        "print(len(train_labels_final))\n",
        "\n",
        "#Get Unique values in each dataframe\n",
        "unique = list(dict.fromkeys(test_labels))\n",
        "unique2 = list(dict.fromkeys(train_labels_final))\n",
        "print(unique)\n",
        "print(unique2)\n",
        "\n",
        "#One Hot Encode Types\n",
        "from keras.utils.np_utils import to_categorical\n",
        "test_labels = to_categorical(test_labels,num_classes = 7)\n",
        "train_labels_final = to_categorical(train_labels_final,num_classes = 7)\n",
        "print(len(test_labels))\n",
        "print(len(train_labels_final))"
      ],
      "execution_count": null,
      "outputs": [
        {
          "output_type": "stream",
          "text": [
            "(3801, 73, 4)\n",
            "(8869, 73, 4)\n",
            "3801\n",
            "8869\n",
            "[6, 5, 0, 3, 1, 4, 2]\n",
            "[1, 6, 0, 5, 3, 4, 2]\n",
            "3801\n",
            "8869\n"
          ],
          "name": "stdout"
        }
      ]
    },
    {
      "cell_type": "code",
      "metadata": {
        "colab": {
          "base_uri": "https://localhost:8080/"
        },
        "id": "pnQMWz6Eiedy",
        "outputId": "373ab044-ff9f-468c-e6da-7afd37c41500"
      },
      "source": [
        "from keras.models import Sequential\n",
        "from keras.layers import Dense\n",
        "from keras.layers import Flatten\n",
        "from keras.layers import Dropout\n",
        "from keras.layers.convolutional import Conv1D\n",
        "from keras.layers.convolutional import MaxPooling1D\n",
        "import keras\n",
        "# fit and evaluate a model\n",
        "verbose, epochs, batch_size = 2, 200, 16\n",
        "n_timesteps, n_features, n_outputs = final_input_train.shape[1], final_input_train.shape[2], 7\n",
        "model = Sequential()\n",
        "model.add(Conv1D(filters=64, kernel_size=3, activation='relu', input_shape=(n_timesteps,n_features)))\n",
        "model.add(Conv1D(filters=64, kernel_size=3, activation='relu'))\n",
        "model.add(Conv1D(filters=64, kernel_size=3, activation='relu'))\n",
        "#model.add(Conv1D(filters=64, kernel_size=3, activation='relu'))\n",
        "model.add(Dropout(0.5))\n",
        "model.add(MaxPooling1D(pool_size=2))\n",
        "model.add(Flatten())\n",
        "model.add(Dense(100, activation='relu'))\n",
        "model.add(Dense(n_outputs, activation='softmax'))\n",
        "opt = keras.optimizers.Adam(learning_rate=0.0003)\n",
        "model.compile(loss='categorical_crossentropy', optimizer=opt, metrics=['accuracy'])\n",
        "# fit network\n",
        "history =  model.fit(final_input_train, train_labels_final, epochs=epochs, batch_size=batch_size, verbose=verbose, shuffle = True)\n",
        "# evaluate model\n",
        "_, accuracy = model.evaluate(final_input_test, test_labels, batch_size=batch_size, verbose=0)\n",
        "print(accuracy *100)"
      ],
      "execution_count": null,
      "outputs": [
        {
          "output_type": "stream",
          "text": [
            "Epoch 1/200\n",
            "555/555 - 7s - loss: 3.3270 - accuracy: 0.4878\n",
            "Epoch 2/200\n",
            "555/555 - 6s - loss: 2.3177 - accuracy: 0.5153\n",
            "Epoch 3/200\n",
            "555/555 - 6s - loss: 2.3490 - accuracy: 0.5337\n",
            "Epoch 4/200\n",
            "555/555 - 6s - loss: 1.9084 - accuracy: 0.5388\n",
            "Epoch 5/200\n",
            "555/555 - 6s - loss: 1.2675 - accuracy: 0.5492\n",
            "Epoch 6/200\n",
            "555/555 - 6s - loss: 1.2349 - accuracy: 0.5488\n",
            "Epoch 7/200\n",
            "555/555 - 6s - loss: 1.2178 - accuracy: 0.5518\n",
            "Epoch 8/200\n",
            "555/555 - 6s - loss: 1.2486 - accuracy: 0.5590\n",
            "Epoch 9/200\n",
            "555/555 - 6s - loss: 1.3240 - accuracy: 0.5571\n",
            "Epoch 10/200\n",
            "555/555 - 6s - loss: 1.2088 - accuracy: 0.5597\n",
            "Epoch 11/200\n",
            "555/555 - 6s - loss: 1.1929 - accuracy: 0.5615\n",
            "Epoch 12/200\n",
            "555/555 - 6s - loss: 1.1683 - accuracy: 0.5651\n",
            "Epoch 13/200\n",
            "555/555 - 6s - loss: 1.1645 - accuracy: 0.5671\n",
            "Epoch 14/200\n",
            "555/555 - 6s - loss: 1.1667 - accuracy: 0.5686\n",
            "Epoch 15/200\n",
            "555/555 - 6s - loss: 1.1473 - accuracy: 0.5706\n",
            "Epoch 16/200\n",
            "555/555 - 6s - loss: 1.1382 - accuracy: 0.5726\n",
            "Epoch 17/200\n",
            "555/555 - 6s - loss: 1.1349 - accuracy: 0.5747\n",
            "Epoch 18/200\n",
            "555/555 - 6s - loss: 1.6605 - accuracy: 0.5766\n",
            "Epoch 19/200\n",
            "555/555 - 6s - loss: 1.1187 - accuracy: 0.5820\n",
            "Epoch 20/200\n",
            "555/555 - 6s - loss: 1.1071 - accuracy: 0.5820\n",
            "Epoch 21/200\n",
            "555/555 - 6s - loss: 1.0972 - accuracy: 0.5832\n",
            "Epoch 22/200\n",
            "555/555 - 6s - loss: 1.1661 - accuracy: 0.5915\n",
            "Epoch 23/200\n",
            "555/555 - 6s - loss: 1.0834 - accuracy: 0.5888\n",
            "Epoch 24/200\n",
            "555/555 - 6s - loss: 1.0723 - accuracy: 0.5923\n",
            "Epoch 25/200\n",
            "555/555 - 6s - loss: 1.0671 - accuracy: 0.5959\n",
            "Epoch 26/200\n",
            "555/555 - 6s - loss: 1.3166 - accuracy: 0.5962\n",
            "Epoch 27/200\n",
            "555/555 - 6s - loss: 1.0784 - accuracy: 0.6009\n",
            "Epoch 28/200\n",
            "555/555 - 6s - loss: 1.0422 - accuracy: 0.6015\n",
            "Epoch 29/200\n",
            "555/555 - 6s - loss: 1.0311 - accuracy: 0.6060\n",
            "Epoch 30/200\n",
            "555/555 - 6s - loss: 1.0168 - accuracy: 0.6077\n",
            "Epoch 31/200\n",
            "555/555 - 6s - loss: 1.0087 - accuracy: 0.6145\n",
            "Epoch 32/200\n",
            "555/555 - 6s - loss: 1.0023 - accuracy: 0.6162\n",
            "Epoch 33/200\n",
            "555/555 - 6s - loss: 0.9899 - accuracy: 0.6195\n",
            "Epoch 34/200\n",
            "555/555 - 6s - loss: 0.9921 - accuracy: 0.6177\n",
            "Epoch 35/200\n",
            "555/555 - 6s - loss: 0.9960 - accuracy: 0.6195\n",
            "Epoch 36/200\n",
            "555/555 - 6s - loss: 0.9661 - accuracy: 0.6239\n",
            "Epoch 37/200\n",
            "555/555 - 6s - loss: 0.9549 - accuracy: 0.6299\n",
            "Epoch 38/200\n",
            "555/555 - 6s - loss: 0.9403 - accuracy: 0.6367\n",
            "Epoch 39/200\n",
            "555/555 - 6s - loss: 0.9309 - accuracy: 0.6360\n",
            "Epoch 40/200\n",
            "555/555 - 6s - loss: 0.9222 - accuracy: 0.6465\n",
            "Epoch 41/200\n",
            "555/555 - 6s - loss: 0.9140 - accuracy: 0.6443\n",
            "Epoch 42/200\n",
            "555/555 - 7s - loss: 0.9065 - accuracy: 0.6506\n",
            "Epoch 43/200\n",
            "555/555 - 6s - loss: 0.9092 - accuracy: 0.6598\n",
            "Epoch 44/200\n",
            "555/555 - 6s - loss: 0.8891 - accuracy: 0.6562\n",
            "Epoch 45/200\n",
            "555/555 - 6s - loss: 0.8772 - accuracy: 0.6610\n",
            "Epoch 46/200\n",
            "555/555 - 6s - loss: 0.8740 - accuracy: 0.6621\n",
            "Epoch 47/200\n",
            "555/555 - 6s - loss: 0.8641 - accuracy: 0.6637\n",
            "Epoch 48/200\n",
            "555/555 - 6s - loss: 0.8423 - accuracy: 0.6772\n",
            "Epoch 49/200\n",
            "555/555 - 6s - loss: 0.8501 - accuracy: 0.6638\n",
            "Epoch 50/200\n",
            "555/555 - 6s - loss: 0.8364 - accuracy: 0.6799\n",
            "Epoch 51/200\n",
            "555/555 - 6s - loss: 0.8188 - accuracy: 0.6836\n",
            "Epoch 52/200\n",
            "555/555 - 6s - loss: 0.8211 - accuracy: 0.6820\n",
            "Epoch 53/200\n",
            "555/555 - 6s - loss: 0.8023 - accuracy: 0.6957\n",
            "Epoch 54/200\n",
            "555/555 - 6s - loss: 0.7937 - accuracy: 0.6947\n",
            "Epoch 55/200\n",
            "555/555 - 6s - loss: 0.7832 - accuracy: 0.6934\n",
            "Epoch 56/200\n",
            "555/555 - 6s - loss: 0.7770 - accuracy: 0.6975\n",
            "Epoch 57/200\n",
            "555/555 - 6s - loss: 0.7628 - accuracy: 0.7112\n",
            "Epoch 58/200\n",
            "555/555 - 6s - loss: 0.7602 - accuracy: 0.7081\n",
            "Epoch 59/200\n",
            "555/555 - 6s - loss: 0.7485 - accuracy: 0.7135\n",
            "Epoch 60/200\n",
            "555/555 - 6s - loss: 0.7497 - accuracy: 0.7158\n",
            "Epoch 61/200\n",
            "555/555 - 6s - loss: 0.7346 - accuracy: 0.7197\n",
            "Epoch 62/200\n",
            "555/555 - 6s - loss: 0.7554 - accuracy: 0.7168\n",
            "Epoch 63/200\n",
            "555/555 - 6s - loss: 0.7272 - accuracy: 0.7234\n",
            "Epoch 64/200\n",
            "555/555 - 6s - loss: 0.7059 - accuracy: 0.7264\n",
            "Epoch 65/200\n",
            "555/555 - 6s - loss: 0.7085 - accuracy: 0.7273\n",
            "Epoch 66/200\n",
            "555/555 - 6s - loss: 0.6897 - accuracy: 0.7385\n",
            "Epoch 67/200\n",
            "555/555 - 6s - loss: 0.6955 - accuracy: 0.7322\n",
            "Epoch 68/200\n",
            "555/555 - 6s - loss: 0.6769 - accuracy: 0.7418\n",
            "Epoch 69/200\n",
            "555/555 - 6s - loss: 0.6687 - accuracy: 0.7460\n",
            "Epoch 70/200\n",
            "555/555 - 6s - loss: 0.6964 - accuracy: 0.7456\n",
            "Epoch 71/200\n",
            "555/555 - 6s - loss: 0.6654 - accuracy: 0.7473\n",
            "Epoch 72/200\n",
            "555/555 - 6s - loss: 0.6801 - accuracy: 0.7430\n",
            "Epoch 73/200\n",
            "555/555 - 6s - loss: 0.6476 - accuracy: 0.7496\n",
            "Epoch 74/200\n",
            "555/555 - 7s - loss: 0.6438 - accuracy: 0.7496\n",
            "Epoch 75/200\n",
            "555/555 - 6s - loss: 0.6353 - accuracy: 0.7539\n",
            "Epoch 76/200\n",
            "555/555 - 6s - loss: 0.6275 - accuracy: 0.7558\n",
            "Epoch 77/200\n",
            "555/555 - 7s - loss: 0.6288 - accuracy: 0.7548\n",
            "Epoch 78/200\n",
            "555/555 - 6s - loss: 0.6171 - accuracy: 0.7642\n",
            "Epoch 79/200\n",
            "555/555 - 6s - loss: 0.6072 - accuracy: 0.7664\n",
            "Epoch 80/200\n",
            "555/555 - 6s - loss: 0.6246 - accuracy: 0.7647\n",
            "Epoch 81/200\n",
            "555/555 - 6s - loss: 0.5981 - accuracy: 0.7701\n",
            "Epoch 82/200\n",
            "555/555 - 6s - loss: 0.5982 - accuracy: 0.7711\n",
            "Epoch 83/200\n",
            "555/555 - 6s - loss: 0.6000 - accuracy: 0.7693\n",
            "Epoch 84/200\n",
            "555/555 - 6s - loss: 0.5841 - accuracy: 0.7792\n",
            "Epoch 85/200\n",
            "555/555 - 6s - loss: 0.5886 - accuracy: 0.7707\n",
            "Epoch 86/200\n",
            "555/555 - 7s - loss: 0.5717 - accuracy: 0.7806\n",
            "Epoch 87/200\n",
            "555/555 - 6s - loss: 0.5730 - accuracy: 0.7760\n",
            "Epoch 88/200\n",
            "555/555 - 6s - loss: 0.6310 - accuracy: 0.7748\n",
            "Epoch 89/200\n",
            "555/555 - 6s - loss: 0.5732 - accuracy: 0.7816\n",
            "Epoch 90/200\n",
            "555/555 - 6s - loss: 0.5596 - accuracy: 0.7855\n",
            "Epoch 91/200\n",
            "555/555 - 6s - loss: 0.5535 - accuracy: 0.7873\n",
            "Epoch 92/200\n",
            "555/555 - 7s - loss: 0.5555 - accuracy: 0.7853\n",
            "Epoch 93/200\n",
            "555/555 - 6s - loss: 0.5510 - accuracy: 0.7875\n",
            "Epoch 94/200\n",
            "555/555 - 6s - loss: 0.5406 - accuracy: 0.7965\n",
            "Epoch 95/200\n",
            "555/555 - 6s - loss: 0.5367 - accuracy: 0.7906\n",
            "Epoch 96/200\n",
            "555/555 - 6s - loss: 0.5346 - accuracy: 0.7933\n",
            "Epoch 97/200\n",
            "555/555 - 6s - loss: 0.5337 - accuracy: 0.7951\n",
            "Epoch 98/200\n",
            "555/555 - 6s - loss: 0.5281 - accuracy: 0.7975\n",
            "Epoch 99/200\n",
            "555/555 - 6s - loss: 0.5345 - accuracy: 0.7940\n",
            "Epoch 100/200\n",
            "555/555 - 6s - loss: 0.5244 - accuracy: 0.7978\n",
            "Epoch 101/200\n",
            "555/555 - 6s - loss: 0.5193 - accuracy: 0.8017\n",
            "Epoch 102/200\n",
            "555/555 - 6s - loss: 0.5540 - accuracy: 0.7998\n",
            "Epoch 103/200\n",
            "555/555 - 6s - loss: 0.5057 - accuracy: 0.8035\n",
            "Epoch 104/200\n",
            "555/555 - 6s - loss: 0.4997 - accuracy: 0.8114\n",
            "Epoch 105/200\n",
            "555/555 - 6s - loss: 0.5042 - accuracy: 0.8063\n",
            "Epoch 106/200\n",
            "555/555 - 6s - loss: 0.4956 - accuracy: 0.8074\n",
            "Epoch 107/200\n",
            "555/555 - 6s - loss: 0.4964 - accuracy: 0.8082\n",
            "Epoch 108/200\n",
            "555/555 - 6s - loss: 0.4893 - accuracy: 0.8081\n",
            "Epoch 109/200\n",
            "555/555 - 6s - loss: 0.4930 - accuracy: 0.8092\n",
            "Epoch 110/200\n",
            "555/555 - 6s - loss: 0.4824 - accuracy: 0.8166\n",
            "Epoch 111/200\n",
            "555/555 - 7s - loss: 0.4809 - accuracy: 0.8133\n",
            "Epoch 112/200\n",
            "555/555 - 6s - loss: 0.4805 - accuracy: 0.8134\n",
            "Epoch 113/200\n",
            "555/555 - 6s - loss: 0.4750 - accuracy: 0.8163\n",
            "Epoch 114/200\n",
            "555/555 - 6s - loss: 0.4716 - accuracy: 0.8180\n",
            "Epoch 115/200\n",
            "555/555 - 6s - loss: 0.4670 - accuracy: 0.8204\n",
            "Epoch 116/200\n",
            "555/555 - 6s - loss: 0.4762 - accuracy: 0.8195\n",
            "Epoch 117/200\n",
            "555/555 - 6s - loss: 0.4684 - accuracy: 0.8212\n",
            "Epoch 118/200\n",
            "555/555 - 6s - loss: 0.4584 - accuracy: 0.8247\n",
            "Epoch 119/200\n",
            "555/555 - 6s - loss: 0.4569 - accuracy: 0.8296\n",
            "Epoch 120/200\n",
            "555/555 - 7s - loss: 0.4573 - accuracy: 0.8205\n",
            "Epoch 121/200\n",
            "555/555 - 6s - loss: 0.4805 - accuracy: 0.8246\n",
            "Epoch 122/200\n",
            "555/555 - 6s - loss: 0.4552 - accuracy: 0.8234\n",
            "Epoch 123/200\n",
            "555/555 - 6s - loss: 0.4449 - accuracy: 0.8277\n",
            "Epoch 124/200\n",
            "555/555 - 6s - loss: 0.4428 - accuracy: 0.8329\n",
            "Epoch 125/200\n",
            "555/555 - 6s - loss: 0.4842 - accuracy: 0.8260\n",
            "Epoch 126/200\n",
            "555/555 - 7s - loss: 0.4463 - accuracy: 0.8325\n",
            "Epoch 127/200\n",
            "555/555 - 6s - loss: 0.4395 - accuracy: 0.8322\n",
            "Epoch 128/200\n",
            "555/555 - 6s - loss: 0.4431 - accuracy: 0.8315\n",
            "Epoch 129/200\n",
            "555/555 - 6s - loss: 0.4492 - accuracy: 0.8311\n",
            "Epoch 130/200\n",
            "555/555 - 6s - loss: 0.4323 - accuracy: 0.8346\n",
            "Epoch 131/200\n",
            "555/555 - 6s - loss: 0.4434 - accuracy: 0.8294\n",
            "Epoch 132/200\n",
            "555/555 - 6s - loss: 0.4346 - accuracy: 0.8321\n",
            "Epoch 133/200\n",
            "555/555 - 6s - loss: 0.4418 - accuracy: 0.8345\n",
            "Epoch 134/200\n",
            "555/555 - 6s - loss: 0.4262 - accuracy: 0.8373\n",
            "Epoch 135/200\n",
            "555/555 - 7s - loss: 0.4172 - accuracy: 0.8365\n",
            "Epoch 136/200\n",
            "555/555 - 6s - loss: 0.4214 - accuracy: 0.8372\n",
            "Epoch 137/200\n",
            "555/555 - 6s - loss: 0.4184 - accuracy: 0.8383\n",
            "Epoch 138/200\n",
            "555/555 - 6s - loss: 0.4148 - accuracy: 0.8401\n",
            "Epoch 139/200\n",
            "555/555 - 6s - loss: 0.4393 - accuracy: 0.8353\n",
            "Epoch 140/200\n",
            "555/555 - 7s - loss: 0.4328 - accuracy: 0.8358\n",
            "Epoch 141/200\n",
            "555/555 - 7s - loss: 0.4085 - accuracy: 0.8469\n",
            "Epoch 142/200\n",
            "555/555 - 7s - loss: 0.4112 - accuracy: 0.8419\n",
            "Epoch 143/200\n",
            "555/555 - 6s - loss: 0.4114 - accuracy: 0.8469\n",
            "Epoch 144/200\n",
            "555/555 - 6s - loss: 0.4130 - accuracy: 0.8438\n",
            "Epoch 145/200\n",
            "555/555 - 6s - loss: 0.4122 - accuracy: 0.8459\n",
            "Epoch 146/200\n",
            "555/555 - 6s - loss: 0.4129 - accuracy: 0.8455\n",
            "Epoch 147/200\n",
            "555/555 - 6s - loss: 0.4041 - accuracy: 0.8426\n",
            "Epoch 148/200\n",
            "555/555 - 6s - loss: 0.3954 - accuracy: 0.8489\n",
            "Epoch 149/200\n",
            "555/555 - 6s - loss: 0.3889 - accuracy: 0.8503\n",
            "Epoch 150/200\n",
            "555/555 - 6s - loss: 0.4016 - accuracy: 0.8468\n",
            "Epoch 151/200\n",
            "555/555 - 6s - loss: 0.3959 - accuracy: 0.8502\n",
            "Epoch 152/200\n",
            "555/555 - 6s - loss: 0.4007 - accuracy: 0.8479\n",
            "Epoch 153/200\n",
            "555/555 - 6s - loss: 0.3916 - accuracy: 0.8487\n",
            "Epoch 154/200\n",
            "555/555 - 6s - loss: 0.3739 - accuracy: 0.8579\n",
            "Epoch 155/200\n",
            "555/555 - 6s - loss: 0.4056 - accuracy: 0.8474\n",
            "Epoch 156/200\n",
            "555/555 - 6s - loss: 0.4160 - accuracy: 0.8477\n",
            "Epoch 157/200\n",
            "555/555 - 6s - loss: 0.4373 - accuracy: 0.8560\n",
            "Epoch 158/200\n",
            "555/555 - 6s - loss: 0.3919 - accuracy: 0.8561\n",
            "Epoch 159/200\n",
            "555/555 - 6s - loss: 0.3818 - accuracy: 0.8536\n",
            "Epoch 160/200\n",
            "555/555 - 6s - loss: 0.3918 - accuracy: 0.8542\n",
            "Epoch 161/200\n",
            "555/555 - 6s - loss: 0.4161 - accuracy: 0.8591\n",
            "Epoch 162/200\n",
            "555/555 - 6s - loss: 0.3755 - accuracy: 0.8609\n",
            "Epoch 163/200\n",
            "555/555 - 6s - loss: 0.3703 - accuracy: 0.8569\n",
            "Epoch 164/200\n",
            "555/555 - 6s - loss: 0.3751 - accuracy: 0.8516\n",
            "Epoch 165/200\n",
            "555/555 - 6s - loss: 0.3659 - accuracy: 0.8613\n",
            "Epoch 166/200\n",
            "555/555 - 6s - loss: 0.3649 - accuracy: 0.8595\n",
            "Epoch 167/200\n",
            "555/555 - 6s - loss: 0.3801 - accuracy: 0.8539\n",
            "Epoch 168/200\n",
            "555/555 - 6s - loss: 0.3867 - accuracy: 0.8560\n",
            "Epoch 169/200\n",
            "555/555 - 6s - loss: 0.3654 - accuracy: 0.8600\n",
            "Epoch 170/200\n",
            "555/555 - 6s - loss: 0.4250 - accuracy: 0.8589\n",
            "Epoch 171/200\n",
            "555/555 - 7s - loss: 0.3605 - accuracy: 0.8649\n",
            "Epoch 172/200\n",
            "555/555 - 6s - loss: 0.3694 - accuracy: 0.8571\n",
            "Epoch 173/200\n",
            "555/555 - 6s - loss: 0.3569 - accuracy: 0.8649\n",
            "Epoch 174/200\n",
            "555/555 - 6s - loss: 0.3558 - accuracy: 0.8632\n",
            "Epoch 175/200\n",
            "555/555 - 6s - loss: 0.3676 - accuracy: 0.8560\n",
            "Epoch 176/200\n",
            "555/555 - 6s - loss: 0.3592 - accuracy: 0.8644\n",
            "Epoch 177/200\n",
            "555/555 - 7s - loss: 0.3963 - accuracy: 0.8566\n",
            "Epoch 178/200\n",
            "555/555 - 6s - loss: 0.3537 - accuracy: 0.8631\n",
            "Epoch 179/200\n",
            "555/555 - 6s - loss: 0.3748 - accuracy: 0.8618\n",
            "Epoch 180/200\n",
            "555/555 - 6s - loss: 0.3585 - accuracy: 0.8636\n",
            "Epoch 181/200\n",
            "555/555 - 6s - loss: 0.3935 - accuracy: 0.8649\n",
            "Epoch 182/200\n",
            "555/555 - 6s - loss: 0.3523 - accuracy: 0.8674\n",
            "Epoch 183/200\n",
            "555/555 - 6s - loss: 0.3550 - accuracy: 0.8629\n",
            "Epoch 184/200\n",
            "555/555 - 7s - loss: 0.3462 - accuracy: 0.8679\n",
            "Epoch 185/200\n",
            "555/555 - 7s - loss: 0.3419 - accuracy: 0.8697\n",
            "Epoch 186/200\n",
            "555/555 - 6s - loss: 0.6947 - accuracy: 0.8635\n",
            "Epoch 187/200\n",
            "555/555 - 6s - loss: 0.3446 - accuracy: 0.8674\n",
            "Epoch 188/200\n",
            "555/555 - 7s - loss: 0.3462 - accuracy: 0.8710\n",
            "Epoch 189/200\n",
            "555/555 - 6s - loss: 0.3435 - accuracy: 0.8677\n",
            "Epoch 190/200\n",
            "555/555 - 6s - loss: 0.3442 - accuracy: 0.8645\n",
            "Epoch 191/200\n",
            "555/555 - 7s - loss: 0.3342 - accuracy: 0.8734\n",
            "Epoch 192/200\n",
            "555/555 - 6s - loss: 0.3437 - accuracy: 0.8667\n",
            "Epoch 193/200\n",
            "555/555 - 7s - loss: 0.3347 - accuracy: 0.8741\n",
            "Epoch 194/200\n",
            "555/555 - 6s - loss: 0.3557 - accuracy: 0.8631\n",
            "Epoch 195/200\n",
            "555/555 - 6s - loss: 0.3399 - accuracy: 0.8719\n",
            "Epoch 196/200\n",
            "555/555 - 7s - loss: 0.3286 - accuracy: 0.8728\n",
            "Epoch 197/200\n",
            "555/555 - 6s - loss: 0.3272 - accuracy: 0.8747\n",
            "Epoch 198/200\n",
            "555/555 - 6s - loss: 0.3302 - accuracy: 0.8757\n",
            "Epoch 199/200\n",
            "555/555 - 7s - loss: 0.3545 - accuracy: 0.8706\n",
            "Epoch 200/200\n",
            "555/555 - 6s - loss: 0.4801 - accuracy: 0.8688\n",
            "58.326756954193115\n"
          ],
          "name": "stdout"
        }
      ]
    },
    {
      "cell_type": "code",
      "metadata": {
        "colab": {
          "base_uri": "https://localhost:8080/",
          "height": 295
        },
        "id": "VXnAhpFBiuhj",
        "outputId": "72a45b37-8f87-4cfe-b19c-02f47f493cb5"
      },
      "source": [
        "import matplotlib.pyplot as plt\n",
        "\n",
        "plt.plot(history.history['accuracy'])\n",
        "plt.title('model accuracy')\n",
        "plt.ylabel('accuracy')\n",
        "plt.xlabel('epoch')\n",
        "plt.legend(['train'], loc='upper left')\n",
        "plt.show()"
      ],
      "execution_count": null,
      "outputs": [
        {
          "output_type": "display_data",
          "data": {
            "image/png": "[encoded data removed]",
            "text/plain": [
              "<Figure size 432x288 with 1 Axes>"
            ]
          },
          "metadata": {
            "tags": [],
            "needs_background": "light"
          }
        }
      ]
    },
    {
      "cell_type": "code",
      "metadata": {
        "colab": {
          "base_uri": "https://localhost:8080/",
          "height": 295
        },
        "id": "9AGlrnaMix2R",
        "outputId": "48da6a7a-4571-4424-b78c-9c32fd2c71f9"
      },
      "source": [
        "plt.plot(history.history['loss'])\n",
        "plt.title('model loss')\n",
        "plt.ylabel('loss')\n",
        "plt.xlabel('epoch')\n",
        "plt.legend(['train'], loc='upper left')\n",
        "plt.show()"
      ],
      "execution_count": null,
      "outputs": [
        {
          "output_type": "display_data",
          "data": {
            "image/png": "[encoded data removed]",
            "text/plain": [
              "<Figure size 432x288 with 1 Axes>"
            ]
          },
          "metadata": {
            "tags": [],
            "needs_background": "light"
          }
        }
      ]
    },
    {
      "cell_type": "code",
      "metadata": {
        "colab": {
          "base_uri": "https://localhost:8080/"
        },
        "id": "-vnS_4dSud65",
        "outputId": "3756d2f8-9d9e-4432-fddc-acdc385032ae"
      },
      "source": [
        "prediction = model.predict(final_input_test)\n",
        "\n",
        "max_given_input = np.argmax(test_labels, axis=1)\n",
        "max_predicted_output = np.argmax(prediction, axis=1)\n",
        "print(max_given_input)\n",
        "print(max_predicted_output)"
      ],
      "execution_count": null,
      "outputs": [
        {
          "output_type": "stream",
          "text": [
            "[6 5 5 ... 0 6 0]\n",
            "[0 5 0 ... 0 6 0]\n"
          ],
          "name": "stdout"
        }
      ]
    },
    {
      "cell_type": "code",
      "metadata": {
        "colab": {
          "base_uri": "https://localhost:8080/"
        },
        "id": "AGzZ3bq0usJs",
        "outputId": "4670c2e0-08bf-4fef-cc04-699815d8942c"
      },
      "source": [
        "!pip install scikit-plot"
      ],
      "execution_count": null,
      "outputs": [
        {
          "output_type": "stream",
          "text": [
            "Collecting scikit-plot\n",
            "  Downloading https://files.pythonhosted.org/packages/7c/47/32520e259340c140a4ad27c1b97050dd3254fdc517b1d59974d47037510e/scikit_plot-0.3.7-py3-none-any.whl\n",
            "Requirement already satisfied: scikit-learn>=0.18 in /usr/local/lib/python3.7/dist-packages (from scikit-plot) (0.22.2.post1)\n",
            "Requirement already satisfied: scipy>=0.9 in /usr/local/lib/python3.7/dist-packages (from scikit-plot) (1.4.1)\n",
            "Requirement already satisfied: matplotlib>=1.4.0 in /usr/local/lib/python3.7/dist-packages (from scikit-plot) (3.2.2)\n",
            "Requirement already satisfied: joblib>=0.10 in /usr/local/lib/python3.7/dist-packages (from scikit-plot) (1.0.1)\n",
            "Requirement already satisfied: numpy>=1.11.0 in /usr/local/lib/python3.7/dist-packages (from scikit-learn>=0.18->scikit-plot) (1.19.5)\n",
            "Requirement already satisfied: python-dateutil>=2.1 in /usr/local/lib/python3.7/dist-packages (from matplotlib>=1.4.0->scikit-plot) (2.8.1)\n",
            "Requirement already satisfied: kiwisolver>=1.0.1 in /usr/local/lib/python3.7/dist-packages (from matplotlib>=1.4.0->scikit-plot) (1.3.1)\n",
            "Requirement already satisfied: cycler>=0.10 in /usr/local/lib/python3.7/dist-packages (from matplotlib>=1.4.0->scikit-plot) (0.10.0)\n",
            "Requirement already satisfied: pyparsing!=2.0.4,!=2.1.2,!=2.1.6,>=2.0.1 in /usr/local/lib/python3.7/dist-packages (from matplotlib>=1.4.0->scikit-plot) (2.4.7)\n",
            "Requirement already satisfied: six>=1.5 in /usr/local/lib/python3.7/dist-packages (from python-dateutil>=2.1->matplotlib>=1.4.0->scikit-plot) (1.15.0)\n",
            "Installing collected packages: scikit-plot\n",
            "Successfully installed scikit-plot-0.3.7\n"
          ],
          "name": "stdout"
        }
      ]
    },
    {
      "cell_type": "code",
      "metadata": {
        "colab": {
          "base_uri": "https://localhost:8080/",
          "height": 747
        },
        "id": "5yAeMWrSuuAC",
        "outputId": "bbeb5345-02ad-49aa-d14c-5abc3b225e7d"
      },
      "source": [
        "from scikitplot.metrics import plot_confusion_matrix\n",
        "\n",
        "fig, ax = plt.subplots(figsize=(16,12))\n",
        "plot_confusion_matrix(max_given_input, max_predicted_output, ax=ax)\n"
      ],
      "execution_count": null,
      "outputs": [
        {
          "output_type": "execute_result",
          "data": {
            "text/plain": [
              "<matplotlib.axes._subplots.AxesSubplot at 0x7f59bffa6750>"
            ]
          },
          "metadata": {
            "tags": []
          },
          "execution_count": 12
        },
        {
          "output_type": "display_data",
          "data": {
            "image/png": "[encoded data removed]",
            "text/plain": [
              "<Figure size 1152x864 with 2 Axes>"
            ]
          },
          "metadata": {
            "tags": [],
            "needs_background": "light"
          }
        }
      ]
    },
    {
      "cell_type": "code",
      "metadata": {
        "colab": {
          "base_uri": "https://localhost:8080/",
          "height": 308
        },
        "id": "f9oc6C8ZqBPO",
        "outputId": "57e08354-284f-4416-b842-dfa831db1102"
      },
      "source": [
        "import matplotlib.pyplot as plt\n",
        "\n",
        "fig, (ax1, ax2) = plt.subplots(2, sharex=True)\n",
        "fig.suptitle('Accuracy and Loss Curves')\n",
        "ax1.plot(history.history['accuracy'])\n",
        "ax2.plot(history.history['loss'])\n",
        "ax1.set(ylabel='accuracy percentage')\n",
        "ax2.set(xlabel='epochs', ylabel='loss')\n",
        "plt.savefig(\"/content/drive/MyDrive/capstone_plot_300.png\", dpi = 300)"
      ],
      "execution_count": null,
      "outputs": [
        {
          "output_type": "display_data",
          "data": {
            "image/png": "[encoded data removed]",
            "text/plain": [
              "<Figure size 432x288 with 2 Axes>"
            ]
          },
          "metadata": {
            "tags": [],
            "needs_background": "light"
          }
        }
      ]
    },
    {
      "cell_type": "markdown",
      "metadata": {
        "id": "BTLvR-7VSvdu"
      },
      "source": [
        "#Zone 19 (Total Data)"
      ]
    },
    {
      "cell_type": "code",
      "metadata": {
        "colab": {
          "base_uri": "https://localhost:8080/"
        },
        "id": "1WJkTDrNSvd-",
        "outputId": "e73415dd-bf61-4511-d0f8-52261baef8ec"
      },
      "source": [
        "from google.colab import drive\n",
        "drive.mount('/content/drive/')\n",
        "\n",
        "import numpy as np\n",
        "import pandas as pd"
      ],
      "execution_count": null,
      "outputs": [
        {
          "output_type": "stream",
          "text": [
            "Mounted at /content/drive/\n"
          ],
          "name": "stdout"
        }
      ]
    },
    {
      "cell_type": "code",
      "metadata": {
        "colab": {
          "base_uri": "https://localhost:8080/"
        },
        "id": "STSE1WYoSveC",
        "outputId": "75a41009-27b3-4f70-8082-60713cce8021"
      },
      "source": [
        "train_labels = np.load('/content/drive/MyDrive/Total AIS data/train_labels_total.npy')\n",
        "final_input_train = np.load('/content/drive/MyDrive/Total AIS data/train_input_total.npy')\n",
        "print(final_input_train)\n",
        "print(train_labels)"
      ],
      "execution_count": null,
      "outputs": [
        {
          "output_type": "stream",
          "text": [
            "[[[ 1.95521995e-01  9.98627126e-01  5.44477046e-01  4.54212613e-02]\n",
            "  [ 1.95396826e-01  9.96893942e-01  5.58162272e-01  2.97924224e-02]\n",
            "  [ 1.95277125e-01  9.95226920e-01  5.51319659e-01  4.95726578e-02]\n",
            "  ...\n",
            "  [ 2.00424033e-01  9.43758093e-01  4.00593748e-01  5.88605083e+00]\n",
            "  [ 2.00474538e-01  9.43387955e-01  3.93896561e-01  6.17228202e+00]\n",
            "  [ 2.00523449e-01  9.43031659e-01  3.87461420e-01  6.45007926e+00]]\n",
            "\n",
            " [[ 4.45409954e-01  2.61942972e-04  5.88465273e-01  5.36263764e-01]\n",
            "  [ 4.45935383e-01  3.52671180e-03  5.87679986e-01  5.60623746e-01]\n",
            "  [ 4.46198434e-01  5.17974402e-03  5.85172119e-01  5.58527328e-01]\n",
            "  ...\n",
            "  [ 4.61260663e-01  1.12126323e-01  4.88895990e-01  4.48863551e-01]\n",
            "  [ 4.61256388e-01  1.12079972e-01  4.92059248e-01  5.19722140e-01]\n",
            "  [ 4.61248987e-01  1.11995779e-01  4.97238594e-01  6.11091269e-01]]\n",
            "\n",
            " [[ 4.57385242e-01  5.18672541e-03  7.83968687e-01  9.03296769e-01]\n",
            "  [ 4.56553370e-01  1.06671825e-02  5.14173985e-01  3.76312584e-01]\n",
            "  [ 4.56738412e-01  1.45200333e-02  8.33822072e-01  6.60073221e-01]\n",
            "  ...\n",
            "  [ 4.76480934e-01 -1.45021226e-01 -3.46301984e+00 -1.92808329e+00]\n",
            "  [ 4.77310635e-01 -1.51517476e-01 -3.64538020e+00 -2.02492696e+00]\n",
            "  [ 4.78140295e-01 -1.58013433e-01 -3.82773025e+00 -2.12176684e+00]]\n",
            "\n",
            " ...\n",
            "\n",
            " [[ 2.03739017e-01  3.71068925e-01  6.07038081e-01  7.65079319e-01]\n",
            "  [ 2.01972010e-01  3.19239646e-01  5.28700177e-01  1.88847439e+00]\n",
            "  [ 2.00377174e-01  2.73726132e-01  4.59156018e-01  2.88713909e+00]\n",
            "  ...\n",
            "  [ 2.11850344e-01  5.64179970e-01  6.28511721e-01  2.37188097e-01]\n",
            "  [ 2.12085898e-01  5.59956490e-01  6.27736572e-01  2.27924117e-01]\n",
            "  [ 2.12310654e-01  5.55355928e-01  6.27148880e-01  2.20628907e-01]]\n",
            "\n",
            " [[ 4.61190522e-01  1.12897426e-01  5.00488758e-01  8.55189264e-01]\n",
            "  [ 4.61190719e-01  1.12894286e-01  5.00488758e-01  8.57102712e-01]\n",
            "  [ 4.61190730e-01  1.12894885e-01  5.00488758e-01  8.55189264e-01]\n",
            "  ...\n",
            "  [ 4.61190812e-01  1.12895893e-01  5.00488941e-01  8.25247242e-02]\n",
            "  [ 4.61190762e-01  1.12896359e-01  5.00488821e-01  7.91587301e-02]\n",
            "  [ 4.61190641e-01  1.12897426e-01  5.00488758e-01  7.74114728e-02]]\n",
            "\n",
            " [[ 4.85486716e-01  2.91496754e-01  5.02443790e-01  3.42124552e-01]\n",
            "  [ 4.85486716e-01  2.91496754e-01  5.00488758e-01  3.03540915e-01]\n",
            "  [ 4.85486567e-01  2.91499317e-01  5.01466274e-01  3.03540915e-01]\n",
            "  ...\n",
            "  [ 4.85486567e-01  2.91499317e-01  5.00488758e-01  3.56532522e-02]\n",
            "  [ 4.85486776e-01  2.91499317e-01  5.00488758e-01  4.37118672e-02]\n",
            "  [ 4.85486567e-01  2.91496754e-01  5.00488758e-01  5.81196658e-02]]]\n",
            "[1 5 3 ... 0 5 5]\n"
          ],
          "name": "stdout"
        }
      ]
    },
    {
      "cell_type": "code",
      "metadata": {
        "colab": {
          "base_uri": "https://localhost:8080/"
        },
        "id": "7p7gYa2lU9PW",
        "outputId": "e55814de-3fbf-4d53-9fc1-dea04f211470"
      },
      "source": [
        "print(final_input_train.shape)\n",
        "print(train_labels.shape)"
      ],
      "execution_count": null,
      "outputs": [
        {
          "output_type": "stream",
          "text": [
            "(82729, 73, 4)\n",
            "(82729,)\n"
          ],
          "name": "stdout"
        }
      ]
    },
    {
      "cell_type": "code",
      "metadata": {
        "colab": {
          "base_uri": "https://localhost:8080/"
        },
        "id": "bV6D-2FKSveE",
        "outputId": "70c13058-6373-45dd-b52d-2919f5b7e0f6"
      },
      "source": [
        "searchval = 3\n",
        "ii = np.where(train_labels == searchval)[0]\n",
        "print(ii)"
      ],
      "execution_count": null,
      "outputs": [
        {
          "output_type": "stream",
          "text": [
            "[    2   108   155   190   238   254   353   375   382   439   445   449\n",
            "   458   462   464   485   553   554   688   714   715   724   737   768\n",
            "   774   872   879   936  1036  1273  1279  1308  1323  1356  1378  1390\n",
            "  1417  1438  1533  1562  1592  1604  1692  1697  1709  1712  1713  1714\n",
            "  1769  1781  1985  2015  2052  2139  2140  2143  2146  2147  2150  2152\n",
            "  2153  2158  2160  2221  2297  2344  2351  2367  2512  2558  2638  2651\n",
            "  2841  2879  2888  2889  2894  2900  2910  2919  2953  2978  2992  3002\n",
            "  3022  3037  3043  3044  3114  3116  3117  3118  3119  3120  3121  3122\n",
            "  3124  3126  3131  3132  3133  3134  3291  3465  3503  3505  3507  3515\n",
            "  3521  3569  3574  3585  3612  3613  3695  3703  3756  3759  3761  3783\n",
            "  3792  3820  3855  3987  4053  4116  4294  4413  4426  4552  4709  4807\n",
            "  4817  4838  4849  4855  4856  4869  4870  4881  4882  4883  4884  4885\n",
            "  4886  4887  4888  4889  4890  4891  4892  4893  4894  4895  4911  4953\n",
            "  4956  5121  5170  5175  5356  5411  5505  5517  5533  5586  5594  5619\n",
            "  5621  5623  5624  5634  5635  5654  5681  5704  5812  5816  5893  5909\n",
            "  5912  5918  5919  5971  5972  5973  5974  5975  5976  5977  5978  5979\n",
            "  5980  5981  5982  5984  5986  5988  5991  5992  5993  5994  5995  5996\n",
            "  5997  5998  5999  6000  6001  6048  6053  6057  6058  6097  6105  6108\n",
            "  6172  6223  6234  6275  6432  6433  6434  6435  6436  6437  6438  6439\n",
            "  6440  6441  6442  6443  6444  6445  6446  6447  6448  6449  6450  6452\n",
            "  6498  6549  6550  6708  6718  6762  6771  6817  6837  6855  6858  6997\n",
            "  7030  7063  7129  7156  7160  7212  7251  7253  7417  7423  7595  7638\n",
            "  7639  7659  7853  7896  7919  7926  7927  7956  8157  8164  8205  8280\n",
            "  8376  8627  8628  8629  8632  8633  8634  8635  8636  8637  8638  8639\n",
            "  8658  8676  8681  8682  8692  8694  8695  8696  8697  8698  8700  8701\n",
            "  8702  8703  8704  8710  8716  8736  8737  8738  8739  8740  8741  8742\n",
            "  8743  8744  8745  8746  8747  8748  8749  8750  8751  8752  8753  8754\n",
            "  8755  8756  8757  8762  8768  8769  8770  8771  8772  8773  8774  8775\n",
            "  8776  8777  8778  8779  8780  8781  8782  8783  8784  8785  8786  8787\n",
            "  8788  8789  8790  8791  8792  8793  8794  8795  8796  8797  8798  8799\n",
            "  8800  8801  8802  8803  8804  8805  8806  8807  8808  8809  8810  8811\n",
            "  8812  8813  8814  8815  8816  8817  8818  8819  8820  8821  8822  8823\n",
            "  8824  8836  8885  9018  9027  9140  9296  9308  9315  9351  9546  9547\n",
            "  9871 10100 10110 10111 10112 10113 10122 10349 10611 10731 10933 11674\n",
            " 11675 11678 11682 11683 11687 11688 11690 11760 11886 12440 12619 12627\n",
            " 12628 12629 12630 12631 12636 12638 12639 12662]\n"
          ],
          "name": "stdout"
        }
      ]
    },
    {
      "cell_type": "code",
      "metadata": {
        "colab": {
          "base_uri": "https://localhost:8080/"
        },
        "id": "gQ7I_EBPSveG",
        "outputId": "570b8249-1252-4e0d-8234-b44ee49326ed"
      },
      "source": [
        "train_labels = np.delete(train_labels, ii)\n",
        "print(train_labels)"
      ],
      "execution_count": null,
      "outputs": [
        {
          "output_type": "stream",
          "text": [
            "[1 5 2 ... 1 1 4]\n"
          ],
          "name": "stdout"
        }
      ]
    },
    {
      "cell_type": "code",
      "metadata": {
        "colab": {
          "base_uri": "https://localhost:8080/"
        },
        "id": "Aq5K_yFrSveI",
        "outputId": "21022349-d97d-48ec-9567-81d4fd270dbb"
      },
      "source": [
        "final_input_train = np.delete(final_input_train,ii, axis = 0)\n",
        "print(final_input_train.shape)\n",
        "print(train_labels.shape)"
      ],
      "execution_count": null,
      "outputs": [
        {
          "output_type": "stream",
          "text": [
            "(12242, 73, 4)\n",
            "(12242,)\n"
          ],
          "name": "stdout"
        }
      ]
    },
    {
      "cell_type": "code",
      "metadata": {
        "colab": {
          "base_uri": "https://localhost:8080/"
        },
        "id": "1B_njQ9SSveJ",
        "outputId": "cd1826f0-c539-45a0-e81d-623e4ec13584"
      },
      "source": [
        "#an_array = np.where(an_array > 20, 0, an_array)\n",
        "train_labels = np.where(train_labels == 4, 3, train_labels)\n",
        "train_labels = np.where(train_labels == 5, 4, train_labels)\n",
        "train_labels = np.where(train_labels == 6, 5, train_labels)\n",
        "print(train_labels)"
      ],
      "execution_count": null,
      "outputs": [
        {
          "output_type": "stream",
          "text": [
            "[1 4 2 ... 1 1 3]\n"
          ],
          "name": "stdout"
        }
      ]
    },
    {
      "cell_type": "code",
      "metadata": {
        "colab": {
          "base_uri": "https://localhost:8080/"
        },
        "id": "Cghy-RyjSveK",
        "outputId": "33c70198-f42a-47fa-9a36-74f0d95efaa7"
      },
      "source": [
        "#shuffle arrays\n",
        "shuffler = np.random.permutation(len(final_input_train))\n",
        "final_input_train = final_input_train[shuffler]\n",
        "train_labels = train_labels[shuffler]\n",
        "\n",
        "#split into train and test\n",
        "final_input_test = final_input_train[57910:]\n",
        "arr = list(range(57910,final_input_train.shape[0] ))\n",
        "print(final_input_test.shape)\n",
        "\n",
        "final_input_train = np.delete(final_input_train, arr, 0)\n",
        "print(final_input_train.shape)\n",
        "\n",
        "test_labels = train_labels[57910:]\n",
        "print(len(test_labels))\n",
        "\n",
        "train_labels_final = train_labels[:57910]\n",
        "print(len(train_labels_final))\n",
        "\n",
        "#Get Unique values in each dataframe\n",
        "unique = list(dict.fromkeys(test_labels))\n",
        "unique2 = list(dict.fromkeys(train_labels_final))\n",
        "print(unique)\n",
        "print(unique2)\n",
        "\n"
      ],
      "execution_count": null,
      "outputs": [
        {
          "output_type": "stream",
          "text": [
            "(24819, 73, 4)\n",
            "(57910, 73, 4)\n",
            "24819\n",
            "57910\n",
            "[5, 2, 4, 0, 1, 6, 3]\n",
            "[0, 4, 2, 5, 6, 1, 3]\n"
          ],
          "name": "stdout"
        }
      ]
    },
    {
      "cell_type": "code",
      "metadata": {
        "colab": {
          "base_uri": "https://localhost:8080/"
        },
        "id": "m9fnE8C-VtXP",
        "outputId": "03778a95-b843-4718-bf5b-876b73937d3b"
      },
      "source": [
        "#One Hot Encode Types\n",
        "from keras.utils.np_utils import to_categorical\n",
        "test_labels = to_categorical(test_labels,num_classes = 7)\n",
        "train_labels_final = to_categorical(train_labels_final,num_classes = 7)\n",
        "print(len(test_labels))\n",
        "print(len(train_labels_final))"
      ],
      "execution_count": null,
      "outputs": [
        {
          "output_type": "stream",
          "text": [
            "24819\n",
            "57910\n"
          ],
          "name": "stdout"
        }
      ]
    },
    {
      "cell_type": "code",
      "metadata": {
        "colab": {
          "base_uri": "https://localhost:8080/"
        },
        "id": "hIRwyMW4SveM",
        "outputId": "a49c4c7d-d763-4476-e3e7-48ebb0481e65"
      },
      "source": [
        "from keras.models import Sequential\n",
        "from keras.layers import Dense\n",
        "from keras.layers import Flatten\n",
        "from keras.layers import Dropout\n",
        "from keras.layers.convolutional import Conv1D\n",
        "from keras.layers.convolutional import MaxPooling1D\n",
        "import keras\n",
        "# fit and evaluate a model\n",
        "verbose, epochs, batch_size = 2, 200, 16\n",
        "n_timesteps, n_features, n_outputs = final_input_train.shape[1], final_input_train.shape[2], 7\n",
        "model = Sequential()\n",
        "model.add(Conv1D(filters=64, kernel_size=3, activation='relu', input_shape=(n_timesteps,n_features)))\n",
        "model.add(Conv1D(filters=64, kernel_size=3, activation='relu'))\n",
        "model.add(Conv1D(filters=64, kernel_size=3, activation='relu'))\n",
        "#model.add(Conv1D(filters=64, kernel_size=3, activation='relu'))\n",
        "model.add(Dropout(0.5))\n",
        "model.add(MaxPooling1D(pool_size=2))\n",
        "model.add(Flatten())\n",
        "model.add(Dense(100, activation='relu'))\n",
        "model.add(Dense(n_outputs, activation='softmax'))\n",
        "opt = keras.optimizers.Adam(learning_rate=0.0003)\n",
        "model.compile(loss='categorical_crossentropy', optimizer=opt, metrics=['accuracy'])\n",
        "# fit network\n",
        "history =  model.fit(final_input_train, train_labels_final, epochs=epochs, batch_size=batch_size, verbose=verbose, shuffle = True)\n",
        "# evaluate model\n",
        "_, accuracy = model.evaluate(final_input_test, test_labels, batch_size=batch_size, verbose=0)\n",
        "print(accuracy *100)"
      ],
      "execution_count": null,
      "outputs": [
        {
          "output_type": "stream",
          "text": [
            "Epoch 1/200\n",
            "3620/3620 - 42s - loss: 1.5924 - accuracy: 0.5307\n",
            "Epoch 2/200\n",
            "3620/3620 - 42s - loss: 1.3687 - accuracy: 0.5629\n",
            "Epoch 3/200\n",
            "3620/3620 - 43s - loss: 1.2545 - accuracy: 0.5755\n",
            "Epoch 4/200\n",
            "3620/3620 - 43s - loss: 1.1666 - accuracy: 0.5872\n",
            "Epoch 5/200\n",
            "3620/3620 - 43s - loss: 1.1032 - accuracy: 0.5982\n",
            "Epoch 6/200\n",
            "3620/3620 - 43s - loss: 1.0980 - accuracy: 0.6073\n",
            "Epoch 7/200\n",
            "3620/3620 - 43s - loss: 1.0565 - accuracy: 0.6166\n",
            "Epoch 8/200\n",
            "3620/3620 - 43s - loss: 1.0281 - accuracy: 0.6247\n",
            "Epoch 9/200\n",
            "3620/3620 - 43s - loss: 1.0122 - accuracy: 0.6349\n",
            "Epoch 10/200\n",
            "3620/3620 - 43s - loss: 1.0333 - accuracy: 0.6399\n",
            "Epoch 11/200\n",
            "3620/3620 - 42s - loss: 0.9570 - accuracy: 0.6506\n",
            "Epoch 12/200\n",
            "3620/3620 - 43s - loss: 0.9502 - accuracy: 0.6545\n",
            "Epoch 13/200\n",
            "3620/3620 - 43s - loss: 0.9313 - accuracy: 0.6573\n",
            "Epoch 14/200\n",
            "3620/3620 - 42s - loss: 0.9192 - accuracy: 0.6647\n",
            "Epoch 15/200\n",
            "3620/3620 - 43s - loss: 0.9064 - accuracy: 0.6719\n",
            "Epoch 16/200\n",
            "3620/3620 - 43s - loss: 0.8911 - accuracy: 0.6756\n",
            "Epoch 17/200\n",
            "3620/3620 - 43s - loss: 0.8835 - accuracy: 0.6826\n",
            "Epoch 18/200\n",
            "3620/3620 - 43s - loss: 0.8655 - accuracy: 0.6845\n",
            "Epoch 19/200\n",
            "3620/3620 - 44s - loss: 0.8603 - accuracy: 0.6861\n",
            "Epoch 20/200\n",
            "3620/3620 - 44s - loss: 0.8471 - accuracy: 0.6925\n",
            "Epoch 21/200\n",
            "3620/3620 - 43s - loss: 0.8352 - accuracy: 0.6956\n",
            "Epoch 22/200\n",
            "3620/3620 - 44s - loss: 0.8234 - accuracy: 0.7008\n",
            "Epoch 23/200\n",
            "3620/3620 - 43s - loss: 0.8189 - accuracy: 0.7024\n",
            "Epoch 24/200\n",
            "3620/3620 - 43s - loss: 0.8041 - accuracy: 0.7082\n",
            "Epoch 25/200\n",
            "3620/3620 - 43s - loss: 0.8014 - accuracy: 0.7101\n",
            "Epoch 26/200\n",
            "3620/3620 - 44s - loss: 0.7880 - accuracy: 0.7148\n",
            "Epoch 27/200\n",
            "3620/3620 - 45s - loss: 0.7809 - accuracy: 0.7178\n",
            "Epoch 28/200\n",
            "3620/3620 - 45s - loss: 0.7712 - accuracy: 0.7185\n",
            "Epoch 29/200\n",
            "3620/3620 - 45s - loss: 0.7610 - accuracy: 0.7217\n",
            "Epoch 30/200\n",
            "3620/3620 - 44s - loss: 0.7560 - accuracy: 0.7242\n",
            "Epoch 31/200\n",
            "3620/3620 - 45s - loss: 0.7463 - accuracy: 0.7274\n",
            "Epoch 32/200\n",
            "3620/3620 - 44s - loss: 0.7379 - accuracy: 0.7315\n",
            "Epoch 33/200\n",
            "3620/3620 - 44s - loss: 0.7370 - accuracy: 0.7336\n",
            "Epoch 34/200\n",
            "3620/3620 - 44s - loss: 0.7274 - accuracy: 0.7332\n",
            "Epoch 35/200\n",
            "3620/3620 - 45s - loss: 0.7227 - accuracy: 0.7372\n",
            "Epoch 36/200\n",
            "3620/3620 - 43s - loss: 0.7100 - accuracy: 0.7412\n",
            "Epoch 37/200\n",
            "3620/3620 - 43s - loss: 0.7017 - accuracy: 0.7434\n",
            "Epoch 38/200\n",
            "3620/3620 - 43s - loss: 0.7050 - accuracy: 0.7454\n",
            "Epoch 39/200\n",
            "3620/3620 - 44s - loss: 0.6938 - accuracy: 0.7469\n",
            "Epoch 40/200\n",
            "3620/3620 - 44s - loss: 0.6815 - accuracy: 0.7496\n",
            "Epoch 41/200\n",
            "3620/3620 - 43s - loss: 0.6828 - accuracy: 0.7498\n",
            "Epoch 42/200\n",
            "3620/3620 - 44s - loss: 0.6761 - accuracy: 0.7516\n",
            "Epoch 43/200\n",
            "3620/3620 - 44s - loss: 0.6664 - accuracy: 0.7559\n",
            "Epoch 44/200\n",
            "3620/3620 - 44s - loss: 0.6633 - accuracy: 0.7576\n",
            "Epoch 45/200\n",
            "3620/3620 - 43s - loss: 0.6587 - accuracy: 0.7593\n",
            "Epoch 46/200\n",
            "3620/3620 - 44s - loss: 0.6630 - accuracy: 0.7548\n",
            "Epoch 47/200\n",
            "3620/3620 - 44s - loss: 0.6539 - accuracy: 0.7584\n",
            "Epoch 48/200\n",
            "3620/3620 - 43s - loss: 0.6450 - accuracy: 0.7628\n",
            "Epoch 49/200\n",
            "3620/3620 - 43s - loss: 0.6430 - accuracy: 0.7647\n",
            "Epoch 50/200\n",
            "3620/3620 - 44s - loss: 0.6305 - accuracy: 0.7688\n",
            "Epoch 51/200\n",
            "3620/3620 - 43s - loss: 0.6281 - accuracy: 0.7702\n",
            "Epoch 52/200\n",
            "3620/3620 - 43s - loss: 0.6214 - accuracy: 0.7698\n",
            "Epoch 53/200\n",
            "3620/3620 - 44s - loss: 0.6173 - accuracy: 0.7714\n",
            "Epoch 54/200\n",
            "3620/3620 - 45s - loss: 0.6122 - accuracy: 0.7741\n",
            "Epoch 55/200\n",
            "3620/3620 - 46s - loss: 0.6130 - accuracy: 0.7734\n",
            "Epoch 56/200\n",
            "3620/3620 - 45s - loss: 0.6075 - accuracy: 0.7757\n",
            "Epoch 57/200\n",
            "3620/3620 - 44s - loss: 0.6025 - accuracy: 0.7766\n",
            "Epoch 58/200\n",
            "3620/3620 - 43s - loss: 0.6024 - accuracy: 0.7779\n",
            "Epoch 59/200\n",
            "3620/3620 - 44s - loss: 0.5942 - accuracy: 0.7803\n",
            "Epoch 60/200\n",
            "3620/3620 - 43s - loss: 0.5910 - accuracy: 0.7825\n",
            "Epoch 61/200\n",
            "3620/3620 - 44s - loss: 0.5894 - accuracy: 0.7824\n",
            "Epoch 62/200\n",
            "3620/3620 - 44s - loss: 0.6335 - accuracy: 0.7828\n",
            "Epoch 63/200\n",
            "3620/3620 - 44s - loss: 0.5818 - accuracy: 0.7838\n",
            "Epoch 64/200\n",
            "3620/3620 - 44s - loss: 0.5782 - accuracy: 0.7841\n",
            "Epoch 65/200\n",
            "3620/3620 - 45s - loss: 0.5781 - accuracy: 0.7847\n",
            "Epoch 66/200\n",
            "3620/3620 - 45s - loss: 0.5704 - accuracy: 0.7889\n",
            "Epoch 67/200\n",
            "3620/3620 - 44s - loss: 0.5685 - accuracy: 0.7887\n",
            "Epoch 68/200\n",
            "3620/3620 - 45s - loss: 0.5693 - accuracy: 0.7888\n",
            "Epoch 69/200\n",
            "3620/3620 - 45s - loss: 0.5741 - accuracy: 0.7887\n",
            "Epoch 70/200\n",
            "3620/3620 - 45s - loss: 0.5625 - accuracy: 0.7905\n",
            "Epoch 71/200\n",
            "3620/3620 - 46s - loss: 0.5596 - accuracy: 0.7909\n",
            "Epoch 72/200\n",
            "3620/3620 - 46s - loss: 0.5534 - accuracy: 0.7942\n",
            "Epoch 73/200\n",
            "3620/3620 - 44s - loss: 0.5518 - accuracy: 0.7938\n",
            "Epoch 74/200\n",
            "3620/3620 - 44s - loss: 0.5462 - accuracy: 0.7956\n",
            "Epoch 75/200\n",
            "3620/3620 - 46s - loss: 0.5500 - accuracy: 0.7964\n",
            "Epoch 76/200\n",
            "3620/3620 - 46s - loss: 0.5829 - accuracy: 0.7951\n",
            "Epoch 77/200\n",
            "3620/3620 - 44s - loss: 0.5416 - accuracy: 0.7991\n",
            "Epoch 78/200\n",
            "3620/3620 - 45s - loss: 0.5384 - accuracy: 0.7989\n",
            "Epoch 79/200\n",
            "3620/3620 - 46s - loss: 0.5360 - accuracy: 0.8008\n",
            "Epoch 80/200\n",
            "3620/3620 - 45s - loss: 0.5301 - accuracy: 0.8030\n",
            "Epoch 81/200\n",
            "3620/3620 - 44s - loss: 0.5348 - accuracy: 0.8007\n",
            "Epoch 82/200\n",
            "3620/3620 - 44s - loss: 0.5327 - accuracy: 0.8014\n",
            "Epoch 83/200\n",
            "3620/3620 - 44s - loss: 0.5269 - accuracy: 0.8039\n",
            "Epoch 84/200\n",
            "3620/3620 - 44s - loss: 0.5239 - accuracy: 0.8045\n",
            "Epoch 85/200\n",
            "3620/3620 - 45s - loss: 0.5280 - accuracy: 0.8029\n",
            "Epoch 86/200\n",
            "3620/3620 - 45s - loss: 0.5235 - accuracy: 0.8034\n",
            "Epoch 87/200\n",
            "3620/3620 - 44s - loss: 0.5232 - accuracy: 0.8054\n",
            "Epoch 88/200\n",
            "3620/3620 - 46s - loss: 0.5173 - accuracy: 0.8069\n",
            "Epoch 89/200\n",
            "3620/3620 - 45s - loss: 0.5265 - accuracy: 0.8066\n",
            "Epoch 90/200\n",
            "3620/3620 - 44s - loss: 0.5243 - accuracy: 0.8073\n",
            "Epoch 91/200\n",
            "3620/3620 - 44s - loss: 0.5124 - accuracy: 0.8082\n",
            "Epoch 92/200\n",
            "3620/3620 - 46s - loss: 0.5105 - accuracy: 0.8081\n",
            "Epoch 93/200\n",
            "3620/3620 - 44s - loss: 0.5072 - accuracy: 0.8114\n",
            "Epoch 94/200\n",
            "3620/3620 - 44s - loss: 0.5059 - accuracy: 0.8112\n",
            "Epoch 95/200\n",
            "3620/3620 - 44s - loss: 0.5047 - accuracy: 0.8108\n",
            "Epoch 96/200\n",
            "3620/3620 - 46s - loss: 0.5039 - accuracy: 0.8120\n",
            "Epoch 97/200\n",
            "3620/3620 - 44s - loss: 0.5002 - accuracy: 0.8128\n",
            "Epoch 98/200\n",
            "3620/3620 - 44s - loss: 0.5026 - accuracy: 0.8126\n",
            "Epoch 99/200\n",
            "3620/3620 - 44s - loss: 0.4988 - accuracy: 0.8126\n",
            "Epoch 100/200\n",
            "3620/3620 - 44s - loss: 0.4974 - accuracy: 0.8140\n",
            "Epoch 101/200\n",
            "3620/3620 - 44s - loss: 0.5003 - accuracy: 0.8125\n",
            "Epoch 102/200\n",
            "3620/3620 - 43s - loss: 0.4956 - accuracy: 0.8142\n",
            "Epoch 103/200\n",
            "3620/3620 - 43s - loss: 0.5005 - accuracy: 0.8148\n",
            "Epoch 104/200\n",
            "3620/3620 - 45s - loss: 0.4919 - accuracy: 0.8160\n",
            "Epoch 105/200\n",
            "3620/3620 - 45s - loss: 0.4898 - accuracy: 0.8157\n",
            "Epoch 106/200\n",
            "3620/3620 - 44s - loss: 0.4896 - accuracy: 0.8174\n",
            "Epoch 107/200\n",
            "3620/3620 - 44s - loss: 0.4906 - accuracy: 0.8174\n",
            "Epoch 108/200\n",
            "3620/3620 - 45s - loss: 0.4861 - accuracy: 0.8207\n",
            "Epoch 109/200\n",
            "3620/3620 - 44s - loss: 0.4847 - accuracy: 0.8184\n",
            "Epoch 110/200\n",
            "3620/3620 - 44s - loss: 0.4835 - accuracy: 0.8195\n",
            "Epoch 111/200\n",
            "3620/3620 - 43s - loss: 0.4800 - accuracy: 0.8206\n",
            "Epoch 112/200\n",
            "3620/3620 - 43s - loss: 0.4825 - accuracy: 0.8186\n",
            "Epoch 113/200\n",
            "3620/3620 - 43s - loss: 0.4775 - accuracy: 0.8208\n",
            "Epoch 114/200\n",
            "3620/3620 - 43s - loss: 0.4790 - accuracy: 0.8209\n",
            "Epoch 115/200\n",
            "3620/3620 - 44s - loss: 0.4828 - accuracy: 0.8189\n",
            "Epoch 116/200\n",
            "3620/3620 - 45s - loss: 0.4744 - accuracy: 0.8219\n",
            "Epoch 117/200\n",
            "3620/3620 - 43s - loss: 0.4781 - accuracy: 0.8206\n",
            "Epoch 118/200\n",
            "3620/3620 - 45s - loss: 0.4718 - accuracy: 0.8242\n",
            "Epoch 119/200\n",
            "3620/3620 - 44s - loss: 0.4727 - accuracy: 0.8228\n",
            "Epoch 120/200\n",
            "3620/3620 - 44s - loss: 0.4736 - accuracy: 0.8243\n",
            "Epoch 121/200\n",
            "3620/3620 - 45s - loss: 0.4672 - accuracy: 0.8242\n",
            "Epoch 122/200\n",
            "3620/3620 - 45s - loss: 0.4667 - accuracy: 0.8244\n",
            "Epoch 123/200\n",
            "3620/3620 - 45s - loss: 0.4660 - accuracy: 0.8257\n",
            "Epoch 124/200\n",
            "3620/3620 - 44s - loss: 0.4674 - accuracy: 0.8256\n",
            "Epoch 125/200\n",
            "3620/3620 - 43s - loss: 0.4768 - accuracy: 0.8272\n",
            "Epoch 126/200\n",
            "3620/3620 - 44s - loss: 0.4680 - accuracy: 0.8253\n",
            "Epoch 127/200\n",
            "3620/3620 - 45s - loss: 0.4653 - accuracy: 0.8271\n",
            "Epoch 128/200\n",
            "3620/3620 - 45s - loss: 0.4636 - accuracy: 0.8267\n",
            "Epoch 129/200\n",
            "3620/3620 - 44s - loss: 0.4615 - accuracy: 0.8270\n",
            "Epoch 130/200\n",
            "3620/3620 - 44s - loss: 0.4606 - accuracy: 0.8276\n",
            "Epoch 131/200\n",
            "3620/3620 - 43s - loss: 0.4577 - accuracy: 0.8274\n",
            "Epoch 132/200\n",
            "3620/3620 - 44s - loss: 0.4610 - accuracy: 0.8271\n",
            "Epoch 133/200\n",
            "3620/3620 - 44s - loss: 0.4579 - accuracy: 0.8282\n",
            "Epoch 134/200\n",
            "3620/3620 - 43s - loss: 0.4582 - accuracy: 0.8290\n",
            "Epoch 135/200\n",
            "3620/3620 - 44s - loss: 0.4539 - accuracy: 0.8288\n",
            "Epoch 136/200\n",
            "3620/3620 - 44s - loss: 0.4555 - accuracy: 0.8298\n",
            "Epoch 137/200\n",
            "3620/3620 - 44s - loss: 0.4550 - accuracy: 0.8290\n",
            "Epoch 138/200\n",
            "3620/3620 - 43s - loss: 0.4617 - accuracy: 0.8280\n",
            "Epoch 139/200\n",
            "3620/3620 - 44s - loss: 0.4523 - accuracy: 0.8312\n",
            "Epoch 140/200\n",
            "3620/3620 - 45s - loss: 0.4512 - accuracy: 0.8308\n",
            "Epoch 141/200\n",
            "3620/3620 - 45s - loss: 0.4512 - accuracy: 0.8310\n",
            "Epoch 142/200\n",
            "3620/3620 - 44s - loss: 0.4506 - accuracy: 0.8328\n",
            "Epoch 143/200\n",
            "3620/3620 - 43s - loss: 0.4514 - accuracy: 0.8298\n",
            "Epoch 144/200\n",
            "3620/3620 - 44s - loss: 0.4460 - accuracy: 0.8324\n",
            "Epoch 145/200\n",
            "3620/3620 - 44s - loss: 0.4480 - accuracy: 0.8311\n",
            "Epoch 146/200\n",
            "3620/3620 - 44s - loss: 0.4491 - accuracy: 0.8314\n",
            "Epoch 147/200\n",
            "3620/3620 - 43s - loss: 0.4429 - accuracy: 0.8331\n",
            "Epoch 148/200\n",
            "3620/3620 - 43s - loss: 0.4418 - accuracy: 0.8340\n",
            "Epoch 149/200\n",
            "3620/3620 - 44s - loss: 0.4423 - accuracy: 0.8348\n",
            "Epoch 150/200\n",
            "3620/3620 - 44s - loss: 0.4436 - accuracy: 0.8343\n",
            "Epoch 151/200\n",
            "3620/3620 - 44s - loss: 0.4411 - accuracy: 0.8348\n",
            "Epoch 152/200\n",
            "3620/3620 - 44s - loss: 0.4434 - accuracy: 0.8327\n",
            "Epoch 153/200\n",
            "3620/3620 - 44s - loss: 0.4400 - accuracy: 0.8336\n",
            "Epoch 154/200\n",
            "3620/3620 - 44s - loss: 0.4391 - accuracy: 0.8355\n",
            "Epoch 155/200\n",
            "3620/3620 - 43s - loss: 0.4367 - accuracy: 0.8370\n",
            "Epoch 156/200\n",
            "3620/3620 - 43s - loss: 0.4373 - accuracy: 0.8340\n",
            "Epoch 157/200\n",
            "3620/3620 - 44s - loss: 0.4380 - accuracy: 0.8340\n",
            "Epoch 158/200\n",
            "3620/3620 - 44s - loss: 0.4386 - accuracy: 0.8352\n",
            "Epoch 159/200\n",
            "3620/3620 - 44s - loss: 0.4359 - accuracy: 0.8372\n",
            "Epoch 160/200\n",
            "3620/3620 - 43s - loss: 0.4339 - accuracy: 0.8373\n",
            "Epoch 161/200\n",
            "3620/3620 - 43s - loss: 0.4300 - accuracy: 0.8393\n",
            "Epoch 162/200\n",
            "3620/3620 - 43s - loss: 0.4338 - accuracy: 0.8369\n",
            "Epoch 163/200\n",
            "3620/3620 - 43s - loss: 0.4337 - accuracy: 0.8380\n",
            "Epoch 164/200\n",
            "3620/3620 - 44s - loss: 0.4355 - accuracy: 0.8358\n",
            "Epoch 165/200\n",
            "3620/3620 - 43s - loss: 0.4280 - accuracy: 0.8388\n",
            "Epoch 166/200\n",
            "3620/3620 - 43s - loss: 0.4414 - accuracy: 0.8369\n",
            "Epoch 167/200\n",
            "3620/3620 - 44s - loss: 0.4254 - accuracy: 0.8423\n",
            "Epoch 168/200\n",
            "3620/3620 - 44s - loss: 0.4255 - accuracy: 0.8403\n",
            "Epoch 169/200\n",
            "3620/3620 - 43s - loss: 0.4268 - accuracy: 0.8403\n",
            "Epoch 170/200\n",
            "3620/3620 - 43s - loss: 0.4311 - accuracy: 0.8401\n",
            "Epoch 171/200\n",
            "3620/3620 - 43s - loss: 0.4276 - accuracy: 0.8386\n",
            "Epoch 172/200\n",
            "3620/3620 - 43s - loss: 0.4241 - accuracy: 0.8398\n",
            "Epoch 173/200\n",
            "3620/3620 - 43s - loss: 0.4286 - accuracy: 0.8421\n",
            "Epoch 174/200\n",
            "3620/3620 - 44s - loss: 0.4238 - accuracy: 0.8407\n",
            "Epoch 175/200\n",
            "3620/3620 - 44s - loss: 0.4246 - accuracy: 0.8400\n",
            "Epoch 176/200\n",
            "3620/3620 - 44s - loss: 0.4219 - accuracy: 0.8412\n",
            "Epoch 177/200\n",
            "3620/3620 - 43s - loss: 0.4204 - accuracy: 0.8427\n",
            "Epoch 178/200\n",
            "3620/3620 - 44s - loss: 0.4233 - accuracy: 0.8419\n",
            "Epoch 179/200\n",
            "3620/3620 - 44s - loss: 0.4213 - accuracy: 0.8426\n",
            "Epoch 180/200\n",
            "3620/3620 - 44s - loss: 0.4232 - accuracy: 0.8431\n",
            "Epoch 181/200\n",
            "3620/3620 - 43s - loss: 0.4209 - accuracy: 0.8415\n",
            "Epoch 182/200\n",
            "3620/3620 - 44s - loss: 0.4178 - accuracy: 0.8439\n",
            "Epoch 183/200\n",
            "3620/3620 - 43s - loss: 0.4205 - accuracy: 0.8420\n",
            "Epoch 184/200\n",
            "3620/3620 - 43s - loss: 0.4223 - accuracy: 0.8407\n",
            "Epoch 185/200\n",
            "3620/3620 - 43s - loss: 0.4179 - accuracy: 0.8423\n",
            "Epoch 186/200\n",
            "3620/3620 - 43s - loss: 0.4238 - accuracy: 0.8426\n",
            "Epoch 187/200\n",
            "3620/3620 - 43s - loss: 0.4182 - accuracy: 0.8428\n",
            "Epoch 188/200\n",
            "3620/3620 - 43s - loss: 0.4122 - accuracy: 0.8452\n",
            "Epoch 189/200\n",
            "3620/3620 - 44s - loss: 0.4189 - accuracy: 0.8439\n",
            "Epoch 190/200\n",
            "3620/3620 - 45s - loss: 0.4215 - accuracy: 0.8420\n",
            "Epoch 191/200\n",
            "3620/3620 - 44s - loss: 0.4118 - accuracy: 0.8456\n",
            "Epoch 192/200\n",
            "3620/3620 - 45s - loss: 0.4153 - accuracy: 0.8433\n",
            "Epoch 193/200\n",
            "3620/3620 - 44s - loss: 0.4135 - accuracy: 0.8463\n",
            "Epoch 194/200\n",
            "3620/3620 - 44s - loss: 0.4078 - accuracy: 0.8469\n",
            "Epoch 195/200\n",
            "3620/3620 - 44s - loss: 0.4175 - accuracy: 0.8449\n",
            "Epoch 196/200\n",
            "3620/3620 - 43s - loss: 0.4103 - accuracy: 0.8455\n",
            "Epoch 197/200\n",
            "3620/3620 - 44s - loss: 0.4116 - accuracy: 0.8446\n",
            "Epoch 198/200\n",
            "3620/3620 - 44s - loss: 0.4144 - accuracy: 0.8461\n",
            "Epoch 199/200\n",
            "3620/3620 - 44s - loss: 0.4103 - accuracy: 0.8468\n",
            "Epoch 200/200\n",
            "3620/3620 - 43s - loss: 0.4276 - accuracy: 0.8454\n",
            "67.98017621040344\n"
          ],
          "name": "stdout"
        }
      ]
    },
    {
      "cell_type": "code",
      "metadata": {
        "colab": {
          "base_uri": "https://localhost:8080/",
          "height": 295
        },
        "id": "C-yJlilBSveO",
        "outputId": "bfb23dbc-10ae-40b5-bba7-da584a65dbf6"
      },
      "source": [
        "import matplotlib.pyplot as plt\n",
        "\n",
        "plt.plot(history.history['accuracy'])\n",
        "plt.title('model accuracy')\n",
        "plt.ylabel('accuracy')\n",
        "plt.xlabel('epoch')\n",
        "plt.legend(['train'], loc='upper left')\n",
        "plt.show()"
      ],
      "execution_count": null,
      "outputs": [
        {
          "output_type": "display_data",
          "data": {
            "image/png": "[encoded data removed]",
            "text/plain": [
              "<Figure size 432x288 with 1 Axes>"
            ]
          },
          "metadata": {
            "tags": [],
            "needs_background": "light"
          }
        }
      ]
    },
    {
      "cell_type": "code",
      "metadata": {
        "colab": {
          "base_uri": "https://localhost:8080/",
          "height": 295
        },
        "id": "WsZf-xOhSveO",
        "outputId": "0abafe38-0da0-47ef-92fd-2001b9743a0c"
      },
      "source": [
        "plt.plot(history.history['loss'])\n",
        "plt.title('model loss')\n",
        "plt.ylabel('loss')\n",
        "plt.xlabel('epoch')\n",
        "plt.legend(['train'], loc='upper left')\n",
        "plt.show()"
      ],
      "execution_count": null,
      "outputs": [
        {
          "output_type": "display_data",
          "data": {
            "image/png": "[encoded data removed]",
            "text/plain": [
              "<Figure size 432x288 with 1 Axes>"
            ]
          },
          "metadata": {
            "tags": [],
            "needs_background": "light"
          }
        }
      ]
    },
    {
      "cell_type": "code",
      "metadata": {
        "colab": {
          "base_uri": "https://localhost:8080/"
        },
        "id": "sQd7chBYSveO",
        "outputId": "a3503955-8b78-4eda-fc3f-413257d4c547"
      },
      "source": [
        "prediction = model.predict(final_input_test)\n",
        "\n",
        "max_given_input = np.argmax(test_labels, axis=1)\n",
        "max_predicted_output = np.argmax(prediction, axis=1)\n",
        "print(max_given_input)\n",
        "print(max_predicted_output)"
      ],
      "execution_count": null,
      "outputs": [
        {
          "output_type": "stream",
          "text": [
            "[5 2 4 ... 3 1 1]\n",
            "[5 5 5 ... 5 6 1]\n"
          ],
          "name": "stdout"
        }
      ]
    },
    {
      "cell_type": "code",
      "metadata": {
        "colab": {
          "base_uri": "https://localhost:8080/"
        },
        "id": "dA565XaWSveP",
        "outputId": "0fceec2d-a196-4cba-a58d-e9b681dc3b43"
      },
      "source": [
        "!pip install scikit-plot"
      ],
      "execution_count": null,
      "outputs": [
        {
          "output_type": "stream",
          "text": [
            "Collecting scikit-plot\n",
            "  Downloading https://files.pythonhosted.org/packages/7c/47/32520e259340c140a4ad27c1b97050dd3254fdc517b1d59974d47037510e/scikit_plot-0.3.7-py3-none-any.whl\n",
            "Requirement already satisfied: scikit-learn>=0.18 in /usr/local/lib/python3.7/dist-packages (from scikit-plot) (0.22.2.post1)\n",
            "Requirement already satisfied: joblib>=0.10 in /usr/local/lib/python3.7/dist-packages (from scikit-plot) (1.0.1)\n",
            "Requirement already satisfied: scipy>=0.9 in /usr/local/lib/python3.7/dist-packages (from scikit-plot) (1.4.1)\n",
            "Requirement already satisfied: matplotlib>=1.4.0 in /usr/local/lib/python3.7/dist-packages (from scikit-plot) (3.2.2)\n",
            "Requirement already satisfied: numpy>=1.11.0 in /usr/local/lib/python3.7/dist-packages (from scikit-learn>=0.18->scikit-plot) (1.19.5)\n",
            "Requirement already satisfied: python-dateutil>=2.1 in /usr/local/lib/python3.7/dist-packages (from matplotlib>=1.4.0->scikit-plot) (2.8.1)\n",
            "Requirement already satisfied: kiwisolver>=1.0.1 in /usr/local/lib/python3.7/dist-packages (from matplotlib>=1.4.0->scikit-plot) (1.3.1)\n",
            "Requirement already satisfied: cycler>=0.10 in /usr/local/lib/python3.7/dist-packages (from matplotlib>=1.4.0->scikit-plot) (0.10.0)\n",
            "Requirement already satisfied: pyparsing!=2.0.4,!=2.1.2,!=2.1.6,>=2.0.1 in /usr/local/lib/python3.7/dist-packages (from matplotlib>=1.4.0->scikit-plot) (2.4.7)\n",
            "Requirement already satisfied: six>=1.5 in /usr/local/lib/python3.7/dist-packages (from python-dateutil>=2.1->matplotlib>=1.4.0->scikit-plot) (1.15.0)\n",
            "Installing collected packages: scikit-plot\n",
            "Successfully installed scikit-plot-0.3.7\n"
          ],
          "name": "stdout"
        }
      ]
    },
    {
      "cell_type": "code",
      "metadata": {
        "colab": {
          "base_uri": "https://localhost:8080/",
          "height": 747
        },
        "id": "eMy_jttWSveP",
        "outputId": "c7046d15-8caf-4178-be4f-8a9fd97ab20a"
      },
      "source": [
        "from scikitplot.metrics import plot_confusion_matrix\n",
        "\n",
        "fig, ax = plt.subplots(figsize=(16,12))\n",
        "plot_confusion_matrix(max_given_input, max_predicted_output, ax=ax)\n"
      ],
      "execution_count": null,
      "outputs": [
        {
          "output_type": "execute_result",
          "data": {
            "text/plain": [
              "<matplotlib.axes._subplots.AxesSubplot at 0x7f9239f92550>"
            ]
          },
          "metadata": {
            "tags": []
          },
          "execution_count": 11
        },
        {
          "output_type": "display_data",
          "data": {
            "image/png": "[encoded data removed]",
            "text/plain": [
              "<Figure size 1152x864 with 2 Axes>"
            ]
          },
          "metadata": {
            "tags": [],
            "needs_background": "light"
          }
        }
      ]
    },
    {
      "cell_type": "code",
      "metadata": {
        "colab": {
          "base_uri": "https://localhost:8080/",
          "height": 308
        },
        "id": "PMdtz0RiSveP",
        "outputId": "57e08354-284f-4416-b842-dfa831db1102"
      },
      "source": [
        "import matplotlib.pyplot as plt\n",
        "\n",
        "fig, (ax1, ax2) = plt.subplots(2, sharex=True)\n",
        "fig.suptitle('Accuracy and Loss Curves')\n",
        "ax1.plot(history.history['accuracy'])\n",
        "ax2.plot(history.history['loss'])\n",
        "ax1.set(ylabel='accuracy percentage')\n",
        "ax2.set(xlabel='epochs', ylabel='loss')\n",
        "plt.savefig(\"/content/drive/MyDrive/capstone_plot_300.png\", dpi = 300)"
      ],
      "execution_count": null,
      "outputs": [
        {
          "output_type": "display_data",
          "data": {
            "image/png": "[encoded data removed]",
            "text/plain": [
              "<Figure size 432x288 with 2 Axes>"
            ]
          },
          "metadata": {
            "tags": [],
            "needs_background": "light"
          }
        }
      ]
    },
    {
      "cell_type": "code",
      "metadata": {
        "colab": {
          "base_uri": "https://localhost:8080/"
        },
        "id": "cKDchgP23rFY",
        "outputId": "61d267fc-b187-40a3-ab68-72d1bfe92fc2"
      },
      "source": [
        "model.save('/content/drive/MyDrive/AIS-CNN-Zone19.model')"
      ],
      "execution_count": null,
      "outputs": [
        {
          "output_type": "stream",
          "text": [
            "INFO:tensorflow:Assets written to: /content/drive/MyDrive/AIS-CNN-Zone19.model/assets\n"
          ],
          "name": "stdout"
        }
      ]
    },
    {
      "cell_type": "markdown",
      "metadata": {
        "id": "cTaUqbDE_99X"
      },
      "source": [
        "#Zone 19 (Total Data) (Removing type 3)"
      ]
    },
    {
      "cell_type": "code",
      "metadata": {
        "colab": {
          "base_uri": "https://localhost:8080/"
        },
        "id": "Eq3q-K1e_99e",
        "outputId": "04c3efbf-9e59-4aff-a75d-1beaea80731a"
      },
      "source": [
        "from google.colab import drive\n",
        "drive.mount('/content/drive/')\n",
        "\n",
        "import numpy as np\n",
        "import pandas as pd"
      ],
      "execution_count": null,
      "outputs": [
        {
          "output_type": "stream",
          "text": [
            "Mounted at /content/drive/\n"
          ],
          "name": "stdout"
        }
      ]
    },
    {
      "cell_type": "code",
      "metadata": {
        "colab": {
          "base_uri": "https://localhost:8080/"
        },
        "id": "iTNQHojK_99g",
        "outputId": "c107bb73-8946-461f-f828-429627150401"
      },
      "source": [
        "train_labels = np.load('/content/drive/MyDrive/Total AIS data/train_labels_total.npy')\n",
        "final_input_train = np.load('/content/drive/MyDrive/Total AIS data/train_input_total.npy')\n",
        "print(final_input_train)\n",
        "print(train_labels)"
      ],
      "execution_count": null,
      "outputs": [
        {
          "output_type": "stream",
          "text": [
            "[[[ 1.95521995e-01  9.98627126e-01  5.44477046e-01  4.54212613e-02]\n",
            "  [ 1.95396826e-01  9.96893942e-01  5.58162272e-01  2.97924224e-02]\n",
            "  [ 1.95277125e-01  9.95226920e-01  5.51319659e-01  4.95726578e-02]\n",
            "  ...\n",
            "  [ 2.00424033e-01  9.43758093e-01  4.00593748e-01  5.88605083e+00]\n",
            "  [ 2.00474538e-01  9.43387955e-01  3.93896561e-01  6.17228202e+00]\n",
            "  [ 2.00523449e-01  9.43031659e-01  3.87461420e-01  6.45007926e+00]]\n",
            "\n",
            " [[ 4.45409954e-01  2.61942972e-04  5.88465273e-01  5.36263764e-01]\n",
            "  [ 4.45935383e-01  3.52671180e-03  5.87679986e-01  5.60623746e-01]\n",
            "  [ 4.46198434e-01  5.17974402e-03  5.85172119e-01  5.58527328e-01]\n",
            "  ...\n",
            "  [ 4.61260663e-01  1.12126323e-01  4.88895990e-01  4.48863551e-01]\n",
            "  [ 4.61256388e-01  1.12079972e-01  4.92059248e-01  5.19722140e-01]\n",
            "  [ 4.61248987e-01  1.11995779e-01  4.97238594e-01  6.11091269e-01]]\n",
            "\n",
            " [[ 4.57385242e-01  5.18672541e-03  7.83968687e-01  9.03296769e-01]\n",
            "  [ 4.56553370e-01  1.06671825e-02  5.14173985e-01  3.76312584e-01]\n",
            "  [ 4.56738412e-01  1.45200333e-02  8.33822072e-01  6.60073221e-01]\n",
            "  ...\n",
            "  [ 4.76480934e-01 -1.45021226e-01 -3.46301984e+00 -1.92808329e+00]\n",
            "  [ 4.77310635e-01 -1.51517476e-01 -3.64538020e+00 -2.02492696e+00]\n",
            "  [ 4.78140295e-01 -1.58013433e-01 -3.82773025e+00 -2.12176684e+00]]\n",
            "\n",
            " ...\n",
            "\n",
            " [[ 2.03739017e-01  3.71068925e-01  6.07038081e-01  7.65079319e-01]\n",
            "  [ 2.01972010e-01  3.19239646e-01  5.28700177e-01  1.88847439e+00]\n",
            "  [ 2.00377174e-01  2.73726132e-01  4.59156018e-01  2.88713909e+00]\n",
            "  ...\n",
            "  [ 2.11850344e-01  5.64179970e-01  6.28511721e-01  2.37188097e-01]\n",
            "  [ 2.12085898e-01  5.59956490e-01  6.27736572e-01  2.27924117e-01]\n",
            "  [ 2.12310654e-01  5.55355928e-01  6.27148880e-01  2.20628907e-01]]\n",
            "\n",
            " [[ 4.61190522e-01  1.12897426e-01  5.00488758e-01  8.55189264e-01]\n",
            "  [ 4.61190719e-01  1.12894286e-01  5.00488758e-01  8.57102712e-01]\n",
            "  [ 4.61190730e-01  1.12894885e-01  5.00488758e-01  8.55189264e-01]\n",
            "  ...\n",
            "  [ 4.61190812e-01  1.12895893e-01  5.00488941e-01  8.25247242e-02]\n",
            "  [ 4.61190762e-01  1.12896359e-01  5.00488821e-01  7.91587301e-02]\n",
            "  [ 4.61190641e-01  1.12897426e-01  5.00488758e-01  7.74114728e-02]]\n",
            "\n",
            " [[ 4.85486716e-01  2.91496754e-01  5.02443790e-01  3.42124552e-01]\n",
            "  [ 4.85486716e-01  2.91496754e-01  5.00488758e-01  3.03540915e-01]\n",
            "  [ 4.85486567e-01  2.91499317e-01  5.01466274e-01  3.03540915e-01]\n",
            "  ...\n",
            "  [ 4.85486567e-01  2.91499317e-01  5.00488758e-01  3.56532522e-02]\n",
            "  [ 4.85486776e-01  2.91499317e-01  5.00488758e-01  4.37118672e-02]\n",
            "  [ 4.85486567e-01  2.91496754e-01  5.00488758e-01  5.81196658e-02]]]\n",
            "[1 5 3 ... 0 5 5]\n"
          ],
          "name": "stdout"
        }
      ]
    },
    {
      "cell_type": "code",
      "metadata": {
        "colab": {
          "base_uri": "https://localhost:8080/"
        },
        "id": "xYMzozB4_99h",
        "outputId": "264d32b6-eb20-42d8-aa61-d1ad7c519b0e"
      },
      "source": [
        "print(final_input_train.shape)\n",
        "print(train_labels.shape)"
      ],
      "execution_count": null,
      "outputs": [
        {
          "output_type": "stream",
          "text": [
            "(82729, 73, 4)\n",
            "(82729,)\n"
          ],
          "name": "stdout"
        }
      ]
    },
    {
      "cell_type": "code",
      "metadata": {
        "colab": {
          "base_uri": "https://localhost:8080/"
        },
        "id": "nvBC-o9j_99h",
        "outputId": "9cafe7cf-3c43-447d-e896-74e239277f05"
      },
      "source": [
        "searchval = 3\n",
        "ii = np.where(train_labels == searchval)[0]\n",
        "print(ii)"
      ],
      "execution_count": null,
      "outputs": [
        {
          "output_type": "stream",
          "text": [
            "[    2   108   155 ... 82519 82523 82719]\n"
          ],
          "name": "stdout"
        }
      ]
    },
    {
      "cell_type": "code",
      "metadata": {
        "colab": {
          "base_uri": "https://localhost:8080/"
        },
        "id": "LyG-qcR8_99i",
        "outputId": "73e7d5a1-cd24-4b7b-e393-e84b96cf295c"
      },
      "source": [
        "train_labels = np.delete(train_labels, ii)\n",
        "print(train_labels)"
      ],
      "execution_count": null,
      "outputs": [
        {
          "output_type": "stream",
          "text": [
            "[1 5 2 ... 0 5 5]\n"
          ],
          "name": "stdout"
        }
      ]
    },
    {
      "cell_type": "code",
      "metadata": {
        "colab": {
          "base_uri": "https://localhost:8080/"
        },
        "id": "kVFEJ0PB_99j",
        "outputId": "b6b8c84a-2ab1-457d-9985-773d2ca8a040"
      },
      "source": [
        "final_input_train = np.delete(final_input_train,ii, axis = 0)\n",
        "print(final_input_train.shape)\n",
        "print(train_labels.shape)"
      ],
      "execution_count": null,
      "outputs": [
        {
          "output_type": "stream",
          "text": [
            "(79052, 73, 4)\n",
            "(79052,)\n"
          ],
          "name": "stdout"
        }
      ]
    },
    {
      "cell_type": "code",
      "metadata": {
        "colab": {
          "base_uri": "https://localhost:8080/"
        },
        "id": "-cSvHuTb_99j",
        "outputId": "f08124fa-3ef4-458d-ae16-507381d7f9db"
      },
      "source": [
        "#an_array = np.where(an_array > 20, 0, an_array)\n",
        "train_labels = np.where(train_labels == 4, 3, train_labels)\n",
        "train_labels = np.where(train_labels == 5, 4, train_labels)\n",
        "train_labels = np.where(train_labels == 6, 5, train_labels)\n",
        "print(train_labels)"
      ],
      "execution_count": null,
      "outputs": [
        {
          "output_type": "stream",
          "text": [
            "[1 4 2 ... 0 4 4]\n"
          ],
          "name": "stdout"
        }
      ]
    },
    {
      "cell_type": "code",
      "metadata": {
        "colab": {
          "base_uri": "https://localhost:8080/"
        },
        "id": "KiQpwUMd_99k",
        "outputId": "bcba5052-37ff-4b12-8ecb-58fdeac602a6"
      },
      "source": [
        "#shuffle arrays\n",
        "shuffler = np.random.permutation(len(final_input_train))\n",
        "final_input_train = final_input_train[shuffler]\n",
        "train_labels = train_labels[shuffler]\n",
        "\n",
        "#split into train and test\n",
        "final_input_test = final_input_train[55336:]\n",
        "arr = list(range(55336,final_input_train.shape[0] ))\n",
        "print(final_input_test.shape)\n",
        "\n",
        "final_input_train = np.delete(final_input_train, arr, 0)\n",
        "print(final_input_train.shape)\n",
        "\n",
        "test_labels = train_labels[55336:]\n",
        "print(len(test_labels))\n",
        "\n",
        "train_labels_final = train_labels[:55336]\n",
        "print(len(train_labels_final))\n",
        "\n",
        "#Get Unique values in each dataframe\n",
        "unique = list(dict.fromkeys(test_labels))\n",
        "unique2 = list(dict.fromkeys(train_labels_final))\n",
        "print(unique)\n",
        "print(unique2)\n",
        "\n"
      ],
      "execution_count": null,
      "outputs": [
        {
          "output_type": "stream",
          "text": [
            "(23716, 73, 4)\n",
            "(55336, 73, 4)\n",
            "23716\n",
            "55336\n",
            "[1, 0, 2, 3, 4, 5]\n",
            "[2, 0, 4, 3, 1, 5]\n"
          ],
          "name": "stdout"
        }
      ]
    },
    {
      "cell_type": "code",
      "metadata": {
        "colab": {
          "base_uri": "https://localhost:8080/"
        },
        "id": "C3aXh1a6_99l",
        "outputId": "45d3a6d5-2808-411e-8397-9b2d7d641e34"
      },
      "source": [
        "#One Hot Encode Types\n",
        "from keras.utils.np_utils import to_categorical\n",
        "test_labels = to_categorical(test_labels,num_classes = 6)\n",
        "train_labels_final = to_categorical(train_labels_final,num_classes = 6)\n",
        "print(len(test_labels))\n",
        "print(len(train_labels_final))"
      ],
      "execution_count": null,
      "outputs": [
        {
          "output_type": "stream",
          "text": [
            "23716\n",
            "55336\n"
          ],
          "name": "stdout"
        }
      ]
    },
    {
      "cell_type": "code",
      "metadata": {
        "colab": {
          "base_uri": "https://localhost:8080/"
        },
        "id": "bR8szteb_99m",
        "outputId": "9ee1d5e3-de80-4ea8-8ca4-a61017081b36"
      },
      "source": [
        "from keras.models import Sequential\n",
        "from keras.layers import Dense\n",
        "from keras.layers import Flatten\n",
        "from keras.layers import Dropout\n",
        "from keras.layers.convolutional import Conv1D\n",
        "from keras.layers.convolutional import MaxPooling1D\n",
        "import keras\n",
        "# fit and evaluate a model\n",
        "verbose, epochs, batch_size = 2, 200, 16\n",
        "n_timesteps, n_features, n_outputs = final_input_train.shape[1], final_input_train.shape[2], 6\n",
        "model = Sequential()\n",
        "model.add(Conv1D(filters=64, kernel_size=3, activation='relu', input_shape=(n_timesteps,n_features)))\n",
        "model.add(Conv1D(filters=64, kernel_size=3, activation='relu'))\n",
        "model.add(Conv1D(filters=64, kernel_size=3, activation='relu'))\n",
        "#model.add(Conv1D(filters=64, kernel_size=3, activation='relu'))\n",
        "model.add(Dropout(0.5))\n",
        "model.add(MaxPooling1D(pool_size=2))\n",
        "model.add(Flatten())\n",
        "model.add(Dense(100, activation='relu'))\n",
        "model.add(Dense(n_outputs, activation='softmax'))\n",
        "opt = keras.optimizers.Adam(learning_rate=0.0003)\n",
        "model.compile(loss='categorical_crossentropy', optimizer=opt, metrics=['accuracy'])\n",
        "# fit network\n",
        "history =  model.fit(final_input_train, train_labels_final, epochs=epochs, batch_size=batch_size, verbose=verbose, shuffle = True)\n",
        "# evaluate model\n",
        "_, accuracy = model.evaluate(final_input_test, test_labels, batch_size=batch_size, verbose=0)\n",
        "print(accuracy *100)"
      ],
      "execution_count": null,
      "outputs": [
        {
          "output_type": "stream",
          "text": [
            "Epoch 1/200\n",
            "3459/3459 - 40s - loss: 1.3606 - accuracy: 0.5634\n",
            "Epoch 2/200\n",
            "3459/3459 - 40s - loss: 1.1677 - accuracy: 0.5909\n",
            "Epoch 3/200\n",
            "3459/3459 - 40s - loss: 1.0588 - accuracy: 0.6071\n",
            "Epoch 4/200\n",
            "3459/3459 - 40s - loss: 0.9989 - accuracy: 0.6194\n",
            "Epoch 5/200\n",
            "3459/3459 - 40s - loss: 0.9619 - accuracy: 0.6316\n",
            "Epoch 6/200\n",
            "3459/3459 - 41s - loss: 0.9314 - accuracy: 0.6417\n",
            "Epoch 7/200\n",
            "3459/3459 - 41s - loss: 0.9030 - accuracy: 0.6536\n",
            "Epoch 8/200\n",
            "3459/3459 - 41s - loss: 0.8804 - accuracy: 0.6602\n",
            "Epoch 9/200\n",
            "3459/3459 - 41s - loss: 0.8585 - accuracy: 0.6709\n",
            "Epoch 10/200\n",
            "3459/3459 - 41s - loss: 0.8397 - accuracy: 0.6771\n",
            "Epoch 11/200\n",
            "3459/3459 - 41s - loss: 0.8221 - accuracy: 0.6835\n",
            "Epoch 12/200\n",
            "3459/3459 - 41s - loss: 0.8090 - accuracy: 0.6878\n",
            "Epoch 13/200\n",
            "3459/3459 - 41s - loss: 0.7940 - accuracy: 0.6982\n",
            "Epoch 14/200\n",
            "3459/3459 - 41s - loss: 0.7807 - accuracy: 0.7010\n",
            "Epoch 15/200\n",
            "3459/3459 - 40s - loss: 0.7705 - accuracy: 0.7063\n",
            "Epoch 16/200\n",
            "3459/3459 - 40s - loss: 0.7593 - accuracy: 0.7094\n",
            "Epoch 17/200\n",
            "3459/3459 - 40s - loss: 0.7501 - accuracy: 0.7130\n",
            "Epoch 18/200\n",
            "3459/3459 - 41s - loss: 0.7406 - accuracy: 0.7180\n",
            "Epoch 19/200\n",
            "3459/3459 - 40s - loss: 0.7303 - accuracy: 0.7222\n",
            "Epoch 20/200\n",
            "3459/3459 - 41s - loss: 0.7201 - accuracy: 0.7242\n",
            "Epoch 21/200\n",
            "3459/3459 - 42s - loss: 0.7110 - accuracy: 0.7260\n",
            "Epoch 22/200\n",
            "3459/3459 - 41s - loss: 0.7023 - accuracy: 0.7340\n",
            "Epoch 23/200\n",
            "3459/3459 - 41s - loss: 0.6932 - accuracy: 0.7361\n",
            "Epoch 24/200\n",
            "3459/3459 - 41s - loss: 0.6852 - accuracy: 0.7395\n",
            "Epoch 25/200\n",
            "3459/3459 - 41s - loss: 0.6775 - accuracy: 0.7409\n",
            "Epoch 26/200\n",
            "3459/3459 - 41s - loss: 0.6690 - accuracy: 0.7462\n",
            "Epoch 27/200\n",
            "3459/3459 - 41s - loss: 0.6602 - accuracy: 0.7486\n",
            "Epoch 28/200\n",
            "3459/3459 - 41s - loss: 0.6572 - accuracy: 0.7489\n",
            "Epoch 29/200\n",
            "3459/3459 - 42s - loss: 0.6525 - accuracy: 0.7515\n",
            "Epoch 30/200\n",
            "3459/3459 - 41s - loss: 0.6380 - accuracy: 0.7568\n",
            "Epoch 31/200\n",
            "3459/3459 - 42s - loss: 0.6331 - accuracy: 0.7573\n",
            "Epoch 32/200\n",
            "3459/3459 - 42s - loss: 0.6264 - accuracy: 0.7603\n",
            "Epoch 33/200\n",
            "3459/3459 - 41s - loss: 0.6173 - accuracy: 0.7629\n",
            "Epoch 34/200\n",
            "3459/3459 - 42s - loss: 0.6119 - accuracy: 0.7659\n",
            "Epoch 35/200\n",
            "3459/3459 - 42s - loss: 0.6054 - accuracy: 0.7678\n",
            "Epoch 36/200\n",
            "3459/3459 - 43s - loss: 0.5991 - accuracy: 0.7712\n",
            "Epoch 37/200\n",
            "3459/3459 - 42s - loss: 0.5900 - accuracy: 0.7739\n",
            "Epoch 38/200\n",
            "3459/3459 - 43s - loss: 0.5880 - accuracy: 0.7754\n",
            "Epoch 39/200\n",
            "3459/3459 - 42s - loss: 0.5805 - accuracy: 0.7777\n",
            "Epoch 40/200\n",
            "3459/3459 - 42s - loss: 0.5738 - accuracy: 0.7772\n",
            "Epoch 41/200\n",
            "3459/3459 - 42s - loss: 0.5717 - accuracy: 0.7792\n",
            "Epoch 42/200\n",
            "3459/3459 - 42s - loss: 0.5610 - accuracy: 0.7840\n",
            "Epoch 43/200\n",
            "3459/3459 - 42s - loss: 0.5582 - accuracy: 0.7848\n",
            "Epoch 44/200\n",
            "3459/3459 - 43s - loss: 0.5550 - accuracy: 0.7869\n",
            "Epoch 45/200\n",
            "3459/3459 - 43s - loss: 0.5493 - accuracy: 0.7890\n",
            "Epoch 46/200\n",
            "3459/3459 - 43s - loss: 0.5429 - accuracy: 0.7902\n",
            "Epoch 47/200\n",
            "3459/3459 - 43s - loss: 0.5394 - accuracy: 0.7922\n",
            "Epoch 48/200\n",
            "3459/3459 - 42s - loss: 0.5336 - accuracy: 0.7944\n",
            "Epoch 49/200\n",
            "3459/3459 - 42s - loss: 0.5360 - accuracy: 0.7924\n",
            "Epoch 50/200\n",
            "3459/3459 - 42s - loss: 0.5267 - accuracy: 0.7962\n",
            "Epoch 51/200\n",
            "3459/3459 - 42s - loss: 0.5265 - accuracy: 0.7995\n",
            "Epoch 52/200\n",
            "3459/3459 - 43s - loss: 0.5159 - accuracy: 0.8004\n",
            "Epoch 53/200\n",
            "3459/3459 - 42s - loss: 0.5127 - accuracy: 0.8027\n",
            "Epoch 54/200\n",
            "3459/3459 - 42s - loss: 0.5106 - accuracy: 0.8038\n",
            "Epoch 55/200\n",
            "3459/3459 - 42s - loss: 0.5078 - accuracy: 0.8044\n",
            "Epoch 56/200\n",
            "3459/3459 - 42s - loss: 0.5003 - accuracy: 0.8076\n",
            "Epoch 57/200\n",
            "3459/3459 - 42s - loss: 0.4990 - accuracy: 0.8065\n",
            "Epoch 58/200\n",
            "3459/3459 - 42s - loss: 0.4943 - accuracy: 0.8085\n",
            "Epoch 59/200\n",
            "3459/3459 - 42s - loss: 0.4932 - accuracy: 0.8086\n",
            "Epoch 60/200\n",
            "3459/3459 - 43s - loss: 0.4915 - accuracy: 0.8101\n",
            "Epoch 61/200\n",
            "3459/3459 - 42s - loss: 0.4879 - accuracy: 0.8120\n",
            "Epoch 62/200\n",
            "3459/3459 - 42s - loss: 0.4865 - accuracy: 0.8107\n",
            "Epoch 63/200\n",
            "3459/3459 - 42s - loss: 0.4852 - accuracy: 0.8106\n",
            "Epoch 64/200\n",
            "3459/3459 - 42s - loss: 0.4781 - accuracy: 0.8137\n",
            "Epoch 65/200\n",
            "3459/3459 - 43s - loss: 0.4776 - accuracy: 0.8146\n",
            "Epoch 66/200\n",
            "3459/3459 - 43s - loss: 0.4755 - accuracy: 0.8160\n",
            "Epoch 67/200\n",
            "3459/3459 - 42s - loss: 0.4690 - accuracy: 0.8181\n",
            "Epoch 68/200\n",
            "3459/3459 - 41s - loss: 0.4677 - accuracy: 0.8181\n",
            "Epoch 69/200\n",
            "3459/3459 - 42s - loss: 0.4649 - accuracy: 0.8196\n",
            "Epoch 70/200\n",
            "3459/3459 - 43s - loss: 0.4638 - accuracy: 0.8198\n",
            "Epoch 71/200\n",
            "3459/3459 - 43s - loss: 0.4560 - accuracy: 0.8236\n",
            "Epoch 72/200\n",
            "3459/3459 - 43s - loss: 0.4591 - accuracy: 0.8205\n",
            "Epoch 73/200\n",
            "3459/3459 - 43s - loss: 0.4527 - accuracy: 0.8236\n",
            "Epoch 74/200\n",
            "3459/3459 - 42s - loss: 0.4563 - accuracy: 0.8224\n",
            "Epoch 75/200\n",
            "3459/3459 - 43s - loss: 0.4488 - accuracy: 0.8253\n",
            "Epoch 76/200\n",
            "3459/3459 - 43s - loss: 0.4565 - accuracy: 0.8222\n",
            "Epoch 77/200\n",
            "3459/3459 - 42s - loss: 0.4469 - accuracy: 0.8250\n",
            "Epoch 78/200\n",
            "3459/3459 - 42s - loss: 0.4441 - accuracy: 0.8270\n",
            "Epoch 79/200\n",
            "3459/3459 - 43s - loss: 0.4418 - accuracy: 0.8273\n",
            "Epoch 80/200\n",
            "3459/3459 - 43s - loss: 0.4445 - accuracy: 0.8272\n",
            "Epoch 81/200\n",
            "3459/3459 - 43s - loss: 0.4393 - accuracy: 0.8290\n",
            "Epoch 82/200\n",
            "3459/3459 - 42s - loss: 0.4388 - accuracy: 0.8269\n",
            "Epoch 83/200\n",
            "3459/3459 - 42s - loss: 0.4322 - accuracy: 0.8304\n",
            "Epoch 84/200\n",
            "3459/3459 - 42s - loss: 0.4330 - accuracy: 0.8301\n",
            "Epoch 85/200\n",
            "3459/3459 - 43s - loss: 0.4310 - accuracy: 0.8326\n",
            "Epoch 86/200\n",
            "3459/3459 - 42s - loss: 0.4688 - accuracy: 0.8332\n",
            "Epoch 87/200\n",
            "3459/3459 - 43s - loss: 0.4250 - accuracy: 0.8339\n",
            "Epoch 88/200\n",
            "3459/3459 - 42s - loss: 0.4273 - accuracy: 0.8336\n",
            "Epoch 89/200\n",
            "3459/3459 - 41s - loss: 0.4278 - accuracy: 0.8329\n",
            "Epoch 90/200\n",
            "3459/3459 - 41s - loss: 0.4265 - accuracy: 0.8352\n",
            "Epoch 91/200\n",
            "3459/3459 - 41s - loss: 0.4248 - accuracy: 0.8349\n",
            "Epoch 92/200\n",
            "3459/3459 - 42s - loss: 0.4200 - accuracy: 0.8359\n",
            "Epoch 93/200\n",
            "3459/3459 - 43s - loss: 0.4158 - accuracy: 0.8376\n",
            "Epoch 94/200\n",
            "3459/3459 - 42s - loss: 0.4259 - accuracy: 0.8368\n",
            "Epoch 95/200\n",
            "3459/3459 - 42s - loss: 0.4212 - accuracy: 0.8385\n",
            "Epoch 96/200\n",
            "3459/3459 - 42s - loss: 0.4146 - accuracy: 0.8392\n",
            "Epoch 97/200\n",
            "3459/3459 - 42s - loss: 0.4137 - accuracy: 0.8364\n",
            "Epoch 98/200\n",
            "3459/3459 - 42s - loss: 0.4196 - accuracy: 0.8370\n",
            "Epoch 99/200\n",
            "3459/3459 - 42s - loss: 0.4124 - accuracy: 0.8382\n",
            "Epoch 100/200\n",
            "3459/3459 - 42s - loss: 0.4131 - accuracy: 0.8387\n",
            "Epoch 101/200\n",
            "3459/3459 - 42s - loss: 0.4130 - accuracy: 0.8410\n",
            "Epoch 102/200\n",
            "3459/3459 - 43s - loss: 0.4038 - accuracy: 0.8420\n",
            "Epoch 103/200\n",
            "3459/3459 - 42s - loss: 0.4204 - accuracy: 0.8415\n",
            "Epoch 104/200\n",
            "3459/3459 - 42s - loss: 0.4080 - accuracy: 0.8397\n",
            "Epoch 105/200\n",
            "3459/3459 - 43s - loss: 0.4038 - accuracy: 0.8419\n",
            "Epoch 106/200\n",
            "3459/3459 - 43s - loss: 0.4070 - accuracy: 0.8419\n",
            "Epoch 107/200\n",
            "3459/3459 - 42s - loss: 0.4018 - accuracy: 0.8434\n",
            "Epoch 108/200\n",
            "3459/3459 - 42s - loss: 0.4047 - accuracy: 0.8412\n",
            "Epoch 109/200\n",
            "3459/3459 - 42s - loss: 0.4009 - accuracy: 0.8424\n",
            "Epoch 110/200\n",
            "3459/3459 - 42s - loss: 0.4011 - accuracy: 0.8420\n",
            "Epoch 111/200\n",
            "3459/3459 - 42s - loss: 0.3960 - accuracy: 0.8440\n",
            "Epoch 112/200\n",
            "3459/3459 - 43s - loss: 0.3972 - accuracy: 0.8433\n",
            "Epoch 113/200\n",
            "3459/3459 - 43s - loss: 0.3949 - accuracy: 0.8464\n",
            "Epoch 114/200\n",
            "3459/3459 - 43s - loss: 0.3933 - accuracy: 0.8476\n",
            "Epoch 115/200\n",
            "3459/3459 - 43s - loss: 0.3946 - accuracy: 0.8472\n",
            "Epoch 116/200\n",
            "3459/3459 - 43s - loss: 0.3902 - accuracy: 0.8477\n",
            "Epoch 117/200\n",
            "3459/3459 - 42s - loss: 0.3923 - accuracy: 0.8472\n",
            "Epoch 118/200\n",
            "3459/3459 - 43s - loss: 0.3891 - accuracy: 0.8473\n",
            "Epoch 119/200\n",
            "3459/3459 - 43s - loss: 0.3895 - accuracy: 0.8474\n",
            "Epoch 120/200\n",
            "3459/3459 - 43s - loss: 0.3880 - accuracy: 0.8483\n",
            "Epoch 121/200\n",
            "3459/3459 - 43s - loss: 0.3882 - accuracy: 0.8491\n",
            "Epoch 122/200\n",
            "3459/3459 - 43s - loss: 0.3847 - accuracy: 0.8506\n",
            "Epoch 123/200\n",
            "3459/3459 - 44s - loss: 0.3838 - accuracy: 0.8483\n",
            "Epoch 124/200\n",
            "3459/3459 - 45s - loss: 0.3803 - accuracy: 0.8517\n",
            "Epoch 125/200\n",
            "3459/3459 - 44s - loss: 0.3844 - accuracy: 0.8487\n",
            "Epoch 126/200\n",
            "3459/3459 - 44s - loss: 0.3813 - accuracy: 0.8508\n",
            "Epoch 127/200\n",
            "3459/3459 - 43s - loss: 0.3807 - accuracy: 0.8506\n",
            "Epoch 128/200\n",
            "3459/3459 - 44s - loss: 0.3806 - accuracy: 0.8491\n",
            "Epoch 129/200\n",
            "3459/3459 - 44s - loss: 0.3798 - accuracy: 0.8520\n",
            "Epoch 130/200\n",
            "3459/3459 - 44s - loss: 0.3763 - accuracy: 0.8516\n",
            "Epoch 131/200\n",
            "3459/3459 - 44s - loss: 0.3784 - accuracy: 0.8513\n",
            "Epoch 132/200\n",
            "3459/3459 - 45s - loss: 0.3762 - accuracy: 0.8522\n",
            "Epoch 133/200\n",
            "3459/3459 - 44s - loss: 0.3743 - accuracy: 0.8541\n",
            "Epoch 134/200\n",
            "3459/3459 - 44s - loss: 0.3760 - accuracy: 0.8520\n",
            "Epoch 135/200\n",
            "3459/3459 - 45s - loss: 0.3744 - accuracy: 0.8531\n",
            "Epoch 136/200\n",
            "3459/3459 - 43s - loss: 0.3731 - accuracy: 0.8538\n",
            "Epoch 137/200\n",
            "3459/3459 - 43s - loss: 0.3741 - accuracy: 0.8537\n",
            "Epoch 138/200\n",
            "3459/3459 - 43s - loss: 0.3684 - accuracy: 0.8554\n",
            "Epoch 139/200\n",
            "3459/3459 - 43s - loss: 0.3714 - accuracy: 0.8560\n",
            "Epoch 140/200\n",
            "3459/3459 - 43s - loss: 0.3687 - accuracy: 0.8547\n",
            "Epoch 141/200\n",
            "3459/3459 - 42s - loss: 0.3682 - accuracy: 0.8549\n",
            "Epoch 142/200\n",
            "3459/3459 - 43s - loss: 0.3692 - accuracy: 0.8557\n",
            "Epoch 143/200\n",
            "3459/3459 - 42s - loss: 0.3685 - accuracy: 0.8561\n",
            "Epoch 144/200\n",
            "3459/3459 - 42s - loss: 0.3690 - accuracy: 0.8552\n",
            "Epoch 145/200\n",
            "3459/3459 - 42s - loss: 0.3659 - accuracy: 0.8571\n",
            "Epoch 146/200\n",
            "3459/3459 - 42s - loss: 0.3670 - accuracy: 0.8565\n",
            "Epoch 147/200\n",
            "3459/3459 - 43s - loss: 0.3664 - accuracy: 0.8554\n",
            "Epoch 148/200\n",
            "3459/3459 - 44s - loss: 0.3624 - accuracy: 0.8588\n",
            "Epoch 149/200\n",
            "3459/3459 - 43s - loss: 0.3649 - accuracy: 0.8576\n",
            "Epoch 150/200\n",
            "3459/3459 - 42s - loss: 0.3624 - accuracy: 0.8590\n",
            "Epoch 151/200\n",
            "3459/3459 - 42s - loss: 0.3623 - accuracy: 0.8582\n",
            "Epoch 152/200\n",
            "3459/3459 - 42s - loss: 0.3588 - accuracy: 0.8574\n",
            "Epoch 153/200\n",
            "3459/3459 - 43s - loss: 0.3609 - accuracy: 0.8587\n",
            "Epoch 154/200\n",
            "3459/3459 - 43s - loss: 0.3650 - accuracy: 0.8561\n",
            "Epoch 155/200\n",
            "3459/3459 - 43s - loss: 0.3605 - accuracy: 0.8571\n",
            "Epoch 156/200\n",
            "3459/3459 - 43s - loss: 0.3615 - accuracy: 0.8595\n",
            "Epoch 157/200\n",
            "3459/3459 - 43s - loss: 0.3594 - accuracy: 0.8595\n",
            "Epoch 158/200\n",
            "3459/3459 - 42s - loss: 0.3591 - accuracy: 0.8597\n",
            "Epoch 159/200\n",
            "3459/3459 - 43s - loss: 0.3545 - accuracy: 0.8621\n",
            "Epoch 160/200\n",
            "3459/3459 - 42s - loss: 0.3626 - accuracy: 0.8583\n",
            "Epoch 161/200\n",
            "3459/3459 - 43s - loss: 0.3531 - accuracy: 0.8600\n",
            "Epoch 162/200\n",
            "3459/3459 - 42s - loss: 0.3513 - accuracy: 0.8632\n",
            "Epoch 163/200\n",
            "3459/3459 - 43s - loss: 0.3537 - accuracy: 0.8620\n",
            "Epoch 164/200\n",
            "3459/3459 - 43s - loss: 0.3533 - accuracy: 0.8615\n",
            "Epoch 165/200\n",
            "3459/3459 - 44s - loss: 0.3546 - accuracy: 0.8612\n",
            "Epoch 166/200\n",
            "3459/3459 - 43s - loss: 0.3536 - accuracy: 0.8620\n",
            "Epoch 167/200\n",
            "3459/3459 - 43s - loss: 0.3548 - accuracy: 0.8606\n",
            "Epoch 168/200\n",
            "3459/3459 - 44s - loss: 0.3502 - accuracy: 0.8625\n",
            "Epoch 169/200\n",
            "3459/3459 - 43s - loss: 0.3509 - accuracy: 0.8627\n",
            "Epoch 170/200\n",
            "3459/3459 - 43s - loss: 0.3510 - accuracy: 0.8623\n",
            "Epoch 171/200\n",
            "3459/3459 - 42s - loss: 0.3596 - accuracy: 0.8607\n",
            "Epoch 172/200\n",
            "3459/3459 - 42s - loss: 0.3453 - accuracy: 0.8645\n",
            "Epoch 173/200\n",
            "3459/3459 - 42s - loss: 0.3486 - accuracy: 0.8632\n",
            "Epoch 174/200\n",
            "3459/3459 - 43s - loss: 0.3468 - accuracy: 0.8649\n",
            "Epoch 175/200\n",
            "3459/3459 - 42s - loss: 0.3464 - accuracy: 0.8648\n",
            "Epoch 176/200\n",
            "3459/3459 - 43s - loss: 0.3491 - accuracy: 0.8618\n",
            "Epoch 177/200\n",
            "3459/3459 - 43s - loss: 0.3446 - accuracy: 0.8650\n",
            "Epoch 178/200\n",
            "3459/3459 - 42s - loss: 0.3424 - accuracy: 0.8648\n",
            "Epoch 179/200\n",
            "3459/3459 - 42s - loss: 0.3439 - accuracy: 0.8654\n",
            "Epoch 180/200\n",
            "3459/3459 - 42s - loss: 0.3468 - accuracy: 0.8638\n",
            "Epoch 181/200\n",
            "3459/3459 - 43s - loss: 0.3421 - accuracy: 0.8663\n",
            "Epoch 182/200\n",
            "3459/3459 - 42s - loss: 0.3462 - accuracy: 0.8640\n",
            "Epoch 183/200\n",
            "3459/3459 - 43s - loss: 0.3436 - accuracy: 0.8666\n",
            "Epoch 184/200\n",
            "3459/3459 - 44s - loss: 0.3434 - accuracy: 0.8646\n",
            "Epoch 185/200\n",
            "3459/3459 - 43s - loss: 0.3415 - accuracy: 0.8654\n",
            "Epoch 186/200\n",
            "3459/3459 - 43s - loss: 0.3428 - accuracy: 0.8656\n",
            "Epoch 187/200\n",
            "3459/3459 - 43s - loss: 0.3423 - accuracy: 0.8655\n",
            "Epoch 188/200\n",
            "3459/3459 - 43s - loss: 0.3653 - accuracy: 0.8661\n",
            "Epoch 189/200\n",
            "3459/3459 - 43s - loss: 0.3379 - accuracy: 0.8661\n",
            "Epoch 190/200\n",
            "3459/3459 - 43s - loss: 0.3386 - accuracy: 0.8665\n",
            "Epoch 191/200\n",
            "3459/3459 - 43s - loss: 0.3367 - accuracy: 0.8672\n",
            "Epoch 192/200\n",
            "3459/3459 - 43s - loss: 0.3415 - accuracy: 0.8645\n",
            "Epoch 193/200\n",
            "3459/3459 - 43s - loss: 0.3415 - accuracy: 0.8668\n",
            "Epoch 194/200\n",
            "3459/3459 - 42s - loss: 0.3386 - accuracy: 0.8680\n",
            "Epoch 195/200\n",
            "3459/3459 - 43s - loss: 0.3410 - accuracy: 0.8666\n",
            "Epoch 196/200\n",
            "3459/3459 - 43s - loss: 0.3324 - accuracy: 0.8702\n",
            "Epoch 197/200\n",
            "3459/3459 - 43s - loss: 0.3384 - accuracy: 0.8683\n",
            "Epoch 198/200\n",
            "3459/3459 - 43s - loss: 0.3404 - accuracy: 0.8687\n",
            "Epoch 199/200\n",
            "3459/3459 - 43s - loss: 0.3404 - accuracy: 0.8674\n",
            "Epoch 200/200\n",
            "3459/3459 - 42s - loss: 0.3383 - accuracy: 0.8687\n",
            "71.85866236686707\n"
          ],
          "name": "stdout"
        }
      ]
    },
    {
      "cell_type": "code",
      "metadata": {
        "colab": {
          "base_uri": "https://localhost:8080/",
          "height": 295
        },
        "id": "4Y1VdW_T_99m",
        "outputId": "18c93eb6-f72c-4034-d5e1-2631814b9a56"
      },
      "source": [
        "import matplotlib.pyplot as plt\n",
        "\n",
        "plt.plot(history.history['accuracy'])\n",
        "plt.title('model accuracy')\n",
        "plt.ylabel('accuracy')\n",
        "plt.xlabel('epoch')\n",
        "plt.legend(['train'], loc='upper left')\n",
        "plt.show()"
      ],
      "execution_count": null,
      "outputs": [
        {
          "output_type": "display_data",
          "data": {
            "image/png": "[encoded data removed]",
            "text/plain": [
              "<Figure size 432x288 with 1 Axes>"
            ]
          },
          "metadata": {
            "tags": [],
            "needs_background": "light"
          }
        }
      ]
    },
    {
      "cell_type": "code",
      "metadata": {
        "colab": {
          "base_uri": "https://localhost:8080/",
          "height": 295
        },
        "id": "rcMQTr_N_99n",
        "outputId": "a4886cbe-9177-4b40-877b-f5cc1f985bf8"
      },
      "source": [
        "plt.plot(history.history['loss'])\n",
        "plt.title('model loss')\n",
        "plt.ylabel('loss')\n",
        "plt.xlabel('epoch')\n",
        "plt.legend(['train'], loc='upper left')\n",
        "plt.show()"
      ],
      "execution_count": null,
      "outputs": [
        {
          "output_type": "display_data",
          "data": {
            "image/png": "[encoded data removed]",
            "text/plain": [
              "<Figure size 432x288 with 1 Axes>"
            ]
          },
          "metadata": {
            "tags": [],
            "needs_background": "light"
          }
        }
      ]
    },
    {
      "cell_type": "code",
      "metadata": {
        "colab": {
          "base_uri": "https://localhost:8080/"
        },
        "id": "l8Yrr4YL_99o",
        "outputId": "df7d299a-3356-4b83-8b6b-1b6242782bb3"
      },
      "source": [
        "prediction = model.predict(final_input_test)\n",
        "\n",
        "max_given_input = np.argmax(test_labels, axis=1)\n",
        "max_predicted_output = np.argmax(prediction, axis=1)\n",
        "print(max_given_input)\n",
        "print(max_predicted_output)"
      ],
      "execution_count": null,
      "outputs": [
        {
          "output_type": "stream",
          "text": [
            "[1 1 0 ... 2 4 0]\n",
            "[1 1 0 ... 3 4 0]\n"
          ],
          "name": "stdout"
        }
      ]
    },
    {
      "cell_type": "code",
      "metadata": {
        "colab": {
          "base_uri": "https://localhost:8080/"
        },
        "id": "ht8cHvBn_99o",
        "outputId": "dd79c87f-91ec-4d07-c7f8-76c48eb1381f"
      },
      "source": [
        "!pip install scikit-plot"
      ],
      "execution_count": null,
      "outputs": [
        {
          "output_type": "stream",
          "text": [
            "Collecting scikit-plot\n",
            "  Downloading https://files.pythonhosted.org/packages/7c/47/32520e259340c140a4ad27c1b97050dd3254fdc517b1d59974d47037510e/scikit_plot-0.3.7-py3-none-any.whl\n",
            "Requirement already satisfied: scikit-learn>=0.18 in /usr/local/lib/python3.7/dist-packages (from scikit-plot) (0.22.2.post1)\n",
            "Requirement already satisfied: scipy>=0.9 in /usr/local/lib/python3.7/dist-packages (from scikit-plot) (1.4.1)\n",
            "Requirement already satisfied: joblib>=0.10 in /usr/local/lib/python3.7/dist-packages (from scikit-plot) (1.0.1)\n",
            "Requirement already satisfied: matplotlib>=1.4.0 in /usr/local/lib/python3.7/dist-packages (from scikit-plot) (3.2.2)\n",
            "Requirement already satisfied: numpy>=1.11.0 in /usr/local/lib/python3.7/dist-packages (from scikit-learn>=0.18->scikit-plot) (1.19.5)\n",
            "Requirement already satisfied: kiwisolver>=1.0.1 in /usr/local/lib/python3.7/dist-packages (from matplotlib>=1.4.0->scikit-plot) (1.3.1)\n",
            "Requirement already satisfied: python-dateutil>=2.1 in /usr/local/lib/python3.7/dist-packages (from matplotlib>=1.4.0->scikit-plot) (2.8.1)\n",
            "Requirement already satisfied: pyparsing!=2.0.4,!=2.1.2,!=2.1.6,>=2.0.1 in /usr/local/lib/python3.7/dist-packages (from matplotlib>=1.4.0->scikit-plot) (2.4.7)\n",
            "Requirement already satisfied: cycler>=0.10 in /usr/local/lib/python3.7/dist-packages (from matplotlib>=1.4.0->scikit-plot) (0.10.0)\n",
            "Requirement already satisfied: six>=1.5 in /usr/local/lib/python3.7/dist-packages (from python-dateutil>=2.1->matplotlib>=1.4.0->scikit-plot) (1.15.0)\n",
            "Installing collected packages: scikit-plot\n",
            "Successfully installed scikit-plot-0.3.7\n"
          ],
          "name": "stdout"
        }
      ]
    },
    {
      "cell_type": "code",
      "metadata": {
        "colab": {
          "base_uri": "https://localhost:8080/",
          "height": 747
        },
        "id": "agZSrPkN_99p",
        "outputId": "aebaaf96-e1ad-4a71-fe89-85dd69806a17"
      },
      "source": [
        "from scikitplot.metrics import plot_confusion_matrix\n",
        "\n",
        "fig, ax = plt.subplots(figsize=(16,12))\n",
        "plot_confusion_matrix(max_given_input, max_predicted_output, ax=ax)\n"
      ],
      "execution_count": null,
      "outputs": [
        {
          "output_type": "execute_result",
          "data": {
            "text/plain": [
              "<matplotlib.axes._subplots.AxesSubplot at 0x7ff2225a1910>"
            ]
          },
          "metadata": {
            "tags": []
          },
          "execution_count": 15
        },
        {
          "output_type": "display_data",
          "data": {
            "image/png": "[encoded data removed]",
            "text/plain": [
              "<Figure size 1152x864 with 2 Axes>"
            ]
          },
          "metadata": {
            "tags": [],
            "needs_background": "light"
          }
        }
      ]
    },
    {
      "cell_type": "code",
      "metadata": {
        "colab": {
          "base_uri": "https://localhost:8080/",
          "height": 308
        },
        "id": "sIedR6li_99p",
        "outputId": "57e08354-284f-4416-b842-dfa831db1102"
      },
      "source": [
        "import matplotlib.pyplot as plt\n",
        "\n",
        "fig, (ax1, ax2) = plt.subplots(2, sharex=True)\n",
        "fig.suptitle('Accuracy and Loss Curves')\n",
        "ax1.plot(history.history['accuracy'])\n",
        "ax2.plot(history.history['loss'])\n",
        "ax1.set(ylabel='accuracy percentage')\n",
        "ax2.set(xlabel='epochs', ylabel='loss')\n",
        "plt.savefig(\"/content/drive/MyDrive/capstone_plot_300.png\", dpi = 300)"
      ],
      "execution_count": null,
      "outputs": [
        {
          "output_type": "display_data",
          "data": {
            "image/png": "[encoded data removed]",
            "text/plain": [
              "<Figure size 432x288 with 2 Axes>"
            ]
          },
          "metadata": {
            "tags": [],
            "needs_background": "light"
          }
        }
      ]
    },
    {
      "cell_type": "code",
      "metadata": {
        "colab": {
          "base_uri": "https://localhost:8080/"
        },
        "id": "SdTzk9_V_99q",
        "outputId": "aa0ccf03-1c17-49f4-d6d2-f26e9d145a8b"
      },
      "source": [
        "model.save('/content/drive/MyDrive/AIS-CNN-Zone19-no-other.model')"
      ],
      "execution_count": null,
      "outputs": [
        {
          "output_type": "stream",
          "text": [
            "INFO:tensorflow:Assets written to: /content/drive/MyDrive/AIS-CNN-Zone19-no-other.model/assets\n"
          ],
          "name": "stdout"
        }
      ]
    }
  ]
}